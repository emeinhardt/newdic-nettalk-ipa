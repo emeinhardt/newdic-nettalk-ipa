{
 "cells": [
  {
   "cell_type": "markdown",
   "metadata": {},
   "source": [
    "**Notebook author:** emeinhardt@ucsd.edu"
   ]
  },
  {
   "cell_type": "code",
   "execution_count": 1,
   "metadata": {
    "ExecuteTime": {
     "end_time": "2019-04-15T17:23:16.569587Z",
     "start_time": "2019-04-15T17:23:16.565596Z"
    }
   },
   "outputs": [],
   "source": [
    "#Prints **all** console output, not just last item in cell \n",
    "from IPython.core.interactiveshell import InteractiveShell\n",
    "InteractiveShell.ast_node_interactivity = \"all\""
   ]
  },
  {
   "cell_type": "markdown",
   "metadata": {
    "toc": "true"
   },
   "source": [
    "<h1>Table of Contents<span class=\"tocSkip\"></span></h1>\n",
    "<div class=\"toc\"><ul class=\"toc-item\"><li><span><a href=\"#Overview-and-requirements\" data-toc-modified-id=\"Overview-and-requirements-1\"><span class=\"toc-item-num\">1&nbsp;&nbsp;</span>Overview and requirements</a></span><ul class=\"toc-item\"><li><span><a href=\"#Context\" data-toc-modified-id=\"Context-1.1\"><span class=\"toc-item-num\">1.1&nbsp;&nbsp;</span>Context</a></span></li><li><span><a href=\"#About-the-transcriptions\" data-toc-modified-id=\"About-the-transcriptions-1.2\"><span class=\"toc-item-num\">1.2&nbsp;&nbsp;</span>About the transcriptions</a></span></li><li><span><a href=\"#This-notebook\" data-toc-modified-id=\"This-notebook-1.3\"><span class=\"toc-item-num\">1.3&nbsp;&nbsp;</span>This notebook</a></span></li></ul></li><li><span><a href=\"#Import-data\" data-toc-modified-id=\"Import-data-2\"><span class=\"toc-item-num\">2&nbsp;&nbsp;</span>Import data</a></span><ul class=\"toc-item\"><li><span><a href=\"#Hammond's-newdic\" data-toc-modified-id=\"Hammond's-newdic-2.1\"><span class=\"toc-item-num\">2.1&nbsp;&nbsp;</span>Hammond's newdic</a></span></li></ul></li><li><span><a href=\"#Identify-the-inventory-of-symbols\" data-toc-modified-id=\"Identify-the-inventory-of-symbols-3\"><span class=\"toc-item-num\">3&nbsp;&nbsp;</span>Identify the inventory of symbols</a></span></li><li><span><a href=\"#Convert-phonological-representations-to-IPA\" data-toc-modified-id=\"Convert-phonological-representations-to-IPA-4\"><span class=\"toc-item-num\">4&nbsp;&nbsp;</span>Convert phonological representations to IPA</a></span><ul class=\"toc-item\"><li><span><a href=\"#Group-symbols-to-be-mapped\" data-toc-modified-id=\"Group-symbols-to-be-mapped-4.1\"><span class=\"toc-item-num\">4.1&nbsp;&nbsp;</span>Group symbols to be mapped</a></span><ul class=\"toc-item\"><li><span><a href=\"#Fricatives-and-Affricates\" data-toc-modified-id=\"Fricatives-and-Affricates-4.1.1\"><span class=\"toc-item-num\">4.1.1&nbsp;&nbsp;</span>Fricatives and Affricates</a></span></li><li><span><a href=\"#Oral-stops\" data-toc-modified-id=\"Oral-stops-4.1.2\"><span class=\"toc-item-num\">4.1.2&nbsp;&nbsp;</span>Oral stops</a></span></li><li><span><a href=\"#Nasal-stops\" data-toc-modified-id=\"Nasal-stops-4.1.3\"><span class=\"toc-item-num\">4.1.3&nbsp;&nbsp;</span>Nasal stops</a></span></li><li><span><a href=\"#Liquids-and-Glides\" data-toc-modified-id=\"Liquids-and-Glides-4.1.4\"><span class=\"toc-item-num\">4.1.4&nbsp;&nbsp;</span>Liquids and Glides</a></span></li><li><span><a href=\"#Low-vowels\" data-toc-modified-id=\"Low-vowels-4.1.5\"><span class=\"toc-item-num\">4.1.5&nbsp;&nbsp;</span>Low vowels</a></span></li><li><span><a href=\"#Mid-vowels\" data-toc-modified-id=\"Mid-vowels-4.1.6\"><span class=\"toc-item-num\">4.1.6&nbsp;&nbsp;</span>Mid vowels</a></span></li><li><span><a href=\"#High-vowels\" data-toc-modified-id=\"High-vowels-4.1.7\"><span class=\"toc-item-num\">4.1.7&nbsp;&nbsp;</span>High vowels</a></span></li><li><span><a href=\"#Diphthongs\" data-toc-modified-id=\"Diphthongs-4.1.8\"><span class=\"toc-item-num\">4.1.8&nbsp;&nbsp;</span>Diphthongs</a></span></li><li><span><a href=\"#Altogether\" data-toc-modified-id=\"Altogether-4.1.9\"><span class=\"toc-item-num\">4.1.9&nbsp;&nbsp;</span>Altogether</a></span></li></ul></li><li><span><a href=\"#Define-newdic-inventory-->-IPA-mapping\" data-toc-modified-id=\"Define-newdic-inventory-->-IPA-mapping-4.2\"><span class=\"toc-item-num\">4.2&nbsp;&nbsp;</span>Define newdic inventory -&gt; IPA mapping</a></span></li><li><span><a href=\"#Transform-transcriptions-to-IPA...\" data-toc-modified-id=\"Transform-transcriptions-to-IPA...-4.3\"><span class=\"toc-item-num\">4.3&nbsp;&nbsp;</span>Transform transcriptions to IPA...</a></span></li><li><span><a href=\"#Transform-entries-to-have-IPA-transcriptions...\" data-toc-modified-id=\"Transform-entries-to-have-IPA-transcriptions...-4.4\"><span class=\"toc-item-num\">4.4&nbsp;&nbsp;</span>Transform entries to have IPA transcriptions...</a></span></li><li><span><a href=\"#Write-to-file-/-read-back-in\" data-toc-modified-id=\"Write-to-file-/-read-back-in-4.5\"><span class=\"toc-item-num\">4.5&nbsp;&nbsp;</span>Write to file / read back in</a></span></li></ul></li></ul></div>"
   ]
  },
  {
   "cell_type": "markdown",
   "metadata": {},
   "source": [
    "# Overview and requirements"
   ]
  },
  {
   "cell_type": "markdown",
   "metadata": {},
   "source": [
    "## Context\n",
    "\n",
    "Prof. Mike Hammond has a transcribed and annotated dictionary of American English located at \n",
    " - http://dingo.sbs.arizona.edu/~hammond/lsasummer11/newdic\n",
    "\n",
    "There's no documentation I'm aware of as to where any of this information came from. It was used to help create the inventory of American English diphones for Warner et al. 2014 (\"Tracking the perception of the sounds of English\").\n",
    "\n",
    "If you google some of the transcriptions, it appears the transcriptions are the same as those in the 'NETtalk corpus' of Sejnowski & Rosenberg 1987 (\"Parallel networks that learn to pronounce English text\"). The dataset can be found at UCI's Machine Learning Repository here\n",
    " - https://archive.ics.uci.edu/ml/datasets/Connectionist+Bench+(Nettalk+Corpus)\n",
    " \n",
    "Both `newdic.txt` and `nettalk.data` are included in this repository. The two files are not identical and contain slightly different annotations about each entry; newdic appears to contain about 500 fewer entries."
   ]
  },
  {
   "cell_type": "markdown",
   "metadata": {},
   "source": [
    "## About the transcriptions\n",
    "\n",
    "The text of Sejnowski & Rosenberg indicates that the transcriptions came from an unspecified version of *Meriam Webster's Pocket Dictionary*. (In other words, we have no systematic information or documentation about what the inventory is or what the assumptions of the transcribers were.)\n",
    "\n",
    "Each line of both dictionaries associates an orthographic wordform with a transcription, information about stress and syllabic structure, and other information. In the case of `nettalk.data`, this is an integer indicating whether the word is foreign or irregular. In the case of `newdic.txt`, this is a column explicitly indicating which syllable (counting from the left) has primary stress, what might be frequency count information (from an unknown dataset), and a list of part-of-speech tags that the orthographic wordform can have (based on an unknown dataset or annotation procedure).\n",
    "\n",
    "There are about 20k entries in each file and each associates an orthographic wordform with exactly one transcription."
   ]
  },
  {
   "cell_type": "markdown",
   "metadata": {},
   "source": [
    "## This notebook\n",
    "\n",
    "This notebook converts the transcriptions in `newdic.txt` to Unicode IPA symbols and documents my choices / my process of identifying correspondences.\n",
    "\n",
    "I am using Python 3. (Note that Python /3/ makes Unicode much more straightforward and painless to deal with than Python 2.) There are no other salient dependencies."
   ]
  },
  {
   "cell_type": "markdown",
   "metadata": {},
   "source": [
    "# Import data"
   ]
  },
  {
   "cell_type": "code",
   "execution_count": 2,
   "metadata": {
    "ExecuteTime": {
     "end_time": "2019-04-15T17:23:16.592305Z",
     "start_time": "2019-04-15T17:23:16.573483Z"
    }
   },
   "outputs": [
    {
     "data": {
      "text/plain": [
       "'/mnt/cube/home/AD/emeinhar/newdic-nettalk'"
      ]
     },
     "execution_count": 2,
     "metadata": {},
     "output_type": "execute_result"
    }
   ],
   "source": [
    "%pwd"
   ]
  },
  {
   "cell_type": "code",
   "execution_count": 3,
   "metadata": {
    "ExecuteTime": {
     "end_time": "2019-04-15T17:23:16.598607Z",
     "start_time": "2019-04-15T17:23:16.594647Z"
    }
   },
   "outputs": [],
   "source": [
    "import csv"
   ]
  },
  {
   "cell_type": "markdown",
   "metadata": {},
   "source": [
    "## Hammond's newdic"
   ]
  },
  {
   "cell_type": "code",
   "execution_count": 4,
   "metadata": {
    "ExecuteTime": {
     "end_time": "2019-04-15T17:23:16.712820Z",
     "start_time": "2019-04-15T17:23:16.600230Z"
    }
   },
   "outputs": [
    {
     "name": "stdout",
     "output_type": "stream",
     "text": [
      "newdic.txt\r\n"
     ]
    }
   ],
   "source": [
    "%ls newdic*"
   ]
  },
  {
   "cell_type": "code",
   "execution_count": 5,
   "metadata": {
    "ExecuteTime": {
     "end_time": "2019-04-15T17:23:16.718394Z",
     "start_time": "2019-04-15T17:23:16.715731Z"
    }
   },
   "outputs": [],
   "source": [
    "newdic_fn = \"newdic.txt\""
   ]
  },
  {
   "cell_type": "code",
   "execution_count": 6,
   "metadata": {
    "ExecuteTime": {
     "end_time": "2019-04-15T17:23:16.836185Z",
     "start_time": "2019-04-15T17:23:16.721185Z"
    }
   },
   "outputs": [
    {
     "name": "stdout",
     "output_type": "stream",
     "text": [
      "     1\tx\t_\tS1\ta\t23178\t(N IA VB PP)\r",
      "\r\n",
      "     2\tardvark\t'`\tS2\taardvark\t0\t(N)\r",
      "\r\n",
      "     3\txb@k\t_'\tS2\taback\t2\t(AV)\r",
      "\r\n",
      "     4\t@bxkxs\t'__\tS3\tabacus\t0\t(N)\r",
      "\r\n",
      "     5\txb@ft\t_'\tS2\tabaft\t0\t(AV PP)\r",
      "\r\n",
      "     6\t@bxloni\t`_'_\tS4\tabalone\t0\t(N)\r",
      "\r\n",
      "     7\txb@nd|n\t_'_\tS3\tabandon\t17\t(VT N)\r",
      "\r\n",
      "     8\txbes\t_'\tS2\tabase\t0\t(VT)\r",
      "\r\n",
      "     9\txb@S\t_'\tS2\tabash\t0\t(VT)\r",
      "\r\n",
      "    10\txbet\t_'\tS2\tabate\t0\t(VT VI)\r",
      "\r\n",
      "    11\t@bxti\t'_`\tS3\tabatis\t0\t(N)\r",
      "\r\n",
      "    12\t@bxtwar\t'_`\tS3\tabattoir\t0\t(N)\r",
      "\r\n",
      "    13\t@bxsi\t'__\tS3\tabbacy\t0\t(N)\r",
      "\r\n",
      "    14\t@be\t_'\tS2\tabbe\t3\t(N)\r",
      "\r\n",
      "    15\t@bxs\t'_\tS2\tabbess\t0\t(N)\r",
      "\r\n",
      "    16\t@bi\t'_\tS2\tabbey\t7\t(N)\r",
      "\r\n",
      "    17\t@bxt\t'_\tS2\tabbot\t2\t(N)\r",
      "\r\n",
      "    18\txbriviet\t_'_`\tS4\tabbreviate\t0\t(VT)\r",
      "\r\n",
      "    19\txbrivieS|n\t_`_'_\tS5\tabbreviation\t1\t(N)\r",
      "\r\n",
      "    20\t@bdIket\t'_`\tS3\tabdicate\t0\t(VT VI)\r",
      "\r\n",
      "    21\t@bdIkeS|n\t`_'_\tS4\tabdication\t0\t(N)\r",
      "\r\n",
      "    22\t@bdxmxn\t'__\tS3\tabdomen\t6\t(N)\r",
      "\r\n",
      "    23\t@bdamxnL\t_'__\tS4\tabdominal\t4\t(AJ)\r",
      "\r\n",
      "    24\t@bd^kt\t_'\tS2\tabduct\t0\t(VT)\r",
      "\r\n",
      "    25\txbim\t_'\tS2\tabeam\t0\t(AV)\r",
      "\r\n",
      "    26\tebisidErixn\t`_`'__\tS6\tabecedarian\t0\t(N AJ)\r",
      "\r\n",
      "    27\txbEd\t_'\tS2\tabed\t1\t(AV)\r",
      "\r\n",
      "    28\t@bErxnt\t_'_\tS3\taberrant\t5\t(AJ N)\r",
      "\r\n",
      "    29\t@bXeS|n\t`_'_\tS4\taberration\t3\t(N)\r",
      "\r\n",
      "    30\txbEt\t_'\tS2\tabet\t0\t(VT)\r",
      "\r\n",
      "    31\txbexns\t_'_\tS3\tabeyance\t3\t(N)\r",
      "\r\n",
      "    32\txbhcr\t_'\tS2\tabhor\t0\t(VT)\r",
      "\r\n",
      "    33\txbYd\t_'\tS2\tabide\t7\t(VT VI N)\r",
      "\r\n",
      "    34\txbIl|ti\t_'__\tS4\tability\t74\t(N)\r",
      "\r\n",
      "    35\t@bJEkt\t'`\tS2\tabject\t3\t(AJ)\r",
      "\r\n",
      "    36\t@bJEkS|n\t_'_\tS3\tabjection\t1\t(N)\r",
      "\r\n",
      "    37\t@bJEktli\t'`_\tS3\tabjectly\t1\t(AV)\r",
      "\r\n",
      "    38\t@bJxreS|n\t`_'_\tS4\tabjuration\t0\t(N)\r",
      "\r\n",
      "    39\t@bJUr\t_'\tS2\tabjure\t0\t(VT)\r",
      "\r\n",
      "    40\t@blet\t_'\tS2\tablate\t0\t(VT VI)\r",
      "\r\n",
      "    41\t@blxtIv\t'__\tS3\tablative\t0\t(AJ)\r",
      "\r\n",
      "    42\txblez\t_'\tS2\tablaze\t3\t(AJ)\r",
      "\r\n",
      "    43\tebL\t'_\tS2\table\t216\t(AJ)\r",
      "\r\n",
      "    44\txblum\t_'\tS2\tabloom\t0\t(AJ)\r",
      "\r\n",
      "    45\txbluS|n\t_'_\tS3\tablution\t0\t(N)\r",
      "\r\n",
      "    46\t@bnIget\t'_`\tS3\tabnegate\t0\t(VT)\r",
      "\r\n",
      "    47\t@bnIgeS|n\t`_'_\tS4\tabnegation\t0\t(N)\r",
      "\r\n",
      "    48\t@bncrmL\t`'_\tS3\tabnormal\t3\t(AJ)\r",
      "\r\n",
      "    49\t@bncrm@l|ti\t``'__\tS5\tabnormality\t0\t(N)\r",
      "\r\n",
      "    50\t@bncrmLi\t_'__\tS4\tabnormally\t1\t(AV)\r",
      "\r\n",
      "    51\txbord\t_'\tS2\taboard\t25\t(AV PP)\r",
      "\r\n",
      "    52\txbod\t_'\tS2\tabode\t4\t(N)\r",
      "\r\n",
      "    53\txbalIS\t_'_\tS3\tabolish\t8\t(VT)\r",
      "\r\n",
      "    54\t@bxlIS|n\t`_'_\tS4\tabolition\t10\t(N)\r",
      "\r\n",
      "    55\t@bxlIS|n|st\t`_'__\tS5\tabolitionist\t1\t(N AJ)\r",
      "\r\n",
      "    56\txbamxnxbL\t_'___\tS5\tabominable\t0\t(AJ)\r",
      "\r\n",
      "    57\txbamxnet\t_'_`\tS4\tabominate\t0\t(VT)\r",
      "\r\n",
      "    58\t@bXIJ|nL\t__'__\tS5\taboriginal\t1\t(AJ)\r",
      "\r\n",
      "    59\t@bXIJ|ni\t`_'_`\tS5\taborigine\t7\t(N)\r",
      "\r\n",
      "    60\txbcrnIG\t_'_\tS3\taborning\t0\t(AV)\r",
      "\r\n",
      "cat: write error: Broken pipe\r\n"
     ]
    }
   ],
   "source": [
    "%cat -n newdic.txt | head -60"
   ]
  },
  {
   "cell_type": "code",
   "execution_count": 7,
   "metadata": {
    "ExecuteTime": {
     "end_time": "2019-04-15T17:23:16.940011Z",
     "start_time": "2019-04-15T17:23:16.838633Z"
    }
   },
   "outputs": [
    {
     "data": {
      "text/plain": [
       "OrderedDict([('Transcription', 'x'),\n",
       "             ('stressInfoA', '_'),\n",
       "             ('stressInfoB', 'S1'),\n",
       "             ('Orthography', 'a'),\n",
       "             ('Frequency', '23178'),\n",
       "             ('PoSs', '(N IA VB PP)')])"
      ]
     },
     "execution_count": 7,
     "metadata": {},
     "output_type": "execute_result"
    },
    {
     "data": {
      "text/plain": [
       "6"
      ]
     },
     "execution_count": 7,
     "metadata": {},
     "output_type": "execute_result"
    }
   ],
   "source": [
    "newdic_raw = []\n",
    "fieldnames = ['Transcription', 'stressInfoA', 'stressInfoB', 'Orthography', 'Frequency', 'PoSs']\n",
    "with open(newdic_fn) as csvfile:\n",
    "    my_reader = csv.DictReader(csvfile, delimiter='\\t', fieldnames=fieldnames)\n",
    "    for row in my_reader:\n",
    "        #print(row)\n",
    "        newdic_raw.append(row)\n",
    "\n",
    "newdic_raw[0]\n",
    "len(newdic_raw[0].keys())"
   ]
  },
  {
   "cell_type": "markdown",
   "metadata": {},
   "source": [
    "# Identify the inventory of symbols"
   ]
  },
  {
   "cell_type": "code",
   "execution_count": 8,
   "metadata": {
    "ExecuteTime": {
     "end_time": "2019-04-15T17:23:16.943700Z",
     "start_time": "2019-04-15T17:23:16.941467Z"
    }
   },
   "outputs": [],
   "source": [
    "from functools import reduce"
   ]
  },
  {
   "cell_type": "code",
   "execution_count": 9,
   "metadata": {
    "ExecuteTime": {
     "end_time": "2019-04-15T17:23:16.949938Z",
     "start_time": "2019-04-15T17:23:16.945057Z"
    }
   },
   "outputs": [],
   "source": [
    "def union(Ss):\n",
    "    return reduce(set.union, Ss)"
   ]
  },
  {
   "cell_type": "code",
   "execution_count": 10,
   "metadata": {
    "ExecuteTime": {
     "end_time": "2019-04-15T17:23:16.960578Z",
     "start_time": "2019-04-15T17:23:16.951814Z"
    }
   },
   "outputs": [
    {
     "data": {
      "text/plain": [
       "['x',\n",
       " 'ardvark',\n",
       " 'xb@k',\n",
       " '@bxkxs',\n",
       " 'xb@ft',\n",
       " '@bxloni',\n",
       " 'xb@nd|n',\n",
       " 'xbes',\n",
       " 'xb@S',\n",
       " 'xbet']"
      ]
     },
     "execution_count": 10,
     "metadata": {},
     "output_type": "execute_result"
    }
   ],
   "source": [
    "transcriptions = [row['Transcription'] for row in newdic_raw]\n",
    "transcriptions[:10]"
   ]
  },
  {
   "cell_type": "code",
   "execution_count": 11,
   "metadata": {
    "ExecuteTime": {
     "end_time": "2019-04-15T17:23:16.988417Z",
     "start_time": "2019-04-15T17:23:16.962127Z"
    }
   },
   "outputs": [
    {
     "data": {
      "text/plain": [
       "45"
      ]
     },
     "execution_count": 11,
     "metadata": {},
     "output_type": "execute_result"
    },
    {
     "data": {
      "text/plain": [
       "{'@',\n",
       " 'C',\n",
       " 'D',\n",
       " 'E',\n",
       " 'G',\n",
       " 'I',\n",
       " 'J',\n",
       " 'L',\n",
       " 'M',\n",
       " 'N',\n",
       " 'O',\n",
       " 'R',\n",
       " 'S',\n",
       " 'T',\n",
       " 'U',\n",
       " 'W',\n",
       " 'X',\n",
       " 'Y',\n",
       " 'Z',\n",
       " '^',\n",
       " 'a',\n",
       " 'b',\n",
       " 'c',\n",
       " 'd',\n",
       " 'e',\n",
       " 'f',\n",
       " 'g',\n",
       " 'h',\n",
       " 'i',\n",
       " 'k',\n",
       " 'l',\n",
       " 'm',\n",
       " 'n',\n",
       " 'o',\n",
       " 'p',\n",
       " 'r',\n",
       " 's',\n",
       " 't',\n",
       " 'u',\n",
       " 'v',\n",
       " 'w',\n",
       " 'x',\n",
       " 'y',\n",
       " 'z',\n",
       " '|'}"
      ]
     },
     "execution_count": 11,
     "metadata": {},
     "output_type": "execute_result"
    }
   ],
   "source": [
    "getSymbols = lambda transcription: set(transcription)\n",
    "symbols = union(map(getSymbols, transcriptions))\n",
    "len(symbols)\n",
    "symbols"
   ]
  },
  {
   "cell_type": "markdown",
   "metadata": {},
   "source": [
    "# Convert phonological representations to IPA"
   ]
  },
  {
   "cell_type": "code",
   "execution_count": 12,
   "metadata": {
    "ExecuteTime": {
     "end_time": "2019-04-15T17:23:16.993321Z",
     "start_time": "2019-04-15T17:23:16.989959Z"
    }
   },
   "outputs": [
    {
     "data": {
      "text/plain": [
       "OrderedDict([('Transcription', 'xb@k'),\n",
       "             ('stressInfoA', \"_'\"),\n",
       "             ('stressInfoB', 'S2'),\n",
       "             ('Orthography', 'aback'),\n",
       "             ('Frequency', '2'),\n",
       "             ('PoSs', '(AV)')])"
      ]
     },
     "execution_count": 12,
     "metadata": {},
     "output_type": "execute_result"
    }
   ],
   "source": [
    "newdic_raw[2]"
   ]
  },
  {
   "cell_type": "markdown",
   "metadata": {},
   "source": [
    "We want to convert the transcription field into a string of IPA symbols, with each segment separated by a '.'"
   ]
  },
  {
   "cell_type": "markdown",
   "metadata": {},
   "source": [
    "## Group symbols to be mapped"
   ]
  },
  {
   "cell_type": "markdown",
   "metadata": {},
   "source": [
    "This subsection incrementally shows/documents the mapping into IPA symbols with examples."
   ]
  },
  {
   "cell_type": "code",
   "execution_count": 13,
   "metadata": {
    "ExecuteTime": {
     "end_time": "2019-04-15T17:23:16.998235Z",
     "start_time": "2019-04-15T17:23:16.994839Z"
    }
   },
   "outputs": [],
   "source": [
    "def wordsWithSymbol(s):\n",
    "    return [row for row in newdic_raw if s in row['Transcription']]"
   ]
  },
  {
   "cell_type": "code",
   "execution_count": 14,
   "metadata": {
    "ExecuteTime": {
     "end_time": "2019-04-15T17:23:17.018260Z",
     "start_time": "2019-04-15T17:23:17.000129Z"
    }
   },
   "outputs": [
    {
     "data": {
      "text/plain": [
       "45"
      ]
     },
     "execution_count": 14,
     "metadata": {},
     "output_type": "execute_result"
    },
    {
     "data": {
      "text/plain": [
       "45"
      ]
     },
     "execution_count": 14,
     "metadata": {},
     "output_type": "execute_result"
    },
    {
     "data": {
      "text/plain": [
       "set()"
      ]
     },
     "execution_count": 14,
     "metadata": {},
     "output_type": "execute_result"
    },
    {
     "data": {
      "text/plain": [
       "set()"
      ]
     },
     "execution_count": 14,
     "metadata": {},
     "output_type": "execute_result"
    }
   ],
   "source": [
    "# preliminary sorting of consonants by manner\n",
    "fricativesAffricates = ('f','v','T','D','s','z','S','Z','C','J','h') #fricatives and affricates organized by place\n",
    "oralStops = ('p','b','t','d','k','g') #oral stops by place\n",
    "nasalStops = ('m','n','G','M','N') #non-syllabic nasal stops by place + syllabic nasals by place\n",
    "liquidsGlides = ('w','y','r','l','L') #liquids and glides in no particular order\n",
    "consonants = set(fricativesAffricates) | set(oralStops) | set(nasalStops) | set(liquidsGlides)\n",
    "\n",
    "#preliminary sorting of monopthongs by height + dipthongs\n",
    "lowVowels = ('@','c','a')\n",
    "midVowels = ('x','^','X','R','E')\n",
    "highVowels = ('i','I','|','U','u')\n",
    "diphthongs = ('W','o','e','O','Y')\n",
    "vowels = set(lowVowels) | set(midVowels) | set(highVowels) | set(diphthongs)\n",
    "\n",
    "len(symbols)\n",
    "len(consonants | vowels)\n",
    "symbols - (consonants | vowels)\n",
    "(consonants | vowels) - symbols"
   ]
  },
  {
   "cell_type": "code",
   "execution_count": 15,
   "metadata": {
    "ExecuteTime": {
     "end_time": "2019-04-15T17:23:17.023135Z",
     "start_time": "2019-04-15T17:23:17.020067Z"
    }
   },
   "outputs": [],
   "source": [
    "from random import choice, choices\n",
    "\n",
    "def nExampleWordsWith(s, n=10):\n",
    "    return choices(wordsWithSymbol(s), k=n)"
   ]
  },
  {
   "cell_type": "code",
   "execution_count": 16,
   "metadata": {
    "ExecuteTime": {
     "end_time": "2019-04-15T17:23:17.125395Z",
     "start_time": "2019-04-15T17:23:17.025050Z"
    }
   },
   "outputs": [],
   "source": [
    "exampleMap = {s:nExampleWordsWith(s) for s in symbols}"
   ]
  },
  {
   "cell_type": "code",
   "execution_count": 17,
   "metadata": {
    "ExecuteTime": {
     "end_time": "2019-04-15T17:23:17.129226Z",
     "start_time": "2019-04-15T17:23:17.127074Z"
    }
   },
   "outputs": [],
   "source": [
    "mapping = dict()"
   ]
  },
  {
   "cell_type": "code",
   "execution_count": 18,
   "metadata": {
    "ExecuteTime": {
     "end_time": "2019-04-15T17:23:17.134516Z",
     "start_time": "2019-04-15T17:23:17.130695Z"
    }
   },
   "outputs": [],
   "source": [
    "def addMapping(newdicSymbol, IPAsymbol):\n",
    "    mapping.update({newdicSymbol: IPAsymbol})"
   ]
  },
  {
   "cell_type": "markdown",
   "metadata": {},
   "source": [
    "### Fricatives and Affricates"
   ]
  },
  {
   "cell_type": "code",
   "execution_count": 19,
   "metadata": {
    "ExecuteTime": {
     "end_time": "2019-04-15T17:23:17.144129Z",
     "start_time": "2019-04-15T17:23:17.140081Z"
    }
   },
   "outputs": [
    {
     "data": {
      "text/plain": [
       "('f', 'v', 'T', 'D', 's', 'z', 'S', 'Z', 'C', 'J', 'h')"
      ]
     },
     "execution_count": 19,
     "metadata": {},
     "output_type": "execute_result"
    }
   ],
   "source": [
    "fricativesAffricates"
   ]
  },
  {
   "cell_type": "code",
   "execution_count": 20,
   "metadata": {
    "ExecuteTime": {
     "end_time": "2019-04-15T17:23:17.150027Z",
     "start_time": "2019-04-15T17:23:17.147479Z"
    }
   },
   "outputs": [],
   "source": [
    "addMapping('f','f')\n",
    "addMapping('v','v')\n",
    "addMapping('s','s')\n",
    "addMapping('z','z')\n",
    "addMapping('h','h')"
   ]
  },
  {
   "cell_type": "code",
   "execution_count": 21,
   "metadata": {
    "ExecuteTime": {
     "end_time": "2019-04-15T17:23:17.157297Z",
     "start_time": "2019-04-15T17:23:17.151407Z"
    }
   },
   "outputs": [
    {
     "data": {
      "text/plain": [
       "[OrderedDict([('Transcription', 'txlEpxTi'),\n",
       "              ('stressInfoA', \"_'__\"),\n",
       "              ('stressInfoB', 'S4'),\n",
       "              ('Orthography', 'telepathy'),\n",
       "              ('Frequency', '3'),\n",
       "              ('PoSs', '(N)')]),\n",
       " OrderedDict([('Transcription', 'TrIft'),\n",
       "              ('stressInfoA', \"'\"),\n",
       "              ('stressInfoB', 'S1'),\n",
       "              ('Orthography', 'thrift'),\n",
       "              ('Frequency', '5'),\n",
       "              ('PoSs', '(N)')])]"
      ]
     },
     "execution_count": 21,
     "metadata": {},
     "output_type": "execute_result"
    }
   ],
   "source": [
    "exampleMap['T'][:2] # θ"
   ]
  },
  {
   "cell_type": "code",
   "execution_count": 22,
   "metadata": {
    "ExecuteTime": {
     "end_time": "2019-04-15T17:23:17.161972Z",
     "start_time": "2019-04-15T17:23:17.159317Z"
    }
   },
   "outputs": [],
   "source": [
    "addMapping('T', 'θ')"
   ]
  },
  {
   "cell_type": "code",
   "execution_count": 23,
   "metadata": {
    "ExecuteTime": {
     "end_time": "2019-04-15T17:23:17.169210Z",
     "start_time": "2019-04-15T17:23:17.163872Z"
    }
   },
   "outputs": [
    {
     "data": {
      "text/plain": [
       "[OrderedDict([('Transcription', 'DEr'),\n",
       "              ('stressInfoA', \"'\"),\n",
       "              ('stressInfoB', 'S1'),\n",
       "              ('Orthography', 'their'),\n",
       "              ('Frequency', '2668'),\n",
       "              ('PoSs', '(AJ)')]),\n",
       " OrderedDict([('Transcription', 'loDli'),\n",
       "              ('stressInfoA', \"'_\"),\n",
       "              ('stressInfoB', 'S2'),\n",
       "              ('Orthography', 'loathly'),\n",
       "              ('Frequency', '0'),\n",
       "              ('PoSs', '(AJ AV)')])]"
      ]
     },
     "execution_count": 23,
     "metadata": {},
     "output_type": "execute_result"
    }
   ],
   "source": [
    "exampleMap['D'][:2] # ð"
   ]
  },
  {
   "cell_type": "code",
   "execution_count": 24,
   "metadata": {
    "ExecuteTime": {
     "end_time": "2019-04-15T17:23:17.173657Z",
     "start_time": "2019-04-15T17:23:17.170948Z"
    }
   },
   "outputs": [],
   "source": [
    "addMapping('D', 'ð')"
   ]
  },
  {
   "cell_type": "code",
   "execution_count": 25,
   "metadata": {
    "ExecuteTime": {
     "end_time": "2019-04-15T17:23:17.180615Z",
     "start_time": "2019-04-15T17:23:17.175476Z"
    }
   },
   "outputs": [
    {
     "data": {
      "text/plain": [
       "[OrderedDict([('Transcription', 'xJudIkeS|n'),\n",
       "              ('stressInfoA', \"_`_'_\"),\n",
       "              ('stressInfoB', 'S5'),\n",
       "              ('Orthography', 'adjudication'),\n",
       "              ('Frequency', '4'),\n",
       "              ('PoSs', '(N)')]),\n",
       " OrderedDict([('Transcription', 'wcSX'),\n",
       "              ('stressInfoA', \"'_\"),\n",
       "              ('stressInfoB', 'S2'),\n",
       "              ('Orthography', 'washer'),\n",
       "              ('Frequency', '2'),\n",
       "              ('PoSs', '(N)')])]"
      ]
     },
     "execution_count": 25,
     "metadata": {},
     "output_type": "execute_result"
    }
   ],
   "source": [
    "exampleMap['S'][:2] # ʃ"
   ]
  },
  {
   "cell_type": "code",
   "execution_count": 26,
   "metadata": {
    "ExecuteTime": {
     "end_time": "2019-04-15T17:23:17.184907Z",
     "start_time": "2019-04-15T17:23:17.181838Z"
    }
   },
   "outputs": [],
   "source": [
    "addMapping('S', 'ʃ')"
   ]
  },
  {
   "cell_type": "code",
   "execution_count": 27,
   "metadata": {
    "ExecuteTime": {
     "end_time": "2019-04-15T17:23:17.191321Z",
     "start_time": "2019-04-15T17:23:17.186237Z"
    }
   },
   "outputs": [
    {
     "data": {
      "text/plain": [
       "[OrderedDict([('Transcription', 'ImRZ|n'),\n",
       "              ('stressInfoA', \"_'_\"),\n",
       "              ('stressInfoB', 'S3'),\n",
       "              ('Orthography', 'immersion'),\n",
       "              ('Frequency', '2'),\n",
       "              ('PoSs', '(N)')]),\n",
       " OrderedDict([('Transcription', 'nEglxZe'),\n",
       "              ('stressInfoA', \"`_'\"),\n",
       "              ('stressInfoB', 'S3'),\n",
       "              ('Orthography', 'neglige'),\n",
       "              ('Frequency', '0'),\n",
       "              ('PoSs', '(N)')])]"
      ]
     },
     "execution_count": 27,
     "metadata": {},
     "output_type": "execute_result"
    }
   ],
   "source": [
    "exampleMap['Z'][:2] # ʒ"
   ]
  },
  {
   "cell_type": "code",
   "execution_count": 28,
   "metadata": {
    "ExecuteTime": {
     "end_time": "2019-04-15T17:23:17.196242Z",
     "start_time": "2019-04-15T17:23:17.193040Z"
    }
   },
   "outputs": [],
   "source": [
    "addMapping('Z', 'ʒ')"
   ]
  },
  {
   "cell_type": "code",
   "execution_count": 29,
   "metadata": {
    "ExecuteTime": {
     "end_time": "2019-04-15T17:23:17.203250Z",
     "start_time": "2019-04-15T17:23:17.198061Z"
    }
   },
   "outputs": [
    {
     "data": {
      "text/plain": [
       "[OrderedDict([('Transcription', 'kWntXsIgnxCUr'),\n",
       "              ('stressInfoA', \"`_'_`\"),\n",
       "              ('stressInfoB', 'S5'),\n",
       "              ('Orthography', 'countersignature'),\n",
       "              ('Frequency', '0'),\n",
       "              ('PoSs', '(N)')]),\n",
       " OrderedDict([('Transcription', '@nCovi'),\n",
       "              ('stressInfoA', \"'__\"),\n",
       "              ('stressInfoB', 'S3'),\n",
       "              ('Orthography', 'anchovy'),\n",
       "              ('Frequency', '1'),\n",
       "              ('PoSs', '(N)')])]"
      ]
     },
     "execution_count": 29,
     "metadata": {},
     "output_type": "execute_result"
    }
   ],
   "source": [
    "exampleMap['C'][:2] # tʃ"
   ]
  },
  {
   "cell_type": "code",
   "execution_count": 30,
   "metadata": {
    "ExecuteTime": {
     "end_time": "2019-04-15T17:23:17.207895Z",
     "start_time": "2019-04-15T17:23:17.205142Z"
    }
   },
   "outputs": [],
   "source": [
    "addMapping('C', 'tʃ')"
   ]
  },
  {
   "cell_type": "code",
   "execution_count": 31,
   "metadata": {
    "ExecuteTime": {
     "end_time": "2019-04-15T17:23:17.214999Z",
     "start_time": "2019-04-15T17:23:17.209770Z"
    }
   },
   "outputs": [
    {
     "data": {
      "text/plain": [
       "[OrderedDict([('Transcription', 'J^GkCX'),\n",
       "              ('stressInfoA', \"'_\"),\n",
       "              ('stressInfoB', 'S2'),\n",
       "              ('Orthography', 'juncture'),\n",
       "              ('Frequency', '4'),\n",
       "              ('PoSs', '(N)')]),\n",
       " OrderedDict([('Transcription', 'taksIkxlaJIk'),\n",
       "              ('stressInfoA', \"`__'_\"),\n",
       "              ('stressInfoB', 'S5'),\n",
       "              ('Orthography', 'toxicologic'),\n",
       "              ('Frequency', '0'),\n",
       "              ('PoSs', '(AJ)')])]"
      ]
     },
     "execution_count": 31,
     "metadata": {},
     "output_type": "execute_result"
    }
   ],
   "source": [
    "exampleMap['J'][:2] # dʒ"
   ]
  },
  {
   "cell_type": "code",
   "execution_count": 32,
   "metadata": {
    "ExecuteTime": {
     "end_time": "2019-04-15T17:23:17.218611Z",
     "start_time": "2019-04-15T17:23:17.216483Z"
    }
   },
   "outputs": [],
   "source": [
    "addMapping('J', 'dʒ')"
   ]
  },
  {
   "cell_type": "markdown",
   "metadata": {},
   "source": [
    "### Oral stops"
   ]
  },
  {
   "cell_type": "code",
   "execution_count": 33,
   "metadata": {
    "ExecuteTime": {
     "end_time": "2019-04-15T17:23:17.224784Z",
     "start_time": "2019-04-15T17:23:17.219873Z"
    }
   },
   "outputs": [
    {
     "data": {
      "text/plain": [
       "('p', 'b', 't', 'd', 'k', 'g')"
      ]
     },
     "execution_count": 33,
     "metadata": {},
     "output_type": "execute_result"
    }
   ],
   "source": [
    "oralStops"
   ]
  },
  {
   "cell_type": "code",
   "execution_count": 34,
   "metadata": {
    "ExecuteTime": {
     "end_time": "2019-04-15T17:23:17.230651Z",
     "start_time": "2019-04-15T17:23:17.226729Z"
    }
   },
   "outputs": [],
   "source": [
    "addMapping('p','p')\n",
    "addMapping('b','b')\n",
    "addMapping('t','t')\n",
    "addMapping('d','d')\n",
    "addMapping('k','k')\n",
    "addMapping('g','g')"
   ]
  },
  {
   "cell_type": "markdown",
   "metadata": {},
   "source": [
    "### Nasal stops"
   ]
  },
  {
   "cell_type": "code",
   "execution_count": 35,
   "metadata": {
    "ExecuteTime": {
     "end_time": "2019-04-15T17:23:17.237264Z",
     "start_time": "2019-04-15T17:23:17.232734Z"
    }
   },
   "outputs": [
    {
     "data": {
      "text/plain": [
       "('m', 'n', 'G', 'M', 'N')"
      ]
     },
     "execution_count": 35,
     "metadata": {},
     "output_type": "execute_result"
    }
   ],
   "source": [
    "nasalStops"
   ]
  },
  {
   "cell_type": "code",
   "execution_count": 36,
   "metadata": {
    "ExecuteTime": {
     "end_time": "2019-04-15T17:23:17.241818Z",
     "start_time": "2019-04-15T17:23:17.239133Z"
    }
   },
   "outputs": [],
   "source": [
    "addMapping('m','m')\n",
    "addMapping('n','n')"
   ]
  },
  {
   "cell_type": "code",
   "execution_count": 37,
   "metadata": {
    "ExecuteTime": {
     "end_time": "2019-04-15T17:23:17.286663Z",
     "start_time": "2019-04-15T17:23:17.243633Z"
    }
   },
   "outputs": [
    {
     "data": {
      "text/plain": [
       "[OrderedDict([('Transcription', 'bundcglIG'),\n",
       "              ('stressInfoA', \"'`_\"),\n",
       "              ('stressInfoB', 'S3'),\n",
       "              ('Orthography', 'boondoggling'),\n",
       "              ('Frequency', '0'),\n",
       "              ('PoSs', '(N)')]),\n",
       " OrderedDict([('Transcription', 'fIlIG'),\n",
       "              ('stressInfoA', \"'_\"),\n",
       "              ('stressInfoB', 'S2'),\n",
       "              ('Orthography', 'filling'),\n",
       "              ('Frequency', '37'),\n",
       "              ('PoSs', '(N)')])]"
      ]
     },
     "execution_count": 37,
     "metadata": {},
     "output_type": "execute_result"
    }
   ],
   "source": [
    "exampleMap['G'][:2] # ŋ"
   ]
  },
  {
   "cell_type": "code",
   "execution_count": 38,
   "metadata": {
    "ExecuteTime": {
     "end_time": "2019-04-15T17:23:17.291319Z",
     "start_time": "2019-04-15T17:23:17.288577Z"
    }
   },
   "outputs": [],
   "source": [
    "addMapping('G', 'ŋ')"
   ]
  },
  {
   "cell_type": "code",
   "execution_count": 39,
   "metadata": {
    "ExecuteTime": {
     "end_time": "2019-04-15T17:23:17.299392Z",
     "start_time": "2019-04-15T17:23:17.293228Z"
    }
   },
   "outputs": [
    {
     "data": {
      "text/plain": [
       "[OrderedDict([('Transcription', 'sedIzM'),\n",
       "              ('stressInfoA', \"'`_\"),\n",
       "              ('stressInfoB', 'S3'),\n",
       "              ('Orthography', 'sadism'),\n",
       "              ('Frequency', '3'),\n",
       "              ('PoSs', '(N)')]),\n",
       " OrderedDict([('Transcription', 'pEsxmIzM'),\n",
       "              ('stressInfoA', \"'_`_\"),\n",
       "              ('stressInfoB', 'S4'),\n",
       "              ('Orthography', 'pessimism'),\n",
       "              ('Frequency', '6'),\n",
       "              ('PoSs', '(N)')])]"
      ]
     },
     "execution_count": 39,
     "metadata": {},
     "output_type": "execute_result"
    }
   ],
   "source": [
    "exampleMap['M'][:2] # ṃ"
   ]
  },
  {
   "cell_type": "code",
   "execution_count": 40,
   "metadata": {
    "ExecuteTime": {
     "end_time": "2019-04-15T17:23:17.303950Z",
     "start_time": "2019-04-15T17:23:17.301216Z"
    }
   },
   "outputs": [],
   "source": [
    "addMapping('M','ṃ')"
   ]
  },
  {
   "cell_type": "code",
   "execution_count": 41,
   "metadata": {
    "ExecuteTime": {
     "end_time": "2019-04-15T17:23:17.312119Z",
     "start_time": "2019-04-15T17:23:17.305920Z"
    }
   },
   "outputs": [
    {
     "data": {
      "text/plain": [
       "[OrderedDict([('Transcription', 'risNsi'),\n",
       "              ('stressInfoA', \"'__\"),\n",
       "              ('stressInfoB', 'S3'),\n",
       "              ('Orthography', 'recency'),\n",
       "              ('Frequency', '0'),\n",
       "              ('PoSs', '(N)')]),\n",
       " OrderedDict([('Transcription', 'mRsNEri'),\n",
       "              ('stressInfoA', \"'_`_\"),\n",
       "              ('stressInfoB', 'S4'),\n",
       "              ('Orthography', 'mercenary'),\n",
       "              ('Frequency', '1'),\n",
       "              ('PoSs', '(N AJ)')])]"
      ]
     },
     "execution_count": 41,
     "metadata": {},
     "output_type": "execute_result"
    }
   ],
   "source": [
    "exampleMap['N'][:2] # ṇ"
   ]
  },
  {
   "cell_type": "code",
   "execution_count": 42,
   "metadata": {
    "ExecuteTime": {
     "end_time": "2019-04-15T17:23:17.316812Z",
     "start_time": "2019-04-15T17:23:17.314000Z"
    }
   },
   "outputs": [],
   "source": [
    "addMapping('N','ṇ')"
   ]
  },
  {
   "cell_type": "markdown",
   "metadata": {},
   "source": [
    "### Liquids and Glides"
   ]
  },
  {
   "cell_type": "code",
   "execution_count": 43,
   "metadata": {
    "ExecuteTime": {
     "end_time": "2019-04-15T17:23:17.323439Z",
     "start_time": "2019-04-15T17:23:17.318721Z"
    }
   },
   "outputs": [
    {
     "data": {
      "text/plain": [
       "('w', 'y', 'r', 'l', 'L')"
      ]
     },
     "execution_count": 43,
     "metadata": {},
     "output_type": "execute_result"
    }
   ],
   "source": [
    "liquidsGlides"
   ]
  },
  {
   "cell_type": "code",
   "execution_count": 44,
   "metadata": {
    "ExecuteTime": {
     "end_time": "2019-04-15T17:23:17.328720Z",
     "start_time": "2019-04-15T17:23:17.325406Z"
    }
   },
   "outputs": [],
   "source": [
    "addMapping('w','w')\n",
    "addMapping('y','j')\n",
    "addMapping('r','ɹ')\n",
    "addMapping('l','l')"
   ]
  },
  {
   "cell_type": "code",
   "execution_count": 45,
   "metadata": {
    "ExecuteTime": {
     "end_time": "2019-04-15T17:23:17.337061Z",
     "start_time": "2019-04-15T17:23:17.330343Z"
    }
   },
   "outputs": [
    {
     "data": {
      "text/plain": [
       "[OrderedDict([('Transcription', 'YdEntIkL'),\n",
       "              ('stressInfoA', \"_'__\"),\n",
       "              ('stressInfoB', 'S4'),\n",
       "              ('Orthography', 'identical'),\n",
       "              ('Frequency', '31'),\n",
       "              ('PoSs', '(AJ)')]),\n",
       " OrderedDict([('Transcription', 'vokL'),\n",
       "              ('stressInfoA', \"'_\"),\n",
       "              ('stressInfoB', 'S2'),\n",
       "              ('Orthography', 'vocal'),\n",
       "              ('Frequency', '14'),\n",
       "              ('PoSs', '(AJ N)')])]"
      ]
     },
     "execution_count": 45,
     "metadata": {},
     "output_type": "execute_result"
    }
   ],
   "source": [
    "exampleMap['L'][:2] # l̩"
   ]
  },
  {
   "cell_type": "code",
   "execution_count": 46,
   "metadata": {
    "ExecuteTime": {
     "end_time": "2019-04-15T17:23:17.341183Z",
     "start_time": "2019-04-15T17:23:17.338455Z"
    }
   },
   "outputs": [],
   "source": [
    "addMapping('L', 'l̩')"
   ]
  },
  {
   "cell_type": "markdown",
   "metadata": {},
   "source": [
    "### Low vowels"
   ]
  },
  {
   "cell_type": "code",
   "execution_count": 47,
   "metadata": {
    "ExecuteTime": {
     "end_time": "2019-04-15T17:23:17.347820Z",
     "start_time": "2019-04-15T17:23:17.342471Z"
    }
   },
   "outputs": [
    {
     "data": {
      "text/plain": [
       "('@', 'c', 'a')"
      ]
     },
     "execution_count": 47,
     "metadata": {},
     "output_type": "execute_result"
    }
   ],
   "source": [
    "lowVowels"
   ]
  },
  {
   "cell_type": "code",
   "execution_count": 48,
   "metadata": {
    "ExecuteTime": {
     "end_time": "2019-04-15T17:23:17.354198Z",
     "start_time": "2019-04-15T17:23:17.349075Z"
    }
   },
   "outputs": [
    {
     "data": {
      "text/plain": [
       "[OrderedDict([('Transcription', 'hEks@mxtX'),\n",
       "              ('stressInfoA', \"_'__\"),\n",
       "              ('stressInfoB', 'S4'),\n",
       "              ('Orthography', 'hexameter'),\n",
       "              ('Frequency', '3'),\n",
       "              ('PoSs', '(N)')]),\n",
       " OrderedDict([('Transcription', 'm@l|t'),\n",
       "              ('stressInfoA', \"'_\"),\n",
       "              ('stressInfoB', 'S2'),\n",
       "              ('Orthography', 'mallet'),\n",
       "              ('Frequency', '0'),\n",
       "              ('PoSs', '(N)')])]"
      ]
     },
     "execution_count": 48,
     "metadata": {},
     "output_type": "execute_result"
    }
   ],
   "source": [
    "exampleMap['@'][:2] # æ"
   ]
  },
  {
   "cell_type": "code",
   "execution_count": 49,
   "metadata": {
    "ExecuteTime": {
     "end_time": "2019-04-15T17:23:17.359783Z",
     "start_time": "2019-04-15T17:23:17.355435Z"
    }
   },
   "outputs": [],
   "source": [
    "addMapping('@', 'æ')"
   ]
  },
  {
   "cell_type": "code",
   "execution_count": 50,
   "metadata": {
    "ExecuteTime": {
     "end_time": "2019-04-15T17:23:17.367282Z",
     "start_time": "2019-04-15T17:23:17.361012Z"
    }
   },
   "outputs": [
    {
     "data": {
      "text/plain": [
       "[OrderedDict([('Transcription', 'skrcl'),\n",
       "              ('stressInfoA', \"'\"),\n",
       "              ('stressInfoB', 'S1'),\n",
       "              ('Orthography', 'scrawl'),\n",
       "              ('Frequency', '0'),\n",
       "              ('PoSs', '(VT VI)')]),\n",
       " OrderedDict([('Transcription', 'EkscrsYz'),\n",
       "              ('stressInfoA', \"'``\"),\n",
       "              ('stressInfoB', 'S3'),\n",
       "              ('Orthography', 'exorcise'),\n",
       "              ('Frequency', '1'),\n",
       "              ('PoSs', '(VT)')])]"
      ]
     },
     "execution_count": 50,
     "metadata": {},
     "output_type": "execute_result"
    }
   ],
   "source": [
    "exampleMap['c'][:2] # ɔ"
   ]
  },
  {
   "cell_type": "code",
   "execution_count": 51,
   "metadata": {
    "ExecuteTime": {
     "end_time": "2019-04-15T17:23:17.376641Z",
     "start_time": "2019-04-15T17:23:17.368634Z"
    }
   },
   "outputs": [
    {
     "data": {
      "text/plain": [
       "[OrderedDict([('Transcription', 'bct'),\n",
       "              ('stressInfoA', \"'\"),\n",
       "              ('stressInfoB', 'S1'),\n",
       "              ('Orthography', 'bought'),\n",
       "              ('Frequency', '57'),\n",
       "              ('PoSs', '(AJ)')]),\n",
       " OrderedDict([('Transcription', 'kct'),\n",
       "              ('stressInfoA', \"'\"),\n",
       "              ('stressInfoB', 'S1'),\n",
       "              ('Orthography', 'caught'),\n",
       "              ('Frequency', '98'),\n",
       "              ('PoSs', '(null)')])]"
      ]
     },
     "execution_count": 51,
     "metadata": {},
     "output_type": "execute_result"
    }
   ],
   "source": [
    "[ex for ex in wordsWithSymbol('c') if ex['Orthography'] == 'caught' or ex['Orthography'] == 'bought']"
   ]
  },
  {
   "cell_type": "code",
   "execution_count": 52,
   "metadata": {
    "ExecuteTime": {
     "end_time": "2019-04-15T17:23:17.380035Z",
     "start_time": "2019-04-15T17:23:17.378068Z"
    }
   },
   "outputs": [],
   "source": [
    "addMapping('c', 'ɔ')"
   ]
  },
  {
   "cell_type": "code",
   "execution_count": 53,
   "metadata": {
    "ExecuteTime": {
     "end_time": "2019-04-15T17:23:17.386291Z",
     "start_time": "2019-04-15T17:23:17.380949Z"
    }
   },
   "outputs": [
    {
     "data": {
      "text/plain": [
       "[OrderedDict([('Transcription', 'pcliwag'),\n",
       "              ('stressInfoA', \"'_`\"),\n",
       "              ('stressInfoB', 'S3'),\n",
       "              ('Orthography', 'pollywog'),\n",
       "              ('Frequency', '0'),\n",
       "              ('PoSs', '(N)')]),\n",
       " OrderedDict([('Transcription', 'kxlYdoskapIk'),\n",
       "              ('stressInfoA', \"_`_'_\"),\n",
       "              ('stressInfoB', 'S5'),\n",
       "              ('Orthography', 'kaleidoscopic'),\n",
       "              ('Frequency', '0'),\n",
       "              ('PoSs', '(AJ)')])]"
      ]
     },
     "execution_count": 53,
     "metadata": {},
     "output_type": "execute_result"
    }
   ],
   "source": [
    "exampleMap['a'][:2] # ɑ"
   ]
  },
  {
   "cell_type": "code",
   "execution_count": 54,
   "metadata": {
    "ExecuteTime": {
     "end_time": "2019-04-15T17:23:17.396322Z",
     "start_time": "2019-04-15T17:23:17.387618Z"
    }
   },
   "outputs": [
    {
     "data": {
      "text/plain": [
       "[OrderedDict([('Transcription', 'kat'),\n",
       "              ('stressInfoA', \"'\"),\n",
       "              ('stressInfoB', 'S1'),\n",
       "              ('Orthography', 'cot'),\n",
       "              ('Frequency', '0'),\n",
       "              ('PoSs', '(N)')]),\n",
       " OrderedDict([('Transcription', 'hat'),\n",
       "              ('stressInfoA', \"'\"),\n",
       "              ('stressInfoB', 'S1'),\n",
       "              ('Orthography', 'hot'),\n",
       "              ('Frequency', '137'),\n",
       "              ('PoSs', '(AJ AV)')])]"
      ]
     },
     "execution_count": 54,
     "metadata": {},
     "output_type": "execute_result"
    }
   ],
   "source": [
    "[ex for ex in wordsWithSymbol('a') if ex['Orthography'] == 'cot' or ex['Orthography'] == 'hot']"
   ]
  },
  {
   "cell_type": "code",
   "execution_count": 55,
   "metadata": {
    "ExecuteTime": {
     "end_time": "2019-04-15T17:23:17.402653Z",
     "start_time": "2019-04-15T17:23:17.397754Z"
    }
   },
   "outputs": [],
   "source": [
    "addMapping('a', 'ɑ')"
   ]
  },
  {
   "cell_type": "markdown",
   "metadata": {},
   "source": [
    "### Mid vowels"
   ]
  },
  {
   "cell_type": "code",
   "execution_count": 56,
   "metadata": {
    "ExecuteTime": {
     "end_time": "2019-04-15T17:23:17.409065Z",
     "start_time": "2019-04-15T17:23:17.403877Z"
    }
   },
   "outputs": [
    {
     "data": {
      "text/plain": [
       "('x', '^', 'X', 'R', 'E')"
      ]
     },
     "execution_count": 56,
     "metadata": {},
     "output_type": "execute_result"
    }
   ],
   "source": [
    "midVowels"
   ]
  },
  {
   "cell_type": "code",
   "execution_count": 57,
   "metadata": {
    "ExecuteTime": {
     "end_time": "2019-04-15T17:23:17.415421Z",
     "start_time": "2019-04-15T17:23:17.410484Z"
    }
   },
   "outputs": [
    {
     "data": {
      "text/plain": [
       "[OrderedDict([('Transcription', 'lxpEl'),\n",
       "              ('stressInfoA', \"_'\"),\n",
       "              ('stressInfoB', 'S2'),\n",
       "              ('Orthography', 'lapel'),\n",
       "              ('Frequency', '1'),\n",
       "              ('PoSs', '(N)')]),\n",
       " OrderedDict([('Transcription', 'k@ndxlabrx'),\n",
       "              ('stressInfoA', \"`_'_\"),\n",
       "              ('stressInfoB', 'S4'),\n",
       "              ('Orthography', 'candelabra'),\n",
       "              ('Frequency', '0'),\n",
       "              ('PoSs', '(N)')]),\n",
       " OrderedDict([('Transcription', 'flcrxd'),\n",
       "              ('stressInfoA', \"'_\"),\n",
       "              ('stressInfoB', 'S2'),\n",
       "              ('Orthography', 'florid'),\n",
       "              ('Frequency', '2'),\n",
       "              ('PoSs', '(AJ)')]),\n",
       " OrderedDict([('Transcription', 'mEtxlRJ|st'),\n",
       "              ('stressInfoA', \"'_`_\"),\n",
       "              ('stressInfoB', 'S4'),\n",
       "              ('Orthography', 'metallurgist'),\n",
       "              ('Frequency', '0'),\n",
       "              ('PoSs', '(N)')]),\n",
       " OrderedDict([('Transcription', 'brIgxntin'),\n",
       "              ('stressInfoA', \"'_`\"),\n",
       "              ('stressInfoB', 'S3'),\n",
       "              ('Orthography', 'brigantine'),\n",
       "              ('Frequency', '0'),\n",
       "              ('PoSs', '(N)')])]"
      ]
     },
     "execution_count": 57,
     "metadata": {},
     "output_type": "execute_result"
    }
   ],
   "source": [
    "exampleMap['x'][:5] # ə"
   ]
  },
  {
   "cell_type": "code",
   "execution_count": 58,
   "metadata": {
    "ExecuteTime": {
     "end_time": "2019-04-15T17:23:17.420219Z",
     "start_time": "2019-04-15T17:23:17.416738Z"
    }
   },
   "outputs": [],
   "source": [
    "addMapping('x', 'ə')"
   ]
  },
  {
   "cell_type": "code",
   "execution_count": 59,
   "metadata": {
    "ExecuteTime": {
     "end_time": "2019-04-15T17:23:17.428303Z",
     "start_time": "2019-04-15T17:23:17.421374Z"
    }
   },
   "outputs": [
    {
     "data": {
      "text/plain": [
       "[OrderedDict([('Transcription', 's^frIJ|st'),\n",
       "              ('stressInfoA', \"'__\"),\n",
       "              ('stressInfoB', 'S3'),\n",
       "              ('Orthography', 'suffragist'),\n",
       "              ('Frequency', '0'),\n",
       "              ('PoSs', '(N)')]),\n",
       " OrderedDict([('Transcription', 'Ink^lkeS|n'),\n",
       "              ('stressInfoA', \"``'_\"),\n",
       "              ('stressInfoB', 'S4'),\n",
       "              ('Orthography', 'inculcation'),\n",
       "              ('Frequency', '2'),\n",
       "              ('PoSs', '(N)')]),\n",
       " OrderedDict([('Transcription', 'b^gxbu'),\n",
       "              ('stressInfoA', \"'_`\"),\n",
       "              ('stressInfoB', 'S3'),\n",
       "              ('Orthography', 'bugaboo'),\n",
       "              ('Frequency', '0'),\n",
       "              ('PoSs', '(N)')]),\n",
       " OrderedDict([('Transcription', 'kr^mpL'),\n",
       "              ('stressInfoA', \"'_\"),\n",
       "              ('stressInfoB', 'S2'),\n",
       "              ('Orthography', 'crumple'),\n",
       "              ('Frequency', '0'),\n",
       "              ('PoSs', '(VT VI N)')]),\n",
       " OrderedDict([('Transcription', 'fr^ktxfY'),\n",
       "              ('stressInfoA', \"'_`\"),\n",
       "              ('stressInfoB', 'S3'),\n",
       "              ('Orthography', 'fructify'),\n",
       "              ('Frequency', '0'),\n",
       "              ('PoSs', '(VI)')])]"
      ]
     },
     "execution_count": 59,
     "metadata": {},
     "output_type": "execute_result"
    }
   ],
   "source": [
    "exampleMap['^'][:5] # ʌ"
   ]
  },
  {
   "cell_type": "code",
   "execution_count": 60,
   "metadata": {
    "ExecuteTime": {
     "end_time": "2019-04-15T17:23:17.433776Z",
     "start_time": "2019-04-15T17:23:17.429508Z"
    }
   },
   "outputs": [],
   "source": [
    "addMapping('^', 'ʌ')"
   ]
  },
  {
   "cell_type": "code",
   "execution_count": 61,
   "metadata": {
    "ExecuteTime": {
     "end_time": "2019-04-15T17:23:17.441003Z",
     "start_time": "2019-04-15T17:23:17.435079Z"
    }
   },
   "outputs": [
    {
     "data": {
      "text/plain": [
       "[OrderedDict([('Transcription', 'hYdramxtX'),\n",
       "              ('stressInfoA', \"_'__\"),\n",
       "              ('stressInfoB', 'S4'),\n",
       "              ('Orthography', 'hydrometer'),\n",
       "              ('Frequency', '0'),\n",
       "              ('PoSs', '(N)')]),\n",
       " OrderedDict([('Transcription', 'wIdoX'),\n",
       "              ('stressInfoA', \"'__\"),\n",
       "              ('stressInfoB', 'S3'),\n",
       "              ('Orthography', 'widower'),\n",
       "              ('Frequency', '1'),\n",
       "              ('PoSs', '(N)')])]"
      ]
     },
     "execution_count": 61,
     "metadata": {},
     "output_type": "execute_result"
    }
   ],
   "source": [
    "exampleMap['X'][:2] # ɚ"
   ]
  },
  {
   "cell_type": "code",
   "execution_count": 62,
   "metadata": {
    "ExecuteTime": {
     "end_time": "2019-04-15T17:23:17.446688Z",
     "start_time": "2019-04-15T17:23:17.442280Z"
    }
   },
   "outputs": [],
   "source": [
    "addMapping('X', 'ɚ')"
   ]
  },
  {
   "cell_type": "code",
   "execution_count": 63,
   "metadata": {
    "ExecuteTime": {
     "end_time": "2019-04-15T17:23:17.453864Z",
     "start_time": "2019-04-15T17:23:17.448106Z"
    }
   },
   "outputs": [
    {
     "data": {
      "text/plain": [
       "[OrderedDict([('Transcription', 'mesenyRz'),\n",
       "              ('stressInfoA', \"``'\"),\n",
       "              ('stressInfoB', 'S3'),\n",
       "              ('Orthography', 'messeigneurs'),\n",
       "              ('Frequency', '0'),\n",
       "              ('PoSs', '(N)')]),\n",
       " OrderedDict([('Transcription', 'xbzRvxtori'),\n",
       "              ('stressInfoA', \"_'_`_\"),\n",
       "              ('stressInfoB', 'S5'),\n",
       "              ('Orthography', 'observatory'),\n",
       "              ('Frequency', '3'),\n",
       "              ('PoSs', '(N)')])]"
      ]
     },
     "execution_count": 63,
     "metadata": {},
     "output_type": "execute_result"
    }
   ],
   "source": [
    "exampleMap['R'][:2] # ɚ"
   ]
  },
  {
   "cell_type": "code",
   "execution_count": 64,
   "metadata": {
    "ExecuteTime": {
     "end_time": "2019-04-15T17:23:17.459630Z",
     "start_time": "2019-04-15T17:23:17.455166Z"
    }
   },
   "outputs": [],
   "source": [
    "addMapping('R', 'ɚ')"
   ]
  },
  {
   "cell_type": "code",
   "execution_count": 65,
   "metadata": {
    "ExecuteTime": {
     "end_time": "2019-04-15T17:23:17.466783Z",
     "start_time": "2019-04-15T17:23:17.460925Z"
    }
   },
   "outputs": [
    {
     "data": {
      "text/plain": [
       "[OrderedDict([('Transcription', 'prEtsL'),\n",
       "              ('stressInfoA', \"'_\"),\n",
       "              ('stressInfoB', 'S2'),\n",
       "              ('Orthography', 'pretzel'),\n",
       "              ('Frequency', '0'),\n",
       "              ('PoSs', '(N)')]),\n",
       " OrderedDict([('Transcription', 'bElt'),\n",
       "              ('stressInfoA', \"'\"),\n",
       "              ('stressInfoB', 'S1'),\n",
       "              ('Orthography', 'belt'),\n",
       "              ('Frequency', '31'),\n",
       "              ('PoSs', '(AJ VT VI N)')])]"
      ]
     },
     "execution_count": 65,
     "metadata": {},
     "output_type": "execute_result"
    }
   ],
   "source": [
    "exampleMap['E'][:2] # ɛ"
   ]
  },
  {
   "cell_type": "code",
   "execution_count": 66,
   "metadata": {
    "ExecuteTime": {
     "end_time": "2019-04-15T17:23:17.472482Z",
     "start_time": "2019-04-15T17:23:17.468050Z"
    }
   },
   "outputs": [],
   "source": [
    "addMapping('E', 'ɛ')"
   ]
  },
  {
   "cell_type": "markdown",
   "metadata": {},
   "source": [
    "### High vowels"
   ]
  },
  {
   "cell_type": "code",
   "execution_count": 67,
   "metadata": {
    "ExecuteTime": {
     "end_time": "2019-04-15T17:23:17.478864Z",
     "start_time": "2019-04-15T17:23:17.473822Z"
    }
   },
   "outputs": [
    {
     "data": {
      "text/plain": [
       "('i', 'I', '|', 'U', 'u')"
      ]
     },
     "execution_count": 67,
     "metadata": {},
     "output_type": "execute_result"
    }
   ],
   "source": [
    "highVowels"
   ]
  },
  {
   "cell_type": "code",
   "execution_count": 68,
   "metadata": {
    "ExecuteTime": {
     "end_time": "2019-04-15T17:23:17.486316Z",
     "start_time": "2019-04-15T17:23:17.480226Z"
    }
   },
   "outputs": [
    {
     "data": {
      "text/plain": [
       "[OrderedDict([('Transcription', 'kamxdi'),\n",
       "              ('stressInfoA', \"'__\"),\n",
       "              ('stressInfoB', 'S3'),\n",
       "              ('Orthography', 'comedy'),\n",
       "              ('Frequency', '39'),\n",
       "              ('PoSs', '(N)')]),\n",
       " OrderedDict([('Transcription', 'wiv'),\n",
       "              ('stressInfoA', \"'\"),\n",
       "              ('stressInfoB', 'S1'),\n",
       "              ('Orthography', 'weave'),\n",
       "              ('Frequency', '4'),\n",
       "              ('PoSs', '(VT N VI)')])]"
      ]
     },
     "execution_count": 68,
     "metadata": {},
     "output_type": "execute_result"
    }
   ],
   "source": [
    "exampleMap['i'][:2] # i"
   ]
  },
  {
   "cell_type": "code",
   "execution_count": 69,
   "metadata": {
    "ExecuteTime": {
     "end_time": "2019-04-15T17:23:17.492155Z",
     "start_time": "2019-04-15T17:23:17.487579Z"
    }
   },
   "outputs": [],
   "source": [
    "addMapping('i', 'i')"
   ]
  },
  {
   "cell_type": "code",
   "execution_count": 70,
   "metadata": {
    "ExecuteTime": {
     "end_time": "2019-04-15T17:23:17.499448Z",
     "start_time": "2019-04-15T17:23:17.493430Z"
    }
   },
   "outputs": [
    {
     "data": {
      "text/plain": [
       "[OrderedDict([('Transcription', 'hRbIvxrxsli'),\n",
       "              ('stressInfoA', \"`'___\"),\n",
       "              ('stressInfoB', 'S5'),\n",
       "              ('Orthography', 'herbivorously'),\n",
       "              ('Frequency', '0'),\n",
       "              ('PoSs', '(AV)')]),\n",
       " OrderedDict([('Transcription', 'IveZ|n'),\n",
       "              ('stressInfoA', \"_'_\"),\n",
       "              ('stressInfoB', 'S3'),\n",
       "              ('Orthography', 'evasion'),\n",
       "              ('Frequency', '1'),\n",
       "              ('PoSs', '(N)')])]"
      ]
     },
     "execution_count": 70,
     "metadata": {},
     "output_type": "execute_result"
    }
   ],
   "source": [
    "exampleMap['I'][:2] # ɪ"
   ]
  },
  {
   "cell_type": "code",
   "execution_count": 71,
   "metadata": {
    "ExecuteTime": {
     "end_time": "2019-04-15T17:23:17.504293Z",
     "start_time": "2019-04-15T17:23:17.500748Z"
    }
   },
   "outputs": [],
   "source": [
    "addMapping('I', 'ɪ')"
   ]
  },
  {
   "cell_type": "code",
   "execution_count": 72,
   "metadata": {
    "ExecuteTime": {
     "end_time": "2019-04-15T17:23:17.514903Z",
     "start_time": "2019-04-15T17:23:17.505554Z"
    }
   },
   "outputs": [
    {
     "data": {
      "text/plain": [
       "[OrderedDict([('Transcription', '@pt|tud'),\n",
       "              ('stressInfoA', \"'_`\"),\n",
       "              ('stressInfoB', 'S3'),\n",
       "              ('Orthography', 'aptitude'),\n",
       "              ('Frequency', '3'),\n",
       "              ('PoSs', '(N)')]),\n",
       " OrderedDict([('Transcription', 'ElxkyuS|n'),\n",
       "              ('stressInfoA', \"`_'_\"),\n",
       "              ('stressInfoB', 'S4'),\n",
       "              ('Orthography', 'elocution'),\n",
       "              ('Frequency', '0'),\n",
       "              ('PoSs', '(N)')]),\n",
       " OrderedDict([('Transcription', 'k^lXeS|n'),\n",
       "              ('stressInfoA', \"`_'_\"),\n",
       "              ('stressInfoB', 'S4'),\n",
       "              ('Orthography', 'coloration'),\n",
       "              ('Frequency', '2'),\n",
       "              ('PoSs', '(N)')]),\n",
       " OrderedDict([('Transcription', 'mEdxkeS|n'),\n",
       "              ('stressInfoA', \"`_'_\"),\n",
       "              ('stressInfoB', 'S4'),\n",
       "              ('Orthography', 'medication'),\n",
       "              ('Frequency', '2'),\n",
       "              ('PoSs', '(N)')]),\n",
       " OrderedDict([('Transcription', 'rot|grxvyUr'),\n",
       "              ('stressInfoA', \"`__'\"),\n",
       "              ('stressInfoB', 'S4'),\n",
       "              ('Orthography', 'rotogravure'),\n",
       "              ('Frequency', '0'),\n",
       "              ('PoSs', '(N)')]),\n",
       " OrderedDict([('Transcription', 'kxndIS|n'),\n",
       "              ('stressInfoA', \"_'_\"),\n",
       "              ('stressInfoB', 'S3'),\n",
       "              ('Orthography', 'condition'),\n",
       "              ('Frequency', '91'),\n",
       "              ('PoSs', '(N VI VT)')]),\n",
       " OrderedDict([('Transcription', 'mIt|get'),\n",
       "              ('stressInfoA', \"'_`\"),\n",
       "              ('stressInfoB', 'S3'),\n",
       "              ('Orthography', 'mitigate'),\n",
       "              ('Frequency', '1'),\n",
       "              ('PoSs', '(VT)')]),\n",
       " OrderedDict([('Transcription', 'k|sino'),\n",
       "              ('stressInfoA', \"_'`\"),\n",
       "              ('stressInfoB', 'S3'),\n",
       "              ('Orthography', 'casino'),\n",
       "              ('Frequency', '2'),\n",
       "              ('PoSs', '(N)')]),\n",
       " OrderedDict([('Transcription', 'pampas|ti'),\n",
       "              ('stressInfoA', \"_'__\"),\n",
       "              ('stressInfoB', 'S4'),\n",
       "              ('Orthography', 'pomposity'),\n",
       "              ('Frequency', '0'),\n",
       "              ('PoSs', '(N)')]),\n",
       " OrderedDict([('Transcription', 'xpast|si'),\n",
       "              ('stressInfoA', \"_'__\"),\n",
       "              ('stressInfoB', 'S4'),\n",
       "              ('Orthography', 'apostasy'),\n",
       "              ('Frequency', '0'),\n",
       "              ('PoSs', '(N)')])]"
      ]
     },
     "execution_count": 72,
     "metadata": {},
     "output_type": "execute_result"
    }
   ],
   "source": [
    "exampleMap['|'][:10] # ɪ"
   ]
  },
  {
   "cell_type": "code",
   "execution_count": 73,
   "metadata": {
    "ExecuteTime": {
     "end_time": "2019-04-15T17:23:17.518487Z",
     "start_time": "2019-04-15T17:23:17.516219Z"
    }
   },
   "outputs": [],
   "source": [
    "addMapping('|', 'ɪ')"
   ]
  },
  {
   "cell_type": "code",
   "execution_count": 74,
   "metadata": {
    "ExecuteTime": {
     "end_time": "2019-04-15T17:23:17.526584Z",
     "start_time": "2019-04-15T17:23:17.519773Z"
    }
   },
   "outputs": [
    {
     "data": {
      "text/plain": [
       "[OrderedDict([('Transcription', 'spIrICUxs'),\n",
       "              ('stressInfoA', \"'___\"),\n",
       "              ('stressInfoB', 'S4'),\n",
       "              ('Orthography', 'spirituous'),\n",
       "              ('Frequency', '0'),\n",
       "              ('PoSs', '(AJ)')]),\n",
       " OrderedDict([('Transcription', 'myUnIfxsNt'),\n",
       "              ('stressInfoA', \"_'__\"),\n",
       "              ('stressInfoB', 'S4'),\n",
       "              ('Orthography', 'munificent'),\n",
       "              ('Frequency', '0'),\n",
       "              ('PoSs', '(AJ)')]),\n",
       " OrderedDict([('Transcription', '^nbUzM'),\n",
       "              ('stressInfoA', \"`'_\"),\n",
       "              ('stressInfoB', 'S3'),\n",
       "              ('Orthography', 'unbosom'),\n",
       "              ('Frequency', '0'),\n",
       "              ('PoSs', '(VT VI)')]),\n",
       " OrderedDict([('Transcription', 'wUdmxn'),\n",
       "              ('stressInfoA', \"'_\"),\n",
       "              ('stressInfoB', 'S2'),\n",
       "              ('Orthography', 'woodman'),\n",
       "              ('Frequency', '0'),\n",
       "              ('PoSs', '(N)')]),\n",
       " OrderedDict([('Transcription', 'pyUrLxnt'),\n",
       "              ('stressInfoA', \"'__\"),\n",
       "              ('stressInfoB', 'S3'),\n",
       "              ('Orthography', 'purulent'),\n",
       "              ('Frequency', '0'),\n",
       "              ('PoSs', '(AJ)')])]"
      ]
     },
     "execution_count": 74,
     "metadata": {},
     "output_type": "execute_result"
    }
   ],
   "source": [
    "exampleMap['U'][:5] # ʊ"
   ]
  },
  {
   "cell_type": "code",
   "execution_count": 75,
   "metadata": {
    "ExecuteTime": {
     "end_time": "2019-04-15T17:23:17.532225Z",
     "start_time": "2019-04-15T17:23:17.527798Z"
    }
   },
   "outputs": [],
   "source": [
    "addMapping('U', 'ʊ')"
   ]
  },
  {
   "cell_type": "code",
   "execution_count": 76,
   "metadata": {
    "ExecuteTime": {
     "end_time": "2019-04-15T17:23:17.540735Z",
     "start_time": "2019-04-15T17:23:17.533608Z"
    }
   },
   "outputs": [
    {
     "data": {
      "text/plain": [
       "[OrderedDict([('Transcription', 'protrud'),\n",
       "              ('stressInfoA', \"_'\"),\n",
       "              ('stressInfoB', 'S2'),\n",
       "              ('Orthography', 'protrude'),\n",
       "              ('Frequency', '1'),\n",
       "              ('PoSs', '(VT VI)')]),\n",
       " OrderedDict([('Transcription', 'krud'),\n",
       "              ('stressInfoA', \"'\"),\n",
       "              ('stressInfoB', 'S1'),\n",
       "              ('Orthography', 'crude'),\n",
       "              ('Frequency', '15'),\n",
       "              ('PoSs', '(AJ N)')]),\n",
       " OrderedDict([('Transcription', 'Sut'),\n",
       "              ('stressInfoA', \"'\"),\n",
       "              ('stressInfoB', 'S1'),\n",
       "              ('Orthography', 'chute'),\n",
       "              ('Frequency', '2'),\n",
       "              ('PoSs', '(N)')]),\n",
       " OrderedDict([('Transcription', 'spul'),\n",
       "              ('stressInfoA', \"'\"),\n",
       "              ('stressInfoB', 'S1'),\n",
       "              ('Orthography', 'spool'),\n",
       "              ('Frequency', '0'),\n",
       "              ('PoSs', '(N)')]),\n",
       " OrderedDict([('Transcription', 'ruZ'),\n",
       "              ('stressInfoA', \"'\"),\n",
       "              ('stressInfoB', 'S1'),\n",
       "              ('Orthography', 'rouge'),\n",
       "              ('Frequency', '6'),\n",
       "              ('PoSs', '(N VT)')])]"
      ]
     },
     "execution_count": 76,
     "metadata": {},
     "output_type": "execute_result"
    }
   ],
   "source": [
    "exampleMap['u'][:5] # u"
   ]
  },
  {
   "cell_type": "code",
   "execution_count": 77,
   "metadata": {
    "ExecuteTime": {
     "end_time": "2019-04-15T17:23:17.545035Z",
     "start_time": "2019-04-15T17:23:17.542423Z"
    }
   },
   "outputs": [],
   "source": [
    "addMapping('u', 'u')"
   ]
  },
  {
   "cell_type": "markdown",
   "metadata": {},
   "source": [
    "### Diphthongs"
   ]
  },
  {
   "cell_type": "code",
   "execution_count": 78,
   "metadata": {
    "ExecuteTime": {
     "end_time": "2019-04-15T17:23:17.551305Z",
     "start_time": "2019-04-15T17:23:17.546257Z"
    }
   },
   "outputs": [
    {
     "data": {
      "text/plain": [
       "('W', 'o', 'e', 'O', 'Y')"
      ]
     },
     "execution_count": 78,
     "metadata": {},
     "output_type": "execute_result"
    }
   ],
   "source": [
    "diphthongs"
   ]
  },
  {
   "cell_type": "code",
   "execution_count": 79,
   "metadata": {
    "ExecuteTime": {
     "end_time": "2019-04-15T17:23:17.557569Z",
     "start_time": "2019-04-15T17:23:17.552467Z"
    }
   },
   "outputs": [
    {
     "data": {
      "text/plain": [
       "[OrderedDict([('Transcription', 'trWns'),\n",
       "              ('stressInfoA', \"'\"),\n",
       "              ('stressInfoB', 'S1'),\n",
       "              ('Orthography', 'trounce'),\n",
       "              ('Frequency', '0'),\n",
       "              ('PoSs', '(VT)')]),\n",
       " OrderedDict([('Transcription', 'Wtdorz'),\n",
       "              ('stressInfoA', \"_'\"),\n",
       "              ('stressInfoB', 'S2'),\n",
       "              ('Orthography', 'outdoors'),\n",
       "              ('Frequency', '6'),\n",
       "              ('PoSs', '(AV N)')]),\n",
       " OrderedDict([('Transcription', 'flWndX'),\n",
       "              ('stressInfoA', \"'_\"),\n",
       "              ('stressInfoB', 'S2'),\n",
       "              ('Orthography', 'flounder'),\n",
       "              ('Frequency', '1'),\n",
       "              ('PoSs', '(N VI)')]),\n",
       " OrderedDict([('Transcription', 'prxnWns'),\n",
       "              ('stressInfoA', \"_'\"),\n",
       "              ('stressInfoB', 'S2'),\n",
       "              ('Orthography', 'pronounce'),\n",
       "              ('Frequency', '2'),\n",
       "              ('PoSs', '(VT VI)')]),\n",
       " OrderedDict([('Transcription', 'h@ndWt'),\n",
       "              ('stressInfoA', \"'`\"),\n",
       "              ('stressInfoB', 'S2'),\n",
       "              ('Orthography', 'handout'),\n",
       "              ('Frequency', '0'),\n",
       "              ('PoSs', '(N)')])]"
      ]
     },
     "execution_count": 79,
     "metadata": {},
     "output_type": "execute_result"
    }
   ],
   "source": [
    "exampleMap['W'][:5] # aʊ"
   ]
  },
  {
   "cell_type": "code",
   "execution_count": 80,
   "metadata": {
    "ExecuteTime": {
     "end_time": "2019-04-15T17:23:17.561911Z",
     "start_time": "2019-04-15T17:23:17.558781Z"
    }
   },
   "outputs": [],
   "source": [
    "addMapping('W', 'aʊ')"
   ]
  },
  {
   "cell_type": "code",
   "execution_count": 81,
   "metadata": {
    "ExecuteTime": {
     "end_time": "2019-04-15T17:23:17.569833Z",
     "start_time": "2019-04-15T17:23:17.562985Z"
    }
   },
   "outputs": [
    {
     "data": {
      "text/plain": [
       "[OrderedDict([('Transcription', 'xlEktrod'),\n",
       "              ('stressInfoA', \"_'`\"),\n",
       "              ('stressInfoB', 'S3'),\n",
       "              ('Orthography', 'electrode'),\n",
       "              ('Frequency', '5'),\n",
       "              ('PoSs', '(N)')]),\n",
       " OrderedDict([('Transcription', 'kop'),\n",
       "              ('stressInfoA', \"'\"),\n",
       "              ('stressInfoB', 'S1'),\n",
       "              ('Orthography', 'cope'),\n",
       "              ('Frequency', '21'),\n",
       "              ('PoSs', '(N VI VT)')]),\n",
       " OrderedDict([('Transcription', 'sIloEt'),\n",
       "              ('stressInfoA', \"`_'\"),\n",
       "              ('stressInfoB', 'S3'),\n",
       "              ('Orthography', 'silhouette'),\n",
       "              ('Frequency', '4'),\n",
       "              ('PoSs', '(N VT)')]),\n",
       " OrderedDict([('Transcription', 'gord'),\n",
       "              ('stressInfoA', \"'\"),\n",
       "              ('stressInfoB', 'S1'),\n",
       "              ('Orthography', 'gourd'),\n",
       "              ('Frequency', '3'),\n",
       "              ('PoSs', '(N)')]),\n",
       " OrderedDict([('Transcription', 'dIf@mxtori'),\n",
       "              ('stressInfoA', \"_'_`_\"),\n",
       "              ('stressInfoB', 'S5'),\n",
       "              ('Orthography', 'defamatory'),\n",
       "              ('Frequency', '0'),\n",
       "              ('PoSs', '(AJ)')]),\n",
       " OrderedDict([('Transcription', 'hWsbot'),\n",
       "              ('stressInfoA', \"'`\"),\n",
       "              ('stressInfoB', 'S2'),\n",
       "              ('Orthography', 'houseboat'),\n",
       "              ('Frequency', '0'),\n",
       "              ('PoSs', '(N)')]),\n",
       " OrderedDict([('Transcription', 'truso'),\n",
       "              ('stressInfoA', \"'`\"),\n",
       "              ('stressInfoB', 'S2'),\n",
       "              ('Orthography', 'trousseau'),\n",
       "              ('Frequency', '0'),\n",
       "              ('PoSs', '(N)')]),\n",
       " OrderedDict([('Transcription', 'fyUror'),\n",
       "              ('stressInfoA', \"'`\"),\n",
       "              ('stressInfoB', 'S2'),\n",
       "              ('Orthography', 'furor'),\n",
       "              ('Frequency', '3'),\n",
       "              ('PoSs', '(N)')]),\n",
       " OrderedDict([('Transcription', '^pgroT'),\n",
       "              ('stressInfoA', \"'`\"),\n",
       "              ('stressInfoB', 'S2'),\n",
       "              ('Orthography', 'upgrowth'),\n",
       "              ('Frequency', '0'),\n",
       "              ('PoSs', '(N)')]),\n",
       " OrderedDict([('Transcription', 'donyx'),\n",
       "              ('stressInfoA', \"'_\"),\n",
       "              ('stressInfoB', 'S2'),\n",
       "              ('Orthography', 'dona'),\n",
       "              ('Frequency', '0'),\n",
       "              ('PoSs', '(N)')])]"
      ]
     },
     "execution_count": 81,
     "metadata": {},
     "output_type": "execute_result"
    }
   ],
   "source": [
    "exampleMap['o'][:10] # oʊ"
   ]
  },
  {
   "cell_type": "code",
   "execution_count": 82,
   "metadata": {
    "ExecuteTime": {
     "end_time": "2019-04-15T17:23:17.574405Z",
     "start_time": "2019-04-15T17:23:17.571118Z"
    }
   },
   "outputs": [],
   "source": [
    "addMapping('o', 'oʊ')"
   ]
  },
  {
   "cell_type": "code",
   "execution_count": 83,
   "metadata": {
    "ExecuteTime": {
     "end_time": "2019-04-15T17:23:17.581495Z",
     "start_time": "2019-04-15T17:23:17.575593Z"
    }
   },
   "outputs": [
    {
     "data": {
      "text/plain": [
       "[OrderedDict([('Transcription', '^nCen'),\n",
       "              ('stressInfoA', \"`'\"),\n",
       "              ('stressInfoB', 'S2'),\n",
       "              ('Orthography', 'unchain'),\n",
       "              ('Frequency', '0'),\n",
       "              ('PoSs', '(VT)')]),\n",
       " OrderedDict([('Transcription', 'ret'),\n",
       "              ('stressInfoA', \"'\"),\n",
       "              ('stressInfoB', 'S1'),\n",
       "              ('Orthography', 'rate'),\n",
       "              ('Frequency', '222'),\n",
       "              ('PoSs', '(N VT VI)')]),\n",
       " OrderedDict([('Transcription', 'CesX'),\n",
       "              ('stressInfoA', \"'_\"),\n",
       "              ('stressInfoB', 'S2'),\n",
       "              ('Orthography', 'chaser'),\n",
       "              ('Frequency', '0'),\n",
       "              ('PoSs', '(N)')]),\n",
       " OrderedDict([('Transcription', 'medxmwxzEl'),\n",
       "              ('stressInfoA', \"`__'\"),\n",
       "              ('stressInfoB', 'S4'),\n",
       "              ('Orthography', 'mesdemoiselles'),\n",
       "              ('Frequency', '0'),\n",
       "              ('PoSs', '(null)')]),\n",
       " OrderedDict([('Transcription', 'Ink^lket'),\n",
       "              ('stressInfoA', \"_'`\"),\n",
       "              ('stressInfoB', 'S3'),\n",
       "              ('Orthography', 'inculcate'),\n",
       "              ('Frequency', '0'),\n",
       "              ('PoSs', '(VT)')])]"
      ]
     },
     "execution_count": 83,
     "metadata": {},
     "output_type": "execute_result"
    }
   ],
   "source": [
    "exampleMap['e'][:5] # eɪ"
   ]
  },
  {
   "cell_type": "code",
   "execution_count": 84,
   "metadata": {
    "ExecuteTime": {
     "end_time": "2019-04-15T17:23:17.586080Z",
     "start_time": "2019-04-15T17:23:17.582797Z"
    }
   },
   "outputs": [],
   "source": [
    "addMapping('e', 'eɪ')"
   ]
  },
  {
   "cell_type": "code",
   "execution_count": 85,
   "metadata": {
    "ExecuteTime": {
     "end_time": "2019-04-15T17:23:17.593295Z",
     "start_time": "2019-04-15T17:23:17.587205Z"
    }
   },
   "outputs": [
    {
     "data": {
      "text/plain": [
       "[OrderedDict([('Transcription', 'EnvO'),\n",
       "              ('stressInfoA', \"'`\"),\n",
       "              ('stressInfoB', 'S2'),\n",
       "              ('Orthography', 'envoy'),\n",
       "              ('Frequency', '0'),\n",
       "              ('PoSs', '(N)')]),\n",
       " OrderedDict([('Transcription', 'sIkwOx'),\n",
       "              ('stressInfoA', \"_'_\"),\n",
       "              ('stressInfoB', 'S3'),\n",
       "              ('Orthography', 'sequoia'),\n",
       "              ('Frequency', '2'),\n",
       "              ('PoSs', '(N)')]),\n",
       " OrderedDict([('Transcription', 'OstX'),\n",
       "              ('stressInfoA', \"'_\"),\n",
       "              ('stressInfoB', 'S2'),\n",
       "              ('Orthography', 'oyster'),\n",
       "              ('Frequency', '6'),\n",
       "              ('PoSs', '(N)')]),\n",
       " OrderedDict([('Transcription', 'zoOd'),\n",
       "              ('stressInfoA', \"'`\"),\n",
       "              ('stressInfoB', 'S2'),\n",
       "              ('Orthography', 'zooid'),\n",
       "              ('Frequency', '0'),\n",
       "              ('PoSs', '(N)')]),\n",
       " OrderedDict([('Transcription', 'p@rxtYfOd'),\n",
       "              ('stressInfoA', \"`_'`\"),\n",
       "              ('stressInfoB', 'S4'),\n",
       "              ('Orthography', 'paratyphoid'),\n",
       "              ('Frequency', '0'),\n",
       "              ('PoSs', '(AJ N)')])]"
      ]
     },
     "execution_count": 85,
     "metadata": {},
     "output_type": "execute_result"
    }
   ],
   "source": [
    "exampleMap['O'][:5] # ɔɪ"
   ]
  },
  {
   "cell_type": "code",
   "execution_count": 86,
   "metadata": {
    "ExecuteTime": {
     "end_time": "2019-04-15T17:23:17.597390Z",
     "start_time": "2019-04-15T17:23:17.594464Z"
    }
   },
   "outputs": [],
   "source": [
    "addMapping('O', 'ɔɪ')"
   ]
  },
  {
   "cell_type": "code",
   "execution_count": 87,
   "metadata": {
    "ExecuteTime": {
     "end_time": "2019-04-15T17:23:17.603631Z",
     "start_time": "2019-04-15T17:23:17.598590Z"
    }
   },
   "outputs": [
    {
     "data": {
      "text/plain": [
       "[OrderedDict([('Transcription', 'rEk|nsYl'),\n",
       "              ('stressInfoA', \"'_`\"),\n",
       "              ('stressInfoB', 'S3'),\n",
       "              ('Orthography', 'reconcile'),\n",
       "              ('Frequency', '4'),\n",
       "              ('PoSs', '(VT)')]),\n",
       " OrderedDict([('Transcription', 'sprIGtYm'),\n",
       "              ('stressInfoA', \"'`\"),\n",
       "              ('stressInfoB', 'S2'),\n",
       "              ('Orthography', 'springtime'),\n",
       "              ('Frequency', '4'),\n",
       "              ('PoSs', '(N)')]),\n",
       " OrderedDict([('Transcription', 'JRmxsYdL'),\n",
       "              ('stressInfoA', \"`_'_\"),\n",
       "              ('stressInfoB', 'S4'),\n",
       "              ('Orthography', 'germicidal'),\n",
       "              ('Frequency', '0'),\n",
       "              ('PoSs', '(AJ)')]),\n",
       " OrderedDict([('Transcription', 'dYri'),\n",
       "              ('stressInfoA', \"'_\"),\n",
       "              ('stressInfoB', 'S2'),\n",
       "              ('Orthography', 'diary'),\n",
       "              ('Frequency', '4'),\n",
       "              ('PoSs', '(N)')]),\n",
       " OrderedDict([('Transcription', 'bYagrxfi'),\n",
       "              ('stressInfoA', \"_'__\"),\n",
       "              ('stressInfoB', 'S4'),\n",
       "              ('Orthography', 'biography'),\n",
       "              ('Frequency', '13'),\n",
       "              ('PoSs', '(N)')])]"
      ]
     },
     "execution_count": 87,
     "metadata": {},
     "output_type": "execute_result"
    }
   ],
   "source": [
    "exampleMap['Y'][:5] # aɪ"
   ]
  },
  {
   "cell_type": "code",
   "execution_count": 88,
   "metadata": {
    "ExecuteTime": {
     "end_time": "2019-04-15T17:23:17.607739Z",
     "start_time": "2019-04-15T17:23:17.604789Z"
    }
   },
   "outputs": [],
   "source": [
    "addMapping('Y', 'aɪ')"
   ]
  },
  {
   "cell_type": "markdown",
   "metadata": {},
   "source": [
    "### Altogether"
   ]
  },
  {
   "cell_type": "code",
   "execution_count": 89,
   "metadata": {
    "ExecuteTime": {
     "end_time": "2019-04-15T17:23:17.617075Z",
     "start_time": "2019-04-15T17:23:17.613608Z"
    }
   },
   "outputs": [
    {
     "data": {
      "text/plain": [
       "{'f': 'f',\n",
       " 'v': 'v',\n",
       " 's': 's',\n",
       " 'z': 'z',\n",
       " 'h': 'h',\n",
       " 'T': 'θ',\n",
       " 'D': 'ð',\n",
       " 'S': 'ʃ',\n",
       " 'Z': 'ʒ',\n",
       " 'C': 'tʃ',\n",
       " 'J': 'dʒ',\n",
       " 'p': 'p',\n",
       " 'b': 'b',\n",
       " 't': 't',\n",
       " 'd': 'd',\n",
       " 'k': 'k',\n",
       " 'g': 'g',\n",
       " 'm': 'm',\n",
       " 'n': 'n',\n",
       " 'G': 'ŋ',\n",
       " 'M': 'ṃ',\n",
       " 'N': 'ṇ',\n",
       " 'w': 'w',\n",
       " 'y': 'j',\n",
       " 'r': 'ɹ',\n",
       " 'l': 'l',\n",
       " 'L': 'l̩',\n",
       " '@': 'æ',\n",
       " 'c': 'ɔ',\n",
       " 'a': 'ɑ',\n",
       " 'x': 'ə',\n",
       " '^': 'ʌ',\n",
       " 'X': 'ɚ',\n",
       " 'R': 'ɚ',\n",
       " 'E': 'ɛ',\n",
       " 'i': 'i',\n",
       " 'I': 'ɪ',\n",
       " '|': 'ɪ',\n",
       " 'U': 'ʊ',\n",
       " 'u': 'u',\n",
       " 'W': 'aʊ',\n",
       " 'o': 'oʊ',\n",
       " 'e': 'eɪ',\n",
       " 'O': 'ɔɪ',\n",
       " 'Y': 'aɪ'}"
      ]
     },
     "execution_count": 89,
     "metadata": {},
     "output_type": "execute_result"
    }
   ],
   "source": [
    "mapping"
   ]
  },
  {
   "cell_type": "markdown",
   "metadata": {},
   "source": [
    "## Define newdic inventory -> IPA mapping"
   ]
  },
  {
   "cell_type": "code",
   "execution_count": 90,
   "metadata": {
    "ExecuteTime": {
     "end_time": "2019-04-15T17:23:17.626046Z",
     "start_time": "2019-04-15T17:23:17.618569Z"
    }
   },
   "outputs": [
    {
     "name": "stdout",
     "output_type": "stream",
     "text": [
      "θ\n"
     ]
    }
   ],
   "source": [
    "newdic_IPA_relation = [\n",
    " ('h', 'h'),\n",
    " ('S', 'ʃ'),\n",
    " ('p', 'p'),\n",
    " ('x', 'ə'),\n",
    " ('m', 'm'),\n",
    " ('y', 'j'),\n",
    " ('v', 'v'),\n",
    " ('^', 'ʌ'),\n",
    " ('o', 'oʊ'),\n",
    " ('u', 'u'),\n",
    " ('I', 'ɪ'),\n",
    " ('G', 'ŋ'),\n",
    " ('N', 'ṇ'),\n",
    " ('|', 'ɪ'), #as near as I can tell, this is unstressed/reduced 'ɪ'\n",
    " ('Z', 'ʒ'),\n",
    " ('L', 'l̩'),\n",
    " ('M', 'ṃ'),\n",
    " ('i', 'i'),\n",
    " ('r', 'ɹ'),\n",
    " ('g', 'g'),\n",
    " ('O', 'ɔɪ'),\n",
    " ('T', 'θ'),\n",
    " ('n', 'n'),\n",
    " ('J', 'dʒ'),\n",
    " ('d', 'd'),\n",
    " ('k', 'k'),\n",
    " ('W', 'aʊ'),\n",
    " ('f', 'f'),\n",
    " ('D', 'ð'),\n",
    " ('U', 'ʊ'),\n",
    " ('z', 'z'),\n",
    " ('Y', 'aɪ'),\n",
    " ('b', 'b'),\n",
    " ('X', 'ɚ'), #r-colored schwa - stressed\n",
    " ('a', 'ɑ'),\n",
    " ('s', 's'),\n",
    " ('e', 'eɪ'),\n",
    " ('C', 'tʃ'),\n",
    " ('t', 't'),\n",
    " ('R', 'ɚ'), #r-colored schwa - UNstressed\n",
    " ('E', 'ɛ'),\n",
    " ('w', 'w'),\n",
    " ('l', 'l'),\n",
    " ('@', 'æ'),\n",
    " ('c', 'ɔ')]\n",
    "\n",
    "def newdicToUnicodeIPA(newdic_symbol):\n",
    "    mapping = dict(newdic_IPA_relation)\n",
    "    #print(mapping)\n",
    "    return mapping[newdic_symbol]\n",
    "\n",
    "print(newdicToUnicodeIPA('T'))\n",
    "\n",
    "# def invertMapping(mydict): \n",
    "#     return dict([[val, key] for key,val in mydict.items()])\n",
    "\n",
    "# def unicodeIPAToNewdic(unicodeIPAsymbol):\n",
    "#     return invertMapping( dict(newdic_IPA_relation) )[unicodeIPAsymbol]\n",
    "\n",
    "# print(unicodeIPAToNewdic('θ'))"
   ]
  },
  {
   "cell_type": "code",
   "execution_count": 91,
   "metadata": {
    "ExecuteTime": {
     "end_time": "2019-04-15T17:23:17.630615Z",
     "start_time": "2019-04-15T17:23:17.627396Z"
    }
   },
   "outputs": [],
   "source": [
    "for s in mapping:\n",
    "    assert mapping[s] == newdicToUnicodeIPA(s), \"mapping[{0}] ≠ newdicToUnicode[{0}]: '{1}' vs. '{2}'\".format(s, mapping[s], newdicToUnicodeIPA(s))"
   ]
  },
  {
   "cell_type": "markdown",
   "metadata": {},
   "source": [
    "## Transform transcriptions to IPA..."
   ]
  },
  {
   "cell_type": "code",
   "execution_count": 92,
   "metadata": {
    "ExecuteTime": {
     "end_time": "2019-04-15T17:23:17.640274Z",
     "start_time": "2019-04-15T17:23:17.631822Z"
    }
   },
   "outputs": [
    {
     "data": {
      "text/plain": [
       "'xb@k'"
      ]
     },
     "execution_count": 92,
     "metadata": {},
     "output_type": "execute_result"
    },
    {
     "data": {
      "text/plain": [
       "('x', 'b', '@', 'k')"
      ]
     },
     "execution_count": 92,
     "metadata": {},
     "output_type": "execute_result"
    },
    {
     "data": {
      "text/plain": [
       "('ə', 'b', 'æ', 'k')"
      ]
     },
     "execution_count": 92,
     "metadata": {},
     "output_type": "execute_result"
    },
    {
     "data": {
      "text/plain": [
       "'ə.b.æ.k'"
      ]
     },
     "execution_count": 92,
     "metadata": {},
     "output_type": "execute_result"
    }
   ],
   "source": [
    "t = newdic_raw[2]['Transcription']\n",
    "t\n",
    "tuple(t)\n",
    "tuple(map(newdicToUnicodeIPA, tuple(t)))\n",
    "'.'.join(tuple(map(newdicToUnicodeIPA, tuple(t))))"
   ]
  },
  {
   "cell_type": "code",
   "execution_count": 93,
   "metadata": {
    "ExecuteTime": {
     "end_time": "2019-04-15T17:23:17.643614Z",
     "start_time": "2019-04-15T17:23:17.641380Z"
    }
   },
   "outputs": [],
   "source": [
    "dottedStringToTuple = lambda ds: tuple(ds.split('.'))\n",
    "tupleToDottedString = lambda t: '.'.join(t)"
   ]
  },
  {
   "cell_type": "code",
   "execution_count": 94,
   "metadata": {
    "ExecuteTime": {
     "end_time": "2019-04-15T17:23:17.649647Z",
     "start_time": "2019-04-15T17:23:17.644832Z"
    }
   },
   "outputs": [
    {
     "data": {
      "text/plain": [
       "'ə.b.æ.k'"
      ]
     },
     "execution_count": 94,
     "metadata": {},
     "output_type": "execute_result"
    }
   ],
   "source": [
    "tupleToDottedString( tuple(map(newdicToUnicodeIPA, \n",
    "                               tuple(t))) )"
   ]
  },
  {
   "cell_type": "code",
   "execution_count": 95,
   "metadata": {
    "ExecuteTime": {
     "end_time": "2019-04-15T17:23:17.654755Z",
     "start_time": "2019-04-15T17:23:17.650772Z"
    }
   },
   "outputs": [
    {
     "data": {
      "text/plain": [
       "'ə.b.æ.k'"
      ]
     },
     "execution_count": 95,
     "metadata": {},
     "output_type": "execute_result"
    }
   ],
   "source": [
    "def newdicTranscriptionToIPA(newdic_trn):\n",
    "    nt_tup = tuple(newdic_trn)\n",
    "    ipa_tup = tuple(map(newdicToUnicodeIPA, nt_tup))\n",
    "    return tupleToDottedString(ipa_tup)\n",
    "newdicTranscriptionToIPA(t)"
   ]
  },
  {
   "cell_type": "markdown",
   "metadata": {},
   "source": [
    "## Transform entries to have IPA transcriptions..."
   ]
  },
  {
   "cell_type": "code",
   "execution_count": 96,
   "metadata": {
    "ExecuteTime": {
     "end_time": "2019-04-15T17:23:17.659482Z",
     "start_time": "2019-04-15T17:23:17.655885Z"
    }
   },
   "outputs": [],
   "source": [
    "def edit_dict(the_dict, the_key, the_new_value):\n",
    "    '''\n",
    "    Composable (because it returns a value) but stateful(= in-place) dictionary update.\n",
    "    '''\n",
    "    the_dict.update({the_key: the_new_value})\n",
    "    return the_dict\n",
    "\n",
    "def modify_dict(the_dict, the_key, the_new_value):\n",
    "    '''\n",
    "    Composable and (naively-implemented) non-mutating dictionary update.\n",
    "    '''\n",
    "    new_dict = {k:the_dict[k] for k in the_dict}\n",
    "    new_dict.update({the_key: the_new_value})\n",
    "    return new_dict"
   ]
  },
  {
   "cell_type": "code",
   "execution_count": 97,
   "metadata": {
    "ExecuteTime": {
     "end_time": "2019-04-15T17:23:17.664794Z",
     "start_time": "2019-04-15T17:23:17.660686Z"
    }
   },
   "outputs": [],
   "source": [
    "def IPAify_newdic_entry(entry):\n",
    "    new_entry = modify_dict(entry, 'Transcription', newdicTranscriptionToIPA(entry['Transcription']))\n",
    "    return new_entry"
   ]
  },
  {
   "cell_type": "code",
   "execution_count": 98,
   "metadata": {
    "ExecuteTime": {
     "end_time": "2019-04-15T17:23:17.686313Z",
     "start_time": "2019-04-15T17:23:17.665864Z"
    }
   },
   "outputs": [
    {
     "data": {
      "text/plain": [
       "OrderedDict([('Transcription', 'xb@k'),\n",
       "             ('stressInfoA', \"_'\"),\n",
       "             ('stressInfoB', 'S2'),\n",
       "             ('Orthography', 'aback'),\n",
       "             ('Frequency', '2'),\n",
       "             ('PoSs', '(AV)')])"
      ]
     },
     "execution_count": 98,
     "metadata": {},
     "output_type": "execute_result"
    }
   ],
   "source": [
    "newdic_raw[2]"
   ]
  },
  {
   "cell_type": "code",
   "execution_count": 99,
   "metadata": {
    "ExecuteTime": {
     "end_time": "2019-04-15T17:23:17.692101Z",
     "start_time": "2019-04-15T17:23:17.687498Z"
    }
   },
   "outputs": [
    {
     "data": {
      "text/plain": [
       "{'Transcription': 'ə.b.æ.k',\n",
       " 'stressInfoA': \"_'\",\n",
       " 'stressInfoB': 'S2',\n",
       " 'Orthography': 'aback',\n",
       " 'Frequency': '2',\n",
       " 'PoSs': '(AV)'}"
      ]
     },
     "execution_count": 99,
     "metadata": {},
     "output_type": "execute_result"
    },
    {
     "data": {
      "text/plain": [
       "OrderedDict([('Transcription', 'xb@k'),\n",
       "             ('stressInfoA', \"_'\"),\n",
       "             ('stressInfoB', 'S2'),\n",
       "             ('Orthography', 'aback'),\n",
       "             ('Frequency', '2'),\n",
       "             ('PoSs', '(AV)')])"
      ]
     },
     "execution_count": 99,
     "metadata": {},
     "output_type": "execute_result"
    }
   ],
   "source": [
    "IPAify_newdic_entry(newdic_raw[2])\n",
    "newdic_raw[2]"
   ]
  },
  {
   "cell_type": "code",
   "execution_count": 100,
   "metadata": {
    "ExecuteTime": {
     "end_time": "2019-04-15T17:23:18.010419Z",
     "start_time": "2019-04-15T17:23:17.693283Z"
    }
   },
   "outputs": [
    {
     "data": {
      "text/plain": [
       "{'Transcription': 'ə.b.æ.k',\n",
       " 'stressInfoA': \"_'\",\n",
       " 'stressInfoB': 'S2',\n",
       " 'Orthography': 'aback',\n",
       " 'Frequency': '2',\n",
       " 'PoSs': '(AV)'}"
      ]
     },
     "execution_count": 100,
     "metadata": {},
     "output_type": "execute_result"
    }
   ],
   "source": [
    "newdic_IPA = list(map(IPAify_newdic_entry, newdic_raw))\n",
    "newdic_IPA[2]"
   ]
  },
  {
   "cell_type": "markdown",
   "metadata": {},
   "source": [
    "## Write to file / read back in"
   ]
  },
  {
   "cell_type": "code",
   "execution_count": 101,
   "metadata": {
    "ExecuteTime": {
     "end_time": "2019-04-15T17:23:18.014552Z",
     "start_time": "2019-04-15T17:23:18.011743Z"
    }
   },
   "outputs": [
    {
     "data": {
      "text/plain": [
       "'/mnt/cube/home/AD/emeinhar/newdic-nettalk'"
      ]
     },
     "execution_count": 101,
     "metadata": {},
     "output_type": "execute_result"
    }
   ],
   "source": [
    "%pwd"
   ]
  },
  {
   "cell_type": "code",
   "execution_count": 102,
   "metadata": {
    "ExecuteTime": {
     "end_time": "2019-04-15T17:23:18.130398Z",
     "start_time": "2019-04-15T17:23:18.015455Z"
    }
   },
   "outputs": [
    {
     "name": "stdout",
     "output_type": "stream",
     "text": [
      "'Converting Hammond'\\''s newdic (NETtalk) to Unicode IPA symbols.ipynb'\r\n",
      " newdic.txt\r\n"
     ]
    }
   ],
   "source": [
    "%ls *newdic*"
   ]
  },
  {
   "cell_type": "code",
   "execution_count": 103,
   "metadata": {
    "ExecuteTime": {
     "end_time": "2019-04-15T17:23:18.134888Z",
     "start_time": "2019-04-15T17:23:18.132447Z"
    }
   },
   "outputs": [],
   "source": [
    "import csv"
   ]
  },
  {
   "cell_type": "code",
   "execution_count": 104,
   "metadata": {
    "ExecuteTime": {
     "end_time": "2019-04-15T17:23:18.142565Z",
     "start_time": "2019-04-15T17:23:18.136594Z"
    }
   },
   "outputs": [
    {
     "data": {
      "text/plain": [
       "{'Transcription': 'ə',\n",
       " 'stressInfoA': '_',\n",
       " 'stressInfoB': 'S1',\n",
       " 'Orthography': 'a',\n",
       " 'Frequency': '23178',\n",
       " 'PoSs': '(N IA VB PP)'}"
      ]
     },
     "execution_count": 104,
     "metadata": {},
     "output_type": "execute_result"
    }
   ],
   "source": [
    "newdic_IPA[0]"
   ]
  },
  {
   "cell_type": "code",
   "execution_count": 105,
   "metadata": {
    "ExecuteTime": {
     "end_time": "2019-04-15T17:23:18.150928Z",
     "start_time": "2019-04-15T17:23:18.144095Z"
    }
   },
   "outputs": [
    {
     "data": {
      "text/plain": [
       "6"
      ]
     },
     "execution_count": 105,
     "metadata": {},
     "output_type": "execute_result"
    },
    {
     "data": {
      "text/plain": [
       "['Transcription',\n",
       " 'stressInfoA',\n",
       " 'stressInfoB',\n",
       " 'Orthography',\n",
       " 'Frequency',\n",
       " 'PoSs']"
      ]
     },
     "execution_count": 105,
     "metadata": {},
     "output_type": "execute_result"
    }
   ],
   "source": [
    "theFieldnames = ['Transcription', 'stressInfoA', 'stressInfoB', 'Orthography', 'Frequency', 'PoSs']\n",
    "len(theFieldnames)\n",
    "theFieldnames"
   ]
  },
  {
   "cell_type": "code",
   "execution_count": 106,
   "metadata": {
    "ExecuteTime": {
     "end_time": "2019-04-15T17:23:18.154836Z",
     "start_time": "2019-04-15T17:23:18.152547Z"
    }
   },
   "outputs": [],
   "source": [
    "newdic_IPA_stem = 'newdic_IPA'"
   ]
  },
  {
   "cell_type": "code",
   "execution_count": 107,
   "metadata": {
    "ExecuteTime": {
     "end_time": "2019-04-15T17:23:18.232024Z",
     "start_time": "2019-04-15T17:23:18.156254Z"
    }
   },
   "outputs": [],
   "source": [
    "with open(newdic_IPA_stem + '.tsv', 'w', newline='', encoding='utf-8') as csvfile:\n",
    "    writer = csv.DictWriter(csvfile, delimiter='\\t', fieldnames=theFieldnames)\n",
    "    writer.writeheader()\n",
    "    writer.writerows(newdic_IPA)"
   ]
  },
  {
   "cell_type": "code",
   "execution_count": 108,
   "metadata": {
    "ExecuteTime": {
     "end_time": "2019-04-15T17:23:18.237438Z",
     "start_time": "2019-04-15T17:23:18.233776Z"
    }
   },
   "outputs": [
    {
     "data": {
      "text/plain": [
       "'/mnt/cube/home/AD/emeinhar/newdic-nettalk'"
      ]
     },
     "execution_count": 108,
     "metadata": {},
     "output_type": "execute_result"
    }
   ],
   "source": [
    "%pwd"
   ]
  },
  {
   "cell_type": "code",
   "execution_count": 109,
   "metadata": {
    "ExecuteTime": {
     "end_time": "2019-04-15T17:23:18.355151Z",
     "start_time": "2019-04-15T17:23:18.238864Z"
    }
   },
   "outputs": [
    {
     "name": "stdout",
     "output_type": "stream",
     "text": [
      "newdic_IPA.tsv  newdic.txt\r\n"
     ]
    }
   ],
   "source": [
    "%ls newdic*"
   ]
  },
  {
   "cell_type": "code",
   "execution_count": 110,
   "metadata": {
    "ExecuteTime": {
     "end_time": "2019-04-15T17:23:18.472751Z",
     "start_time": "2019-04-15T17:23:18.357299Z"
    }
   },
   "outputs": [
    {
     "name": "stdout",
     "output_type": "stream",
     "text": [
      "     1\tTranscription\tstressInfoA\tstressInfoB\tOrthography\tFrequency\tPoSs\r",
      "\r\n",
      "     2\tə\t_\tS1\ta\t23178\t(N IA VB PP)\r",
      "\r\n",
      "     3\tɑ.ɹ.d.v.ɑ.ɹ.k\t'`\tS2\taardvark\t0\t(N)\r",
      "\r\n",
      "     4\tə.b.æ.k\t_'\tS2\taback\t2\t(AV)\r",
      "\r\n",
      "     5\tæ.b.ə.k.ə.s\t'__\tS3\tabacus\t0\t(N)\r",
      "\r\n",
      "     6\tə.b.æ.f.t\t_'\tS2\tabaft\t0\t(AV PP)\r",
      "\r\n",
      "     7\tæ.b.ə.l.oʊ.n.i\t`_'_\tS4\tabalone\t0\t(N)\r",
      "\r\n",
      "     8\tə.b.æ.n.d.ɪ.n\t_'_\tS3\tabandon\t17\t(VT N)\r",
      "\r\n",
      "     9\tə.b.eɪ.s\t_'\tS2\tabase\t0\t(VT)\r",
      "\r\n",
      "    10\tə.b.æ.ʃ\t_'\tS2\tabash\t0\t(VT)\r",
      "\r\n",
      "    11\tə.b.eɪ.t\t_'\tS2\tabate\t0\t(VT VI)\r",
      "\r\n",
      "    12\tæ.b.ə.t.i\t'_`\tS3\tabatis\t0\t(N)\r",
      "\r\n",
      "    13\tæ.b.ə.t.w.ɑ.ɹ\t'_`\tS3\tabattoir\t0\t(N)\r",
      "\r\n",
      "    14\tæ.b.ə.s.i\t'__\tS3\tabbacy\t0\t(N)\r",
      "\r\n",
      "    15\tæ.b.eɪ\t_'\tS2\tabbe\t3\t(N)\r",
      "\r\n",
      "    16\tæ.b.ə.s\t'_\tS2\tabbess\t0\t(N)\r",
      "\r\n",
      "    17\tæ.b.i\t'_\tS2\tabbey\t7\t(N)\r",
      "\r\n",
      "    18\tæ.b.ə.t\t'_\tS2\tabbot\t2\t(N)\r",
      "\r\n",
      "    19\tə.b.ɹ.i.v.i.eɪ.t\t_'_`\tS4\tabbreviate\t0\t(VT)\r",
      "\r\n",
      "    20\tə.b.ɹ.i.v.i.eɪ.ʃ.ɪ.n\t_`_'_\tS5\tabbreviation\t1\t(N)\r",
      "\r\n",
      "    21\tæ.b.d.ɪ.k.eɪ.t\t'_`\tS3\tabdicate\t0\t(VT VI)\r",
      "\r\n",
      "    22\tæ.b.d.ɪ.k.eɪ.ʃ.ɪ.n\t`_'_\tS4\tabdication\t0\t(N)\r",
      "\r\n",
      "    23\tæ.b.d.ə.m.ə.n\t'__\tS3\tabdomen\t6\t(N)\r",
      "\r\n",
      "    24\tæ.b.d.ɑ.m.ə.n.l̩\t_'__\tS4\tabdominal\t4\t(AJ)\r",
      "\r\n",
      "    25\tæ.b.d.ʌ.k.t\t_'\tS2\tabduct\t0\t(VT)\r",
      "\r\n",
      "    26\tə.b.i.m\t_'\tS2\tabeam\t0\t(AV)\r",
      "\r\n",
      "    27\teɪ.b.i.s.i.d.ɛ.ɹ.i.ə.n\t`_`'__\tS6\tabecedarian\t0\t(N AJ)\r",
      "\r\n",
      "    28\tə.b.ɛ.d\t_'\tS2\tabed\t1\t(AV)\r",
      "\r\n",
      "    29\tæ.b.ɛ.ɹ.ə.n.t\t_'_\tS3\taberrant\t5\t(AJ N)\r",
      "\r\n",
      "    30\tæ.b.ɚ.eɪ.ʃ.ɪ.n\t`_'_\tS4\taberration\t3\t(N)\r",
      "\r\n",
      "    31\tə.b.ɛ.t\t_'\tS2\tabet\t0\t(VT)\r",
      "\r\n",
      "    32\tə.b.eɪ.ə.n.s\t_'_\tS3\tabeyance\t3\t(N)\r",
      "\r\n",
      "    33\tə.b.h.ɔ.ɹ\t_'\tS2\tabhor\t0\t(VT)\r",
      "\r\n",
      "    34\tə.b.aɪ.d\t_'\tS2\tabide\t7\t(VT VI N)\r",
      "\r\n",
      "    35\tə.b.ɪ.l.ɪ.t.i\t_'__\tS4\tability\t74\t(N)\r",
      "\r\n",
      "    36\tæ.b.dʒ.ɛ.k.t\t'`\tS2\tabject\t3\t(AJ)\r",
      "\r\n",
      "    37\tæ.b.dʒ.ɛ.k.ʃ.ɪ.n\t_'_\tS3\tabjection\t1\t(N)\r",
      "\r\n",
      "    38\tæ.b.dʒ.ɛ.k.t.l.i\t'`_\tS3\tabjectly\t1\t(AV)\r",
      "\r\n",
      "    39\tæ.b.dʒ.ə.ɹ.eɪ.ʃ.ɪ.n\t`_'_\tS4\tabjuration\t0\t(N)\r",
      "\r\n",
      "    40\tæ.b.dʒ.ʊ.ɹ\t_'\tS2\tabjure\t0\t(VT)\r",
      "\r\n",
      "    41\tæ.b.l.eɪ.t\t_'\tS2\tablate\t0\t(VT VI)\r",
      "\r\n",
      "    42\tæ.b.l.ə.t.ɪ.v\t'__\tS3\tablative\t0\t(AJ)\r",
      "\r\n",
      "    43\tə.b.l.eɪ.z\t_'\tS2\tablaze\t3\t(AJ)\r",
      "\r\n",
      "    44\teɪ.b.l̩\t'_\tS2\table\t216\t(AJ)\r",
      "\r\n",
      "    45\tə.b.l.u.m\t_'\tS2\tabloom\t0\t(AJ)\r",
      "\r\n",
      "    46\tə.b.l.u.ʃ.ɪ.n\t_'_\tS3\tablution\t0\t(N)\r",
      "\r\n",
      "    47\tæ.b.n.ɪ.g.eɪ.t\t'_`\tS3\tabnegate\t0\t(VT)\r",
      "\r\n",
      "    48\tæ.b.n.ɪ.g.eɪ.ʃ.ɪ.n\t`_'_\tS4\tabnegation\t0\t(N)\r",
      "\r\n",
      "    49\tæ.b.n.ɔ.ɹ.m.l̩\t`'_\tS3\tabnormal\t3\t(AJ)\r",
      "\r\n",
      "    50\tæ.b.n.ɔ.ɹ.m.æ.l.ɪ.t.i\t``'__\tS5\tabnormality\t0\t(N)\r",
      "\r\n",
      "    51\tæ.b.n.ɔ.ɹ.m.l̩.i\t_'__\tS4\tabnormally\t1\t(AV)\r",
      "\r\n",
      "    52\tə.b.oʊ.ɹ.d\t_'\tS2\taboard\t25\t(AV PP)\r",
      "\r\n",
      "    53\tə.b.oʊ.d\t_'\tS2\tabode\t4\t(N)\r",
      "\r\n",
      "    54\tə.b.ɑ.l.ɪ.ʃ\t_'_\tS3\tabolish\t8\t(VT)\r",
      "\r\n",
      "    55\tæ.b.ə.l.ɪ.ʃ.ɪ.n\t`_'_\tS4\tabolition\t10\t(N)\r",
      "\r\n",
      "    56\tæ.b.ə.l.ɪ.ʃ.ɪ.n.ɪ.s.t\t`_'__\tS5\tabolitionist\t1\t(N AJ)\r",
      "\r\n",
      "    57\tə.b.ɑ.m.ə.n.ə.b.l̩\t_'___\tS5\tabominable\t0\t(AJ)\r",
      "\r\n",
      "    58\tə.b.ɑ.m.ə.n.eɪ.t\t_'_`\tS4\tabominate\t0\t(VT)\r",
      "\r\n",
      "    59\tæ.b.ɚ.ɪ.dʒ.ɪ.n.l̩\t__'__\tS5\taboriginal\t1\t(AJ)\r",
      "\r\n",
      "    60\tæ.b.ɚ.ɪ.dʒ.ɪ.n.i\t`_'_`\tS5\taborigine\t7\t(N)\r",
      "\r\n",
      "cat: write error: Broken pipe\r\n"
     ]
    }
   ],
   "source": [
    "%cat -n newdic_IPA.tsv | head -60"
   ]
  }
 ],
 "metadata": {
  "anaconda-cloud": {},
  "kernelspec": {
   "display_name": "Python 3",
   "language": "python",
   "name": "python3"
  },
  "language_info": {
   "codemirror_mode": {
    "name": "ipython",
    "version": 3
   },
   "file_extension": ".py",
   "mimetype": "text/x-python",
   "name": "python",
   "nbconvert_exporter": "python",
   "pygments_lexer": "ipython3",
   "version": "3.6.8"
  },
  "latex_envs": {
   "LaTeX_envs_menu_present": true,
   "autocomplete": true,
   "bibliofile": "biblio.bib",
   "cite_by": "apalike",
   "current_citInitial": 1,
   "eqLabelWithNumbers": true,
   "eqNumInitial": 1,
   "hotkeys": {
    "equation": "Ctrl-E",
    "itemize": "Ctrl-I"
   },
   "labels_anchors": false,
   "latex_user_defs": false,
   "report_style_numbering": false,
   "user_envs_cfg": false
  },
  "toc": {
   "base_numbering": 1,
   "nav_menu": {
    "height": "348px",
    "width": "252px"
   },
   "number_sections": true,
   "sideBar": false,
   "skip_h1_title": false,
   "title_cell": "Table of Contents",
   "title_sidebar": "Contents",
   "toc_cell": true,
   "toc_position": {},
   "toc_section_display": "block",
   "toc_window_display": false
  },
  "varInspector": {
   "cols": {
    "lenName": 16,
    "lenType": 16,
    "lenVar": 40
   },
   "kernels_config": {
    "python": {
     "delete_cmd_postfix": "",
     "delete_cmd_prefix": "del ",
     "library": "var_list.py",
     "varRefreshCmd": "print(var_dic_list())"
    },
    "r": {
     "delete_cmd_postfix": ") ",
     "delete_cmd_prefix": "rm(",
     "library": "var_list.r",
     "varRefreshCmd": "cat(var_dic_list()) "
    }
   },
   "types_to_exclude": [
    "module",
    "function",
    "builtin_function_or_method",
    "instance",
    "_Feature"
   ],
   "window_display": false
  }
 },
 "nbformat": 4,
 "nbformat_minor": 2
}
