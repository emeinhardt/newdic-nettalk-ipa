{
 "cells": [
  {
   "cell_type": "markdown",
   "metadata": {},
   "source": [
    "**Notebook author:** emeinhardt@ucsd.edu"
   ]
  },
  {
   "cell_type": "code",
   "execution_count": 1,
   "metadata": {
    "ExecuteTime": {
     "end_time": "2019-05-15T20:20:03.381079Z",
     "start_time": "2019-05-15T20:20:03.378132Z"
    }
   },
   "outputs": [],
   "source": [
    "#Prints **all** console output, not just last item in cell \n",
    "from IPython.core.interactiveshell import InteractiveShell\n",
    "InteractiveShell.ast_node_interactivity = \"all\""
   ]
  },
  {
   "cell_type": "markdown",
   "metadata": {
    "toc": "true"
   },
   "source": [
    "<h1>Table of Contents<span class=\"tocSkip\"></span></h1>\n",
    "<div class=\"toc\"><ul class=\"toc-item\"><li><span><a href=\"#Overview-and-requirements\" data-toc-modified-id=\"Overview-and-requirements-1\"><span class=\"toc-item-num\">1&nbsp;&nbsp;</span>Overview and requirements</a></span><ul class=\"toc-item\"><li><span><a href=\"#Context\" data-toc-modified-id=\"Context-1.1\"><span class=\"toc-item-num\">1.1&nbsp;&nbsp;</span>Context</a></span></li><li><span><a href=\"#About-the-transcriptions\" data-toc-modified-id=\"About-the-transcriptions-1.2\"><span class=\"toc-item-num\">1.2&nbsp;&nbsp;</span>About the transcriptions</a></span></li><li><span><a href=\"#This-notebook\" data-toc-modified-id=\"This-notebook-1.3\"><span class=\"toc-item-num\">1.3&nbsp;&nbsp;</span>This notebook</a></span></li></ul></li><li><span><a href=\"#Import-data\" data-toc-modified-id=\"Import-data-2\"><span class=\"toc-item-num\">2&nbsp;&nbsp;</span>Import data</a></span><ul class=\"toc-item\"><li><span><a href=\"#Hammond's-newdic\" data-toc-modified-id=\"Hammond's-newdic-2.1\"><span class=\"toc-item-num\">2.1&nbsp;&nbsp;</span>Hammond's newdic</a></span></li></ul></li><li><span><a href=\"#Identify-the-inventory-of-symbols\" data-toc-modified-id=\"Identify-the-inventory-of-symbols-3\"><span class=\"toc-item-num\">3&nbsp;&nbsp;</span>Identify the inventory of symbols</a></span></li><li><span><a href=\"#Convert-phonological-representations-to-IPA\" data-toc-modified-id=\"Convert-phonological-representations-to-IPA-4\"><span class=\"toc-item-num\">4&nbsp;&nbsp;</span>Convert phonological representations to IPA</a></span><ul class=\"toc-item\"><li><span><a href=\"#Group-symbols-to-be-mapped\" data-toc-modified-id=\"Group-symbols-to-be-mapped-4.1\"><span class=\"toc-item-num\">4.1&nbsp;&nbsp;</span>Group symbols to be mapped</a></span><ul class=\"toc-item\"><li><span><a href=\"#Fricatives-and-Affricates\" data-toc-modified-id=\"Fricatives-and-Affricates-4.1.1\"><span class=\"toc-item-num\">4.1.1&nbsp;&nbsp;</span>Fricatives and Affricates</a></span></li><li><span><a href=\"#Oral-stops\" data-toc-modified-id=\"Oral-stops-4.1.2\"><span class=\"toc-item-num\">4.1.2&nbsp;&nbsp;</span>Oral stops</a></span></li><li><span><a href=\"#Nasal-stops\" data-toc-modified-id=\"Nasal-stops-4.1.3\"><span class=\"toc-item-num\">4.1.3&nbsp;&nbsp;</span>Nasal stops</a></span></li><li><span><a href=\"#Liquids-and-Glides\" data-toc-modified-id=\"Liquids-and-Glides-4.1.4\"><span class=\"toc-item-num\">4.1.4&nbsp;&nbsp;</span>Liquids and Glides</a></span></li><li><span><a href=\"#Low-vowels\" data-toc-modified-id=\"Low-vowels-4.1.5\"><span class=\"toc-item-num\">4.1.5&nbsp;&nbsp;</span>Low vowels</a></span></li><li><span><a href=\"#Mid-vowels\" data-toc-modified-id=\"Mid-vowels-4.1.6\"><span class=\"toc-item-num\">4.1.6&nbsp;&nbsp;</span>Mid vowels</a></span></li><li><span><a href=\"#High-vowels\" data-toc-modified-id=\"High-vowels-4.1.7\"><span class=\"toc-item-num\">4.1.7&nbsp;&nbsp;</span>High vowels</a></span></li><li><span><a href=\"#Diphthongs\" data-toc-modified-id=\"Diphthongs-4.1.8\"><span class=\"toc-item-num\">4.1.8&nbsp;&nbsp;</span>Diphthongs</a></span></li><li><span><a href=\"#Altogether\" data-toc-modified-id=\"Altogether-4.1.9\"><span class=\"toc-item-num\">4.1.9&nbsp;&nbsp;</span>Altogether</a></span></li></ul></li><li><span><a href=\"#Define-newdic-inventory-->-IPA-mapping\" data-toc-modified-id=\"Define-newdic-inventory-->-IPA-mapping-4.2\"><span class=\"toc-item-num\">4.2&nbsp;&nbsp;</span>Define newdic inventory -&gt; IPA mapping</a></span></li><li><span><a href=\"#Transform-transcriptions-to-IPA...\" data-toc-modified-id=\"Transform-transcriptions-to-IPA...-4.3\"><span class=\"toc-item-num\">4.3&nbsp;&nbsp;</span>Transform transcriptions to IPA...</a></span></li><li><span><a href=\"#Transform-entries-to-have-IPA-transcriptions...\" data-toc-modified-id=\"Transform-entries-to-have-IPA-transcriptions...-4.4\"><span class=\"toc-item-num\">4.4&nbsp;&nbsp;</span>Transform entries to have IPA transcriptions...</a></span></li><li><span><a href=\"#Write-to-file-/-read-back-in\" data-toc-modified-id=\"Write-to-file-/-read-back-in-4.5\"><span class=\"toc-item-num\">4.5&nbsp;&nbsp;</span>Write to file / read back in</a></span></li></ul></li></ul></div>"
   ]
  },
  {
   "cell_type": "markdown",
   "metadata": {},
   "source": [
    "# Overview and requirements"
   ]
  },
  {
   "cell_type": "markdown",
   "metadata": {},
   "source": [
    "## Context\n",
    "\n",
    "Prof. Mike Hammond has a transcribed and annotated dictionary of American English located at \n",
    " - http://dingo.sbs.arizona.edu/~hammond/lsasummer11/newdic\n",
    "\n",
    "There's no documentation I'm aware of as to where any of this information came from. It was used to help create the inventory of American English diphones for Warner et al. 2014 (\"Tracking the perception of the sounds of English\").\n",
    "\n",
    "If you google some of the transcriptions, it appears the transcriptions are the same as those in the 'NETtalk corpus' of Sejnowski & Rosenberg 1987 (\"Parallel networks that learn to pronounce English text\"). The dataset can be found at UCI's Machine Learning Repository here\n",
    " - https://archive.ics.uci.edu/ml/datasets/Connectionist+Bench+(Nettalk+Corpus)\n",
    " \n",
    "Both `newdic.txt` and `nettalk.data` are included in this repository. The two files are not identical and contain slightly different annotations about each entry; newdic appears to contain about 500 fewer entries."
   ]
  },
  {
   "cell_type": "markdown",
   "metadata": {},
   "source": [
    "## About the transcriptions\n",
    "\n",
    "The text of Sejnowski & Rosenberg indicates that the transcriptions came from an unspecified version of *Meriam Webster's Pocket Dictionary*. (In other words, we have no systematic information or documentation about what the inventory is or what the assumptions of the transcribers were.)\n",
    "\n",
    "Each line of both dictionaries associates an orthographic wordform with a transcription, information about stress and syllabic structure, and other information. In the case of `nettalk.data`, this is an integer indicating whether the word is foreign or irregular. In the case of `newdic.txt`, this is a column explicitly indicating which syllable (counting from the left) has primary stress, what might be frequency count information (from an unknown dataset), and a list of part-of-speech tags that the orthographic wordform can have (based on an unknown dataset or annotation procedure).\n",
    "\n",
    "There are about 20k entries in each file and each associates an orthographic wordform with exactly one transcription."
   ]
  },
  {
   "cell_type": "markdown",
   "metadata": {},
   "source": [
    "## This notebook\n",
    "\n",
    "This notebook converts the transcriptions in `newdic.txt` to Unicode IPA symbols and documents my choices / my process of identifying correspondences.\n",
    "\n",
    "I am using Python 3. (Note that Python /3/ makes Unicode much more straightforward and painless to deal with than Python 2.) There are no other salient dependencies."
   ]
  },
  {
   "cell_type": "markdown",
   "metadata": {},
   "source": [
    "# Import data"
   ]
  },
  {
   "cell_type": "code",
   "execution_count": 2,
   "metadata": {
    "ExecuteTime": {
     "end_time": "2019-05-15T20:20:03.443625Z",
     "start_time": "2019-05-15T20:20:03.387082Z"
    }
   },
   "outputs": [
    {
     "data": {
      "text/plain": [
       "'/mnt/cube/home/AD/emeinhar/newdic-nettalk-ipa'"
      ]
     },
     "execution_count": 2,
     "metadata": {},
     "output_type": "execute_result"
    }
   ],
   "source": [
    "%pwd"
   ]
  },
  {
   "cell_type": "code",
   "execution_count": 3,
   "metadata": {
    "ExecuteTime": {
     "end_time": "2019-05-15T20:20:03.449197Z",
     "start_time": "2019-05-15T20:20:03.445167Z"
    }
   },
   "outputs": [],
   "source": [
    "import csv"
   ]
  },
  {
   "cell_type": "markdown",
   "metadata": {},
   "source": [
    "## Hammond's newdic"
   ]
  },
  {
   "cell_type": "code",
   "execution_count": 4,
   "metadata": {
    "ExecuteTime": {
     "end_time": "2019-05-15T20:20:03.562635Z",
     "start_time": "2019-05-15T20:20:03.450130Z"
    }
   },
   "outputs": [
    {
     "name": "stdout",
     "output_type": "stream",
     "text": [
      "newdic_IPA.tsv  newdic.txt\r\n"
     ]
    }
   ],
   "source": [
    "%ls newdic*"
   ]
  },
  {
   "cell_type": "code",
   "execution_count": 5,
   "metadata": {
    "ExecuteTime": {
     "end_time": "2019-05-15T20:20:03.567817Z",
     "start_time": "2019-05-15T20:20:03.565362Z"
    }
   },
   "outputs": [],
   "source": [
    "newdic_fn = \"newdic.txt\""
   ]
  },
  {
   "cell_type": "code",
   "execution_count": 6,
   "metadata": {
    "ExecuteTime": {
     "end_time": "2019-05-15T20:20:03.824380Z",
     "start_time": "2019-05-15T20:20:03.570205Z"
    }
   },
   "outputs": [
    {
     "name": "stdout",
     "output_type": "stream",
     "text": [
      "     1\tx\t_\tS1\ta\t23178\t(N IA VB PP)\r",
      "\r\n",
      "     2\tardvark\t'`\tS2\taardvark\t0\t(N)\r",
      "\r\n",
      "     3\txb@k\t_'\tS2\taback\t2\t(AV)\r",
      "\r\n",
      "     4\t@bxkxs\t'__\tS3\tabacus\t0\t(N)\r",
      "\r\n",
      "     5\txb@ft\t_'\tS2\tabaft\t0\t(AV PP)\r",
      "\r\n",
      "     6\t@bxloni\t`_'_\tS4\tabalone\t0\t(N)\r",
      "\r\n",
      "     7\txb@nd|n\t_'_\tS3\tabandon\t17\t(VT N)\r",
      "\r\n",
      "     8\txbes\t_'\tS2\tabase\t0\t(VT)\r",
      "\r\n",
      "     9\txb@S\t_'\tS2\tabash\t0\t(VT)\r",
      "\r\n",
      "    10\txbet\t_'\tS2\tabate\t0\t(VT VI)\r",
      "\r\n",
      "    11\t@bxti\t'_`\tS3\tabatis\t0\t(N)\r",
      "\r\n",
      "    12\t@bxtwar\t'_`\tS3\tabattoir\t0\t(N)\r",
      "\r\n",
      "    13\t@bxsi\t'__\tS3\tabbacy\t0\t(N)\r",
      "\r\n",
      "    14\t@be\t_'\tS2\tabbe\t3\t(N)\r",
      "\r\n",
      "    15\t@bxs\t'_\tS2\tabbess\t0\t(N)\r",
      "\r\n",
      "    16\t@bi\t'_\tS2\tabbey\t7\t(N)\r",
      "\r\n",
      "    17\t@bxt\t'_\tS2\tabbot\t2\t(N)\r",
      "\r\n",
      "    18\txbriviet\t_'_`\tS4\tabbreviate\t0\t(VT)\r",
      "\r\n",
      "    19\txbrivieS|n\t_`_'_\tS5\tabbreviation\t1\t(N)\r",
      "\r\n",
      "    20\t@bdIket\t'_`\tS3\tabdicate\t0\t(VT VI)\r",
      "\r\n",
      "    21\t@bdIkeS|n\t`_'_\tS4\tabdication\t0\t(N)\r",
      "\r\n",
      "    22\t@bdxmxn\t'__\tS3\tabdomen\t6\t(N)\r",
      "\r\n",
      "    23\t@bdamxnL\t_'__\tS4\tabdominal\t4\t(AJ)\r",
      "\r\n",
      "    24\t@bd^kt\t_'\tS2\tabduct\t0\t(VT)\r",
      "\r\n",
      "    25\txbim\t_'\tS2\tabeam\t0\t(AV)\r",
      "\r\n",
      "    26\tebisidErixn\t`_`'__\tS6\tabecedarian\t0\t(N AJ)\r",
      "\r\n",
      "    27\txbEd\t_'\tS2\tabed\t1\t(AV)\r",
      "\r\n",
      "    28\t@bErxnt\t_'_\tS3\taberrant\t5\t(AJ N)\r",
      "\r\n",
      "    29\t@bXeS|n\t`_'_\tS4\taberration\t3\t(N)\r",
      "\r\n",
      "    30\txbEt\t_'\tS2\tabet\t0\t(VT)\r",
      "\r\n",
      "    31\txbexns\t_'_\tS3\tabeyance\t3\t(N)\r",
      "\r\n",
      "    32\txbhcr\t_'\tS2\tabhor\t0\t(VT)\r",
      "\r\n",
      "    33\txbYd\t_'\tS2\tabide\t7\t(VT VI N)\r",
      "\r\n",
      "    34\txbIl|ti\t_'__\tS4\tability\t74\t(N)\r",
      "\r\n",
      "    35\t@bJEkt\t'`\tS2\tabject\t3\t(AJ)\r",
      "\r\n",
      "    36\t@bJEkS|n\t_'_\tS3\tabjection\t1\t(N)\r",
      "\r\n",
      "    37\t@bJEktli\t'`_\tS3\tabjectly\t1\t(AV)\r",
      "\r\n",
      "    38\t@bJxreS|n\t`_'_\tS4\tabjuration\t0\t(N)\r",
      "\r\n",
      "    39\t@bJUr\t_'\tS2\tabjure\t0\t(VT)\r",
      "\r\n",
      "    40\t@blet\t_'\tS2\tablate\t0\t(VT VI)\r",
      "\r\n",
      "    41\t@blxtIv\t'__\tS3\tablative\t0\t(AJ)\r",
      "\r\n",
      "    42\txblez\t_'\tS2\tablaze\t3\t(AJ)\r",
      "\r\n",
      "    43\tebL\t'_\tS2\table\t216\t(AJ)\r",
      "\r\n",
      "    44\txblum\t_'\tS2\tabloom\t0\t(AJ)\r",
      "\r\n",
      "    45\txbluS|n\t_'_\tS3\tablution\t0\t(N)\r",
      "\r\n",
      "    46\t@bnIget\t'_`\tS3\tabnegate\t0\t(VT)\r",
      "\r\n",
      "    47\t@bnIgeS|n\t`_'_\tS4\tabnegation\t0\t(N)\r",
      "\r\n",
      "    48\t@bncrmL\t`'_\tS3\tabnormal\t3\t(AJ)\r",
      "\r\n",
      "    49\t@bncrm@l|ti\t``'__\tS5\tabnormality\t0\t(N)\r",
      "\r\n",
      "    50\t@bncrmLi\t_'__\tS4\tabnormally\t1\t(AV)\r",
      "\r\n",
      "    51\txbord\t_'\tS2\taboard\t25\t(AV PP)\r",
      "\r\n",
      "    52\txbod\t_'\tS2\tabode\t4\t(N)\r",
      "\r\n",
      "    53\txbalIS\t_'_\tS3\tabolish\t8\t(VT)\r",
      "\r\n",
      "    54\t@bxlIS|n\t`_'_\tS4\tabolition\t10\t(N)\r",
      "\r\n",
      "    55\t@bxlIS|n|st\t`_'__\tS5\tabolitionist\t1\t(N AJ)\r",
      "\r\n",
      "    56\txbamxnxbL\t_'___\tS5\tabominable\t0\t(AJ)\r",
      "\r\n",
      "    57\txbamxnet\t_'_`\tS4\tabominate\t0\t(VT)\r",
      "\r\n",
      "    58\t@bXIJ|nL\t__'__\tS5\taboriginal\t1\t(AJ)\r",
      "\r\n",
      "    59\t@bXIJ|ni\t`_'_`\tS5\taborigine\t7\t(N)\r",
      "\r\n",
      "    60\txbcrnIG\t_'_\tS3\taborning\t0\t(AV)\r",
      "\r\n",
      "cat: write error: Broken pipe\r\n"
     ]
    }
   ],
   "source": [
    "%cat -n newdic.txt | head -60"
   ]
  },
  {
   "cell_type": "code",
   "execution_count": 7,
   "metadata": {
    "ExecuteTime": {
     "end_time": "2019-05-15T20:20:03.952510Z",
     "start_time": "2019-05-15T20:20:03.826745Z"
    }
   },
   "outputs": [
    {
     "data": {
      "text/plain": [
       "OrderedDict([('Transcription', 'x'),\n",
       "             ('stressInfoA', '_'),\n",
       "             ('stressInfoB', 'S1'),\n",
       "             ('Orthography', 'a'),\n",
       "             ('Frequency', '23178'),\n",
       "             ('PoSs', '(N IA VB PP)')])"
      ]
     },
     "execution_count": 7,
     "metadata": {},
     "output_type": "execute_result"
    },
    {
     "data": {
      "text/plain": [
       "6"
      ]
     },
     "execution_count": 7,
     "metadata": {},
     "output_type": "execute_result"
    }
   ],
   "source": [
    "newdic_raw = []\n",
    "fieldnames = ['Transcription', 'stressInfoA', 'stressInfoB', 'Orthography', 'Frequency', 'PoSs']\n",
    "with open(newdic_fn) as csvfile:\n",
    "    my_reader = csv.DictReader(csvfile, delimiter='\\t', fieldnames=fieldnames)\n",
    "    for row in my_reader:\n",
    "        #print(row)\n",
    "        newdic_raw.append(row)\n",
    "\n",
    "newdic_raw[0]\n",
    "len(newdic_raw[0].keys())"
   ]
  },
  {
   "cell_type": "markdown",
   "metadata": {},
   "source": [
    "# Identify the inventory of symbols"
   ]
  },
  {
   "cell_type": "code",
   "execution_count": 8,
   "metadata": {
    "ExecuteTime": {
     "end_time": "2019-05-15T20:20:03.983401Z",
     "start_time": "2019-05-15T20:20:03.954175Z"
    }
   },
   "outputs": [],
   "source": [
    "from functools import reduce"
   ]
  },
  {
   "cell_type": "code",
   "execution_count": 9,
   "metadata": {
    "ExecuteTime": {
     "end_time": "2019-05-15T20:20:04.061365Z",
     "start_time": "2019-05-15T20:20:03.985280Z"
    }
   },
   "outputs": [],
   "source": [
    "def union(Ss):\n",
    "    return reduce(set.union, Ss)"
   ]
  },
  {
   "cell_type": "code",
   "execution_count": 10,
   "metadata": {
    "ExecuteTime": {
     "end_time": "2019-05-15T20:20:04.180048Z",
     "start_time": "2019-05-15T20:20:04.063275Z"
    }
   },
   "outputs": [
    {
     "data": {
      "text/plain": [
       "['x',\n",
       " 'ardvark',\n",
       " 'xb@k',\n",
       " '@bxkxs',\n",
       " 'xb@ft',\n",
       " '@bxloni',\n",
       " 'xb@nd|n',\n",
       " 'xbes',\n",
       " 'xb@S',\n",
       " 'xbet']"
      ]
     },
     "execution_count": 10,
     "metadata": {},
     "output_type": "execute_result"
    }
   ],
   "source": [
    "transcriptions = [row['Transcription'] for row in newdic_raw]\n",
    "transcriptions[:10]"
   ]
  },
  {
   "cell_type": "code",
   "execution_count": 11,
   "metadata": {
    "ExecuteTime": {
     "end_time": "2019-05-15T20:20:04.271471Z",
     "start_time": "2019-05-15T20:20:04.181999Z"
    }
   },
   "outputs": [
    {
     "data": {
      "text/plain": [
       "45"
      ]
     },
     "execution_count": 11,
     "metadata": {},
     "output_type": "execute_result"
    },
    {
     "data": {
      "text/plain": [
       "{'@',\n",
       " 'C',\n",
       " 'D',\n",
       " 'E',\n",
       " 'G',\n",
       " 'I',\n",
       " 'J',\n",
       " 'L',\n",
       " 'M',\n",
       " 'N',\n",
       " 'O',\n",
       " 'R',\n",
       " 'S',\n",
       " 'T',\n",
       " 'U',\n",
       " 'W',\n",
       " 'X',\n",
       " 'Y',\n",
       " 'Z',\n",
       " '^',\n",
       " 'a',\n",
       " 'b',\n",
       " 'c',\n",
       " 'd',\n",
       " 'e',\n",
       " 'f',\n",
       " 'g',\n",
       " 'h',\n",
       " 'i',\n",
       " 'k',\n",
       " 'l',\n",
       " 'm',\n",
       " 'n',\n",
       " 'o',\n",
       " 'p',\n",
       " 'r',\n",
       " 's',\n",
       " 't',\n",
       " 'u',\n",
       " 'v',\n",
       " 'w',\n",
       " 'x',\n",
       " 'y',\n",
       " 'z',\n",
       " '|'}"
      ]
     },
     "execution_count": 11,
     "metadata": {},
     "output_type": "execute_result"
    }
   ],
   "source": [
    "getSymbols = lambda transcription: set(transcription)\n",
    "symbols = union(map(getSymbols, transcriptions))\n",
    "len(symbols)\n",
    "symbols"
   ]
  },
  {
   "cell_type": "markdown",
   "metadata": {},
   "source": [
    "# Convert phonological representations to IPA"
   ]
  },
  {
   "cell_type": "code",
   "execution_count": 12,
   "metadata": {
    "ExecuteTime": {
     "end_time": "2019-05-15T20:20:04.325101Z",
     "start_time": "2019-05-15T20:20:04.273114Z"
    }
   },
   "outputs": [
    {
     "data": {
      "text/plain": [
       "OrderedDict([('Transcription', 'xb@k'),\n",
       "             ('stressInfoA', \"_'\"),\n",
       "             ('stressInfoB', 'S2'),\n",
       "             ('Orthography', 'aback'),\n",
       "             ('Frequency', '2'),\n",
       "             ('PoSs', '(AV)')])"
      ]
     },
     "execution_count": 12,
     "metadata": {},
     "output_type": "execute_result"
    }
   ],
   "source": [
    "newdic_raw[2]"
   ]
  },
  {
   "cell_type": "markdown",
   "metadata": {},
   "source": [
    "We want to convert the transcription field into a string of IPA symbols, with each segment separated by a '.'"
   ]
  },
  {
   "cell_type": "markdown",
   "metadata": {},
   "source": [
    "## Group symbols to be mapped"
   ]
  },
  {
   "cell_type": "markdown",
   "metadata": {},
   "source": [
    "This subsection incrementally shows/documents the mapping into IPA symbols with examples."
   ]
  },
  {
   "cell_type": "code",
   "execution_count": 13,
   "metadata": {
    "ExecuteTime": {
     "end_time": "2019-05-15T20:20:04.344282Z",
     "start_time": "2019-05-15T20:20:04.326670Z"
    }
   },
   "outputs": [],
   "source": [
    "def wordsWithSymbol(s):\n",
    "    return [row for row in newdic_raw if s in row['Transcription']]"
   ]
  },
  {
   "cell_type": "code",
   "execution_count": 14,
   "metadata": {
    "ExecuteTime": {
     "end_time": "2019-05-15T20:20:04.368624Z",
     "start_time": "2019-05-15T20:20:04.345901Z"
    }
   },
   "outputs": [
    {
     "data": {
      "text/plain": [
       "45"
      ]
     },
     "execution_count": 14,
     "metadata": {},
     "output_type": "execute_result"
    },
    {
     "data": {
      "text/plain": [
       "45"
      ]
     },
     "execution_count": 14,
     "metadata": {},
     "output_type": "execute_result"
    },
    {
     "data": {
      "text/plain": [
       "set()"
      ]
     },
     "execution_count": 14,
     "metadata": {},
     "output_type": "execute_result"
    },
    {
     "data": {
      "text/plain": [
       "set()"
      ]
     },
     "execution_count": 14,
     "metadata": {},
     "output_type": "execute_result"
    }
   ],
   "source": [
    "# preliminary sorting of consonants by manner\n",
    "fricativesAffricates = ('f','v','T','D','s','z','S','Z','C','J','h') #fricatives and affricates organized by place\n",
    "oralStops = ('p','b','t','d','k','g') #oral stops by place\n",
    "nasalStops = ('m','n','G','M','N') #non-syllabic nasal stops by place + syllabic nasals by place\n",
    "liquidsGlides = ('w','y','r','l','L') #liquids and glides in no particular order\n",
    "consonants = set(fricativesAffricates) | set(oralStops) | set(nasalStops) | set(liquidsGlides)\n",
    "\n",
    "#preliminary sorting of monopthongs by height + dipthongs\n",
    "lowVowels = ('@','c','a')\n",
    "midVowels = ('x','^','X','R','E')\n",
    "highVowels = ('i','I','|','U','u')\n",
    "diphthongs = ('W','o','e','O','Y')\n",
    "vowels = set(lowVowels) | set(midVowels) | set(highVowels) | set(diphthongs)\n",
    "\n",
    "len(symbols)\n",
    "len(consonants | vowels)\n",
    "symbols - (consonants | vowels)\n",
    "(consonants | vowels) - symbols"
   ]
  },
  {
   "cell_type": "code",
   "execution_count": 15,
   "metadata": {
    "ExecuteTime": {
     "end_time": "2019-05-15T20:20:04.372531Z",
     "start_time": "2019-05-15T20:20:04.369921Z"
    }
   },
   "outputs": [],
   "source": [
    "from random import choice, choices\n",
    "\n",
    "def nExampleWordsWith(s, n=10):\n",
    "    return choices(wordsWithSymbol(s), k=n)"
   ]
  },
  {
   "cell_type": "code",
   "execution_count": 16,
   "metadata": {
    "ExecuteTime": {
     "end_time": "2019-05-15T20:20:04.621616Z",
     "start_time": "2019-05-15T20:20:04.373822Z"
    }
   },
   "outputs": [],
   "source": [
    "exampleMap = {s:nExampleWordsWith(s) for s in symbols}"
   ]
  },
  {
   "cell_type": "code",
   "execution_count": 17,
   "metadata": {
    "ExecuteTime": {
     "end_time": "2019-05-15T20:20:04.654369Z",
     "start_time": "2019-05-15T20:20:04.622857Z"
    }
   },
   "outputs": [],
   "source": [
    "mapping = dict()"
   ]
  },
  {
   "cell_type": "code",
   "execution_count": 18,
   "metadata": {
    "ExecuteTime": {
     "end_time": "2019-05-15T20:20:04.660477Z",
     "start_time": "2019-05-15T20:20:04.655553Z"
    }
   },
   "outputs": [],
   "source": [
    "def addMapping(newdicSymbol, IPAsymbol):\n",
    "    mapping.update({newdicSymbol: IPAsymbol})"
   ]
  },
  {
   "cell_type": "markdown",
   "metadata": {},
   "source": [
    "### Fricatives and Affricates"
   ]
  },
  {
   "cell_type": "code",
   "execution_count": 19,
   "metadata": {
    "ExecuteTime": {
     "end_time": "2019-05-15T20:20:04.668413Z",
     "start_time": "2019-05-15T20:20:04.665894Z"
    }
   },
   "outputs": [
    {
     "data": {
      "text/plain": [
       "('f', 'v', 'T', 'D', 's', 'z', 'S', 'Z', 'C', 'J', 'h')"
      ]
     },
     "execution_count": 19,
     "metadata": {},
     "output_type": "execute_result"
    }
   ],
   "source": [
    "fricativesAffricates"
   ]
  },
  {
   "cell_type": "code",
   "execution_count": 20,
   "metadata": {
    "ExecuteTime": {
     "end_time": "2019-05-15T20:20:04.673366Z",
     "start_time": "2019-05-15T20:20:04.671037Z"
    }
   },
   "outputs": [],
   "source": [
    "addMapping('f','f')\n",
    "addMapping('v','v')\n",
    "addMapping('s','s')\n",
    "addMapping('z','z')\n",
    "addMapping('h','h')"
   ]
  },
  {
   "cell_type": "code",
   "execution_count": 21,
   "metadata": {
    "ExecuteTime": {
     "end_time": "2019-05-15T20:20:04.680642Z",
     "start_time": "2019-05-15T20:20:04.674275Z"
    }
   },
   "outputs": [
    {
     "data": {
      "text/plain": [
       "[OrderedDict([('Transcription', 'suT'),\n",
       "              ('stressInfoA', \"'\"),\n",
       "              ('stressInfoB', 'S1'),\n",
       "              ('Orthography', 'sooth'),\n",
       "              ('Frequency', '0'),\n",
       "              ('PoSs', '(AJ N)')]),\n",
       " OrderedDict([('Transcription', '@mX@nT'),\n",
       "              ('stressInfoA', \"'_`\"),\n",
       "              ('stressInfoB', 'S3'),\n",
       "              ('Orthography', 'amaranth'),\n",
       "              ('Frequency', '0'),\n",
       "              ('PoSs', '(N)')])]"
      ]
     },
     "execution_count": 21,
     "metadata": {},
     "output_type": "execute_result"
    }
   ],
   "source": [
    "exampleMap['T'][:2] # θ"
   ]
  },
  {
   "cell_type": "code",
   "execution_count": 22,
   "metadata": {
    "ExecuteTime": {
     "end_time": "2019-05-15T20:20:04.776488Z",
     "start_time": "2019-05-15T20:20:04.682101Z"
    }
   },
   "outputs": [],
   "source": [
    "addMapping('T', 'θ')"
   ]
  },
  {
   "cell_type": "code",
   "execution_count": 23,
   "metadata": {
    "ExecuteTime": {
     "end_time": "2019-05-15T20:20:04.871932Z",
     "start_time": "2019-05-15T20:20:04.777735Z"
    }
   },
   "outputs": [
    {
     "data": {
      "text/plain": [
       "[OrderedDict([('Transcription', 'InriD'),\n",
       "              ('stressInfoA', \"_'\"),\n",
       "              ('stressInfoB', 'S2'),\n",
       "              ('Orthography', 'enwreathe'),\n",
       "              ('Frequency', '0'),\n",
       "              ('PoSs', '(VT)')]),\n",
       " OrderedDict([('Transcription', 'dIDX'),\n",
       "              ('stressInfoA', \"'_\"),\n",
       "              ('stressInfoB', 'S2'),\n",
       "              ('Orthography', 'dither'),\n",
       "              ('Frequency', '0'),\n",
       "              ('PoSs', '(VI N)')])]"
      ]
     },
     "execution_count": 23,
     "metadata": {},
     "output_type": "execute_result"
    }
   ],
   "source": [
    "exampleMap['D'][:2] # ð"
   ]
  },
  {
   "cell_type": "code",
   "execution_count": 24,
   "metadata": {
    "ExecuteTime": {
     "end_time": "2019-05-15T20:20:04.962444Z",
     "start_time": "2019-05-15T20:20:04.873680Z"
    }
   },
   "outputs": [],
   "source": [
    "addMapping('D', 'ð')"
   ]
  },
  {
   "cell_type": "code",
   "execution_count": 25,
   "metadata": {
    "ExecuteTime": {
     "end_time": "2019-05-15T20:20:04.971624Z",
     "start_time": "2019-05-15T20:20:04.964092Z"
    }
   },
   "outputs": [
    {
     "data": {
      "text/plain": [
       "[OrderedDict([('Transcription', 'aksES|n'),\n",
       "              ('stressInfoA', \"_'_\"),\n",
       "              ('stressInfoB', 'S3'),\n",
       "              ('Orthography', 'accession'),\n",
       "              ('Frequency', '0'),\n",
       "              ('PoSs', '(N VT)')]),\n",
       " OrderedDict([('Transcription', 'kans|kreS|n'),\n",
       "              ('stressInfoA', \"`_'_\"),\n",
       "              ('stressInfoB', 'S4'),\n",
       "              ('Orthography', 'consecration'),\n",
       "              ('Frequency', '1'),\n",
       "              ('PoSs', '(N)')])]"
      ]
     },
     "execution_count": 25,
     "metadata": {},
     "output_type": "execute_result"
    }
   ],
   "source": [
    "exampleMap['S'][:2] # ʃ"
   ]
  },
  {
   "cell_type": "code",
   "execution_count": 26,
   "metadata": {
    "ExecuteTime": {
     "end_time": "2019-05-15T20:20:04.975136Z",
     "start_time": "2019-05-15T20:20:04.972967Z"
    }
   },
   "outputs": [],
   "source": [
    "addMapping('S', 'ʃ')"
   ]
  },
  {
   "cell_type": "code",
   "execution_count": 27,
   "metadata": {
    "ExecuteTime": {
     "end_time": "2019-05-15T20:20:04.982752Z",
     "start_time": "2019-05-15T20:20:04.976367Z"
    }
   },
   "outputs": [
    {
     "data": {
      "text/plain": [
       "[OrderedDict([('Transcription', '@n|sTiZx'),\n",
       "              ('stressInfoA', \"`_'_\"),\n",
       "              ('stressInfoB', 'S4'),\n",
       "              ('Orthography', 'anesthesia'),\n",
       "              ('Frequency', '0'),\n",
       "              ('PoSs', '(N)')]),\n",
       " OrderedDict([('Transcription', 'vIZuxlYzX'),\n",
       "              ('stressInfoA', \"'__`_\"),\n",
       "              ('stressInfoB', 'S5'),\n",
       "              ('Orthography', 'visualizer'),\n",
       "              ('Frequency', '0'),\n",
       "              ('PoSs', '(N)')])]"
      ]
     },
     "execution_count": 27,
     "metadata": {},
     "output_type": "execute_result"
    }
   ],
   "source": [
    "exampleMap['Z'][:2] # ʒ"
   ]
  },
  {
   "cell_type": "code",
   "execution_count": 28,
   "metadata": {
    "ExecuteTime": {
     "end_time": "2019-05-15T20:20:05.048976Z",
     "start_time": "2019-05-15T20:20:04.984018Z"
    }
   },
   "outputs": [],
   "source": [
    "addMapping('Z', 'ʒ')"
   ]
  },
  {
   "cell_type": "code",
   "execution_count": 29,
   "metadata": {
    "ExecuteTime": {
     "end_time": "2019-05-15T20:20:05.103729Z",
     "start_time": "2019-05-15T20:20:05.050198Z"
    }
   },
   "outputs": [
    {
     "data": {
      "text/plain": [
       "[OrderedDict([('Transcription', 'InxfEkCuL'),\n",
       "              ('stressInfoA', \"`_'__\"),\n",
       "              ('stressInfoB', 'S5'),\n",
       "              ('Orthography', 'ineffectual'),\n",
       "              ('Frequency', '1'),\n",
       "              ('PoSs', '(AJ)')]),\n",
       " OrderedDict([('Transcription', 'spIrICuxlIstIk'),\n",
       "              ('stressInfoA', \"`___'_\"),\n",
       "              ('stressInfoB', 'S6'),\n",
       "              ('Orthography', 'spiritualistic'),\n",
       "              ('Frequency', '0'),\n",
       "              ('PoSs', '(AJ)')])]"
      ]
     },
     "execution_count": 29,
     "metadata": {},
     "output_type": "execute_result"
    }
   ],
   "source": [
    "exampleMap['C'][:2] # tʃ"
   ]
  },
  {
   "cell_type": "code",
   "execution_count": 30,
   "metadata": {
    "ExecuteTime": {
     "end_time": "2019-05-15T20:20:05.117863Z",
     "start_time": "2019-05-15T20:20:05.105378Z"
    }
   },
   "outputs": [],
   "source": [
    "addMapping('C', 'tʃ')"
   ]
  },
  {
   "cell_type": "code",
   "execution_count": 31,
   "metadata": {
    "ExecuteTime": {
     "end_time": "2019-05-15T20:20:05.124834Z",
     "start_time": "2019-05-15T20:20:05.119279Z"
    }
   },
   "outputs": [
    {
     "data": {
      "text/plain": [
       "[OrderedDict([('Transcription', '@nJElIk'),\n",
       "              ('stressInfoA', \"_'_\"),\n",
       "              ('stressInfoB', 'S3'),\n",
       "              ('Orthography', 'angelic'),\n",
       "              ('Frequency', '2'),\n",
       "              ('PoSs', '(AJ)')]),\n",
       " OrderedDict([('Transcription', 'taks|kalxJ|st'),\n",
       "              ('stressInfoA', \"`_'__\"),\n",
       "              ('stressInfoB', 'S5'),\n",
       "              ('Orthography', 'toxicologist'),\n",
       "              ('Frequency', '0'),\n",
       "              ('PoSs', '(N)')])]"
      ]
     },
     "execution_count": 31,
     "metadata": {},
     "output_type": "execute_result"
    }
   ],
   "source": [
    "exampleMap['J'][:2] # dʒ"
   ]
  },
  {
   "cell_type": "code",
   "execution_count": 32,
   "metadata": {
    "ExecuteTime": {
     "end_time": "2019-05-15T20:20:05.130651Z",
     "start_time": "2019-05-15T20:20:05.126069Z"
    }
   },
   "outputs": [],
   "source": [
    "addMapping('J', 'dʒ')"
   ]
  },
  {
   "cell_type": "markdown",
   "metadata": {},
   "source": [
    "### Oral stops"
   ]
  },
  {
   "cell_type": "code",
   "execution_count": 33,
   "metadata": {
    "ExecuteTime": {
     "end_time": "2019-05-15T20:20:05.137277Z",
     "start_time": "2019-05-15T20:20:05.131989Z"
    }
   },
   "outputs": [
    {
     "data": {
      "text/plain": [
       "('p', 'b', 't', 'd', 'k', 'g')"
      ]
     },
     "execution_count": 33,
     "metadata": {},
     "output_type": "execute_result"
    }
   ],
   "source": [
    "oralStops"
   ]
  },
  {
   "cell_type": "code",
   "execution_count": 34,
   "metadata": {
    "ExecuteTime": {
     "end_time": "2019-05-15T20:20:05.141577Z",
     "start_time": "2019-05-15T20:20:05.138646Z"
    }
   },
   "outputs": [],
   "source": [
    "addMapping('p','p')\n",
    "addMapping('b','b')\n",
    "addMapping('t','t')\n",
    "addMapping('d','d')\n",
    "addMapping('k','k')\n",
    "addMapping('g','g')"
   ]
  },
  {
   "cell_type": "markdown",
   "metadata": {},
   "source": [
    "### Nasal stops"
   ]
  },
  {
   "cell_type": "code",
   "execution_count": 35,
   "metadata": {
    "ExecuteTime": {
     "end_time": "2019-05-15T20:20:05.148179Z",
     "start_time": "2019-05-15T20:20:05.142895Z"
    }
   },
   "outputs": [
    {
     "data": {
      "text/plain": [
       "('m', 'n', 'G', 'M', 'N')"
      ]
     },
     "execution_count": 35,
     "metadata": {},
     "output_type": "execute_result"
    }
   ],
   "source": [
    "nasalStops"
   ]
  },
  {
   "cell_type": "code",
   "execution_count": 36,
   "metadata": {
    "ExecuteTime": {
     "end_time": "2019-05-15T20:20:05.151926Z",
     "start_time": "2019-05-15T20:20:05.149529Z"
    }
   },
   "outputs": [],
   "source": [
    "addMapping('m','m')\n",
    "addMapping('n','n')"
   ]
  },
  {
   "cell_type": "code",
   "execution_count": 37,
   "metadata": {
    "ExecuteTime": {
     "end_time": "2019-05-15T20:20:05.159057Z",
     "start_time": "2019-05-15T20:20:05.153260Z"
    }
   },
   "outputs": [
    {
     "data": {
      "text/plain": [
       "[OrderedDict([('Transcription', '^pst@ndIG'),\n",
       "              ('stressInfoA', \"`'_\"),\n",
       "              ('stressInfoB', 'S3'),\n",
       "              ('Orthography', 'upstanding'),\n",
       "              ('Frequency', '1'),\n",
       "              ('PoSs', '(AJ)')]),\n",
       " OrderedDict([('Transcription', 'S@Gk'),\n",
       "              ('stressInfoA', \"'\"),\n",
       "              ('stressInfoB', 'S1'),\n",
       "              ('Orthography', 'shank'),\n",
       "              ('Frequency', '1'),\n",
       "              ('PoSs', '(N)')])]"
      ]
     },
     "execution_count": 37,
     "metadata": {},
     "output_type": "execute_result"
    }
   ],
   "source": [
    "exampleMap['G'][:2] # ŋ"
   ]
  },
  {
   "cell_type": "code",
   "execution_count": 38,
   "metadata": {
    "ExecuteTime": {
     "end_time": "2019-05-15T20:20:05.162692Z",
     "start_time": "2019-05-15T20:20:05.160360Z"
    }
   },
   "outputs": [],
   "source": [
    "addMapping('G', 'ŋ')"
   ]
  },
  {
   "cell_type": "code",
   "execution_count": 39,
   "metadata": {
    "ExecuteTime": {
     "end_time": "2019-05-15T20:20:05.169258Z",
     "start_time": "2019-05-15T20:20:05.164005Z"
    }
   },
   "outputs": [
    {
     "data": {
      "text/plain": [
       "[OrderedDict([('Transcription', 'vEnM'),\n",
       "              ('stressInfoA', \"'_\"),\n",
       "              ('stressInfoB', 'S2'),\n",
       "              ('Orthography', 'venom'),\n",
       "              ('Frequency', '2'),\n",
       "              ('PoSs', '(N VT)')]),\n",
       " OrderedDict([('Transcription', '@nXkIzM'),\n",
       "              ('stressInfoA', \"'_`_\"),\n",
       "              ('stressInfoB', 'S4'),\n",
       "              ('Orthography', 'anarchism'),\n",
       "              ('Frequency', '0'),\n",
       "              ('PoSs', '(N)')])]"
      ]
     },
     "execution_count": 39,
     "metadata": {},
     "output_type": "execute_result"
    }
   ],
   "source": [
    "exampleMap['M'][:2] # m̩"
   ]
  },
  {
   "cell_type": "code",
   "execution_count": 40,
   "metadata": {
    "ExecuteTime": {
     "end_time": "2019-05-15T20:20:05.172836Z",
     "start_time": "2019-05-15T20:20:05.170607Z"
    }
   },
   "outputs": [],
   "source": [
    "addMapping('M','m̩')"
   ]
  },
  {
   "cell_type": "code",
   "execution_count": 41,
   "metadata": {
    "ExecuteTime": {
     "end_time": "2019-05-15T20:20:05.179658Z",
     "start_time": "2019-05-15T20:20:05.174160Z"
    }
   },
   "outputs": [
    {
     "data": {
      "text/plain": [
       "[OrderedDict([('Transcription', 'hwYtN'),\n",
       "              ('stressInfoA', \"'_\"),\n",
       "              ('stressInfoB', 'S2'),\n",
       "              ('Orthography', 'whiten'),\n",
       "              ('Frequency', '0'),\n",
       "              ('PoSs', '(VT VI)')]),\n",
       " OrderedDict([('Transcription', 's^dN'),\n",
       "              ('stressInfoA', \"'_\"),\n",
       "              ('stressInfoB', 'S2'),\n",
       "              ('Orthography', 'sudden'),\n",
       "              ('Frequency', '39'),\n",
       "              ('PoSs', '(AJ N)')])]"
      ]
     },
     "execution_count": 41,
     "metadata": {},
     "output_type": "execute_result"
    }
   ],
   "source": [
    "exampleMap['N'][:2] # n̩"
   ]
  },
  {
   "cell_type": "code",
   "execution_count": 42,
   "metadata": {
    "ExecuteTime": {
     "end_time": "2019-05-15T20:20:05.182981Z",
     "start_time": "2019-05-15T20:20:05.180847Z"
    }
   },
   "outputs": [],
   "source": [
    "addMapping('N','n̩')"
   ]
  },
  {
   "cell_type": "markdown",
   "metadata": {},
   "source": [
    "### Liquids and Glides"
   ]
  },
  {
   "cell_type": "code",
   "execution_count": 43,
   "metadata": {
    "ExecuteTime": {
     "end_time": "2019-05-15T20:20:05.189322Z",
     "start_time": "2019-05-15T20:20:05.184214Z"
    }
   },
   "outputs": [
    {
     "data": {
      "text/plain": [
       "('w', 'y', 'r', 'l', 'L')"
      ]
     },
     "execution_count": 43,
     "metadata": {},
     "output_type": "execute_result"
    }
   ],
   "source": [
    "liquidsGlides"
   ]
  },
  {
   "cell_type": "code",
   "execution_count": 44,
   "metadata": {
    "ExecuteTime": {
     "end_time": "2019-05-15T20:20:05.193672Z",
     "start_time": "2019-05-15T20:20:05.190633Z"
    }
   },
   "outputs": [],
   "source": [
    "addMapping('w','w')\n",
    "addMapping('y','j')\n",
    "addMapping('r','ɹ')\n",
    "addMapping('l','l')"
   ]
  },
  {
   "cell_type": "code",
   "execution_count": 45,
   "metadata": {
    "ExecuteTime": {
     "end_time": "2019-05-15T20:20:05.201476Z",
     "start_time": "2019-05-15T20:20:05.194986Z"
    }
   },
   "outputs": [
    {
     "data": {
      "text/plain": [
       "[OrderedDict([('Transcription', 'InxfesxbL'),\n",
       "              ('stressInfoA', \"`_'__\"),\n",
       "              ('stressInfoB', 'S5'),\n",
       "              ('Orthography', 'ineffaceable'),\n",
       "              ('Frequency', '0'),\n",
       "              ('PoSs', '(AJ)')]),\n",
       " OrderedDict([('Transcription', '@ksxdEntL'),\n",
       "              ('stressInfoA', \"`_'_\"),\n",
       "              ('stressInfoB', 'S4'),\n",
       "              ('Orthography', 'accidental'),\n",
       "              ('Frequency', '10'),\n",
       "              ('PoSs', '(AJ N)')])]"
      ]
     },
     "execution_count": 45,
     "metadata": {},
     "output_type": "execute_result"
    }
   ],
   "source": [
    "exampleMap['L'][:2] # l̩"
   ]
  },
  {
   "cell_type": "code",
   "execution_count": 46,
   "metadata": {
    "ExecuteTime": {
     "end_time": "2019-05-15T20:20:05.227126Z",
     "start_time": "2019-05-15T20:20:05.203560Z"
    }
   },
   "outputs": [],
   "source": [
    "addMapping('L', 'l̩')"
   ]
  },
  {
   "cell_type": "markdown",
   "metadata": {},
   "source": [
    "### Low vowels"
   ]
  },
  {
   "cell_type": "code",
   "execution_count": 47,
   "metadata": {
    "ExecuteTime": {
     "end_time": "2019-05-15T20:20:05.233450Z",
     "start_time": "2019-05-15T20:20:05.229133Z"
    }
   },
   "outputs": [
    {
     "data": {
      "text/plain": [
       "('@', 'c', 'a')"
      ]
     },
     "execution_count": 47,
     "metadata": {},
     "output_type": "execute_result"
    }
   ],
   "source": [
    "lowVowels"
   ]
  },
  {
   "cell_type": "code",
   "execution_count": 48,
   "metadata": {
    "ExecuteTime": {
     "end_time": "2019-05-15T20:20:05.239239Z",
     "start_time": "2019-05-15T20:20:05.235059Z"
    }
   },
   "outputs": [
    {
     "data": {
      "text/plain": [
       "[OrderedDict([('Transcription', 'k@las|ti'),\n",
       "              ('stressInfoA', \"_'__\"),\n",
       "              ('stressInfoB', 'S4'),\n",
       "              ('Orthography', 'callosity'),\n",
       "              ('Frequency', '0'),\n",
       "              ('PoSs', '(N)')]),\n",
       " OrderedDict([('Transcription', '@prxpo'),\n",
       "              ('stressInfoA', \"`_'\"),\n",
       "              ('stressInfoB', 'S3'),\n",
       "              ('Orthography', 'apropos'),\n",
       "              ('Frequency', '1'),\n",
       "              ('PoSs', '(AV AJ PP)')])]"
      ]
     },
     "execution_count": 48,
     "metadata": {},
     "output_type": "execute_result"
    }
   ],
   "source": [
    "exampleMap['@'][:2] # æ"
   ]
  },
  {
   "cell_type": "code",
   "execution_count": 49,
   "metadata": {
    "ExecuteTime": {
     "end_time": "2019-05-15T20:20:05.254421Z",
     "start_time": "2019-05-15T20:20:05.240795Z"
    }
   },
   "outputs": [],
   "source": [
    "addMapping('@', 'æ')"
   ]
  },
  {
   "cell_type": "code",
   "execution_count": 50,
   "metadata": {
    "ExecuteTime": {
     "end_time": "2019-05-15T20:20:05.333086Z",
     "start_time": "2019-05-15T20:20:05.256234Z"
    }
   },
   "outputs": [
    {
     "data": {
      "text/plain": [
       "[OrderedDict([('Transcription', 'kcrxkL'),\n",
       "              ('stressInfoA', \"'__\"),\n",
       "              ('stressInfoB', 'S3'),\n",
       "              ('Orthography', 'coracle'),\n",
       "              ('Frequency', '0'),\n",
       "              ('PoSs', '(N)')]),\n",
       " OrderedDict([('Transcription', 'crkEstrL'),\n",
       "              ('stressInfoA', \"_'_\"),\n",
       "              ('stressInfoB', 'S3'),\n",
       "              ('Orthography', 'orchestral'),\n",
       "              ('Frequency', '4'),\n",
       "              ('PoSs', '(AJ)')])]"
      ]
     },
     "execution_count": 50,
     "metadata": {},
     "output_type": "execute_result"
    }
   ],
   "source": [
    "exampleMap['c'][:2] # ɔ"
   ]
  },
  {
   "cell_type": "code",
   "execution_count": 51,
   "metadata": {
    "ExecuteTime": {
     "end_time": "2019-05-15T20:20:05.400197Z",
     "start_time": "2019-05-15T20:20:05.334947Z"
    }
   },
   "outputs": [
    {
     "data": {
      "text/plain": [
       "[OrderedDict([('Transcription', 'bct'),\n",
       "              ('stressInfoA', \"'\"),\n",
       "              ('stressInfoB', 'S1'),\n",
       "              ('Orthography', 'bought'),\n",
       "              ('Frequency', '57'),\n",
       "              ('PoSs', '(AJ)')]),\n",
       " OrderedDict([('Transcription', 'kct'),\n",
       "              ('stressInfoA', \"'\"),\n",
       "              ('stressInfoB', 'S1'),\n",
       "              ('Orthography', 'caught'),\n",
       "              ('Frequency', '98'),\n",
       "              ('PoSs', '(null)')])]"
      ]
     },
     "execution_count": 51,
     "metadata": {},
     "output_type": "execute_result"
    }
   ],
   "source": [
    "[ex for ex in wordsWithSymbol('c') if ex['Orthography'] == 'caught' or ex['Orthography'] == 'bought']"
   ]
  },
  {
   "cell_type": "code",
   "execution_count": 52,
   "metadata": {
    "ExecuteTime": {
     "end_time": "2019-05-15T20:20:05.493465Z",
     "start_time": "2019-05-15T20:20:05.401979Z"
    }
   },
   "outputs": [],
   "source": [
    "addMapping('c', 'ɔ')"
   ]
  },
  {
   "cell_type": "code",
   "execution_count": 53,
   "metadata": {
    "ExecuteTime": {
     "end_time": "2019-05-15T20:20:05.637239Z",
     "start_time": "2019-05-15T20:20:05.495415Z"
    }
   },
   "outputs": [
    {
     "data": {
      "text/plain": [
       "[OrderedDict([('Transcription', 'aks'),\n",
       "              ('stressInfoA', \"'\"),\n",
       "              ('stressInfoB', 'S1'),\n",
       "              ('Orthography', 'ox'),\n",
       "              ('Frequency', '6'),\n",
       "              ('PoSs', '(N)')]),\n",
       " OrderedDict([('Transcription', 'hwat'),\n",
       "              ('stressInfoA', \"'\"),\n",
       "              ('stressInfoB', 'S1'),\n",
       "              ('Orthography', 'what'),\n",
       "              ('Frequency', '1909'),\n",
       "              ('PoSs', '(PN AV AJ)')])]"
      ]
     },
     "execution_count": 53,
     "metadata": {},
     "output_type": "execute_result"
    }
   ],
   "source": [
    "exampleMap['a'][:2] # ɑ"
   ]
  },
  {
   "cell_type": "code",
   "execution_count": 54,
   "metadata": {
    "ExecuteTime": {
     "end_time": "2019-05-15T20:20:05.649820Z",
     "start_time": "2019-05-15T20:20:05.638870Z"
    }
   },
   "outputs": [
    {
     "data": {
      "text/plain": [
       "[OrderedDict([('Transcription', 'kat'),\n",
       "              ('stressInfoA', \"'\"),\n",
       "              ('stressInfoB', 'S1'),\n",
       "              ('Orthography', 'cot'),\n",
       "              ('Frequency', '0'),\n",
       "              ('PoSs', '(N)')]),\n",
       " OrderedDict([('Transcription', 'hat'),\n",
       "              ('stressInfoA', \"'\"),\n",
       "              ('stressInfoB', 'S1'),\n",
       "              ('Orthography', 'hot'),\n",
       "              ('Frequency', '137'),\n",
       "              ('PoSs', '(AJ AV)')])]"
      ]
     },
     "execution_count": 54,
     "metadata": {},
     "output_type": "execute_result"
    }
   ],
   "source": [
    "[ex for ex in wordsWithSymbol('a') if ex['Orthography'] == 'cot' or ex['Orthography'] == 'hot']"
   ]
  },
  {
   "cell_type": "code",
   "execution_count": 55,
   "metadata": {
    "ExecuteTime": {
     "end_time": "2019-05-15T20:20:05.780626Z",
     "start_time": "2019-05-15T20:20:05.651652Z"
    }
   },
   "outputs": [],
   "source": [
    "addMapping('a', 'ɑ')"
   ]
  },
  {
   "cell_type": "markdown",
   "metadata": {},
   "source": [
    "### Mid vowels"
   ]
  },
  {
   "cell_type": "code",
   "execution_count": 56,
   "metadata": {
    "ExecuteTime": {
     "end_time": "2019-05-15T20:20:05.788839Z",
     "start_time": "2019-05-15T20:20:05.782644Z"
    }
   },
   "outputs": [
    {
     "data": {
      "text/plain": [
       "('x', '^', 'X', 'R', 'E')"
      ]
     },
     "execution_count": 56,
     "metadata": {},
     "output_type": "execute_result"
    }
   ],
   "source": [
    "midVowels"
   ]
  },
  {
   "cell_type": "code",
   "execution_count": 57,
   "metadata": {
    "ExecuteTime": {
     "end_time": "2019-05-15T20:20:05.797781Z",
     "start_time": "2019-05-15T20:20:05.790355Z"
    }
   },
   "outputs": [
    {
     "data": {
      "text/plain": [
       "[OrderedDict([('Transcription', 'h@bxtxbL'),\n",
       "              ('stressInfoA', \"'___\"),\n",
       "              ('stressInfoB', 'S4'),\n",
       "              ('Orthography', 'habitable'),\n",
       "              ('Frequency', '2'),\n",
       "              ('PoSs', '(AJ)')]),\n",
       " OrderedDict([('Transcription', 'dxmanstrxbL'),\n",
       "              ('stressInfoA', \"_'__\"),\n",
       "              ('stressInfoB', 'S4'),\n",
       "              ('Orthography', 'demonstrable'),\n",
       "              ('Frequency', '3'),\n",
       "              ('PoSs', '(AJ)')]),\n",
       " OrderedDict([('Transcription', 'f@byUlxs'),\n",
       "              ('stressInfoA', \"'__\"),\n",
       "              ('stressInfoB', 'S3'),\n",
       "              ('Orthography', 'fabulous'),\n",
       "              ('Frequency', '6'),\n",
       "              ('PoSs', '(AJ)')]),\n",
       " OrderedDict([('Transcription', 'kxmidixn'),\n",
       "              ('stressInfoA', \"_'__\"),\n",
       "              ('stressInfoB', 'S4'),\n",
       "              ('Orthography', 'comedian'),\n",
       "              ('Frequency', '5'),\n",
       "              ('PoSs', '(N)')]),\n",
       " OrderedDict([('Transcription', 'mEnxpcz'),\n",
       "              ('stressInfoA', \"'_`\"),\n",
       "              ('stressInfoB', 'S3'),\n",
       "              ('Orthography', 'menopause'),\n",
       "              ('Frequency', '0'),\n",
       "              ('PoSs', '(N)')])]"
      ]
     },
     "execution_count": 57,
     "metadata": {},
     "output_type": "execute_result"
    }
   ],
   "source": [
    "exampleMap['x'][:5] # ə"
   ]
  },
  {
   "cell_type": "code",
   "execution_count": 58,
   "metadata": {
    "ExecuteTime": {
     "end_time": "2019-05-15T20:20:05.802765Z",
     "start_time": "2019-05-15T20:20:05.799360Z"
    }
   },
   "outputs": [],
   "source": [
    "addMapping('x', 'ə')"
   ]
  },
  {
   "cell_type": "code",
   "execution_count": 59,
   "metadata": {
    "ExecuteTime": {
     "end_time": "2019-05-15T20:20:05.811845Z",
     "start_time": "2019-05-15T20:20:05.804487Z"
    }
   },
   "outputs": [
    {
     "data": {
      "text/plain": [
       "[OrderedDict([('Transcription', 'IntXn^nsio'),\n",
       "              ('stressInfoA', \"`_'_`\"),\n",
       "              ('stressInfoB', 'S5'),\n",
       "              ('Orthography', 'internuncio'),\n",
       "              ('Frequency', '0'),\n",
       "              ('PoSs', '(N)')]),\n",
       " OrderedDict([('Transcription', '^nelyxnxbL'),\n",
       "              ('stressInfoA', \"`'___\"),\n",
       "              ('stressInfoB', 'S5'),\n",
       "              ('Orthography', 'unalienable'),\n",
       "              ('Frequency', '1'),\n",
       "              ('PoSs', '(AJ)')]),\n",
       " OrderedDict([('Transcription', 'n^TIG'),\n",
       "              ('stressInfoA', \"'_\"),\n",
       "              ('stressInfoB', 'S2'),\n",
       "              ('Orthography', 'nothing'),\n",
       "              ('Frequency', '413'),\n",
       "              ('PoSs', '(PN AV N)')]),\n",
       " OrderedDict([('Transcription', 'Ink^mbxnsi'),\n",
       "              ('stressInfoA', \"_'__\"),\n",
       "              ('stressInfoB', 'S4'),\n",
       "              ('Orthography', 'incumbency'),\n",
       "              ('Frequency', '0'),\n",
       "              ('PoSs', '(N)')]),\n",
       " OrderedDict([('Transcription', 't^ni'),\n",
       "              ('stressInfoA', \"'_\"),\n",
       "              ('stressInfoB', 'S2'),\n",
       "              ('Orthography', 'tunny'),\n",
       "              ('Frequency', '0'),\n",
       "              ('PoSs', '(N)')])]"
      ]
     },
     "execution_count": 59,
     "metadata": {},
     "output_type": "execute_result"
    }
   ],
   "source": [
    "exampleMap['^'][:5] # ʌ"
   ]
  },
  {
   "cell_type": "code",
   "execution_count": 60,
   "metadata": {
    "ExecuteTime": {
     "end_time": "2019-05-15T20:20:05.873760Z",
     "start_time": "2019-05-15T20:20:05.813403Z"
    }
   },
   "outputs": [],
   "source": [
    "addMapping('^', 'ʌ')"
   ]
  },
  {
   "cell_type": "code",
   "execution_count": 61,
   "metadata": {
    "ExecuteTime": {
     "end_time": "2019-05-15T20:20:05.888866Z",
     "start_time": "2019-05-15T20:20:05.875628Z"
    }
   },
   "outputs": [
    {
     "data": {
      "text/plain": [
       "[OrderedDict([('Transcription', 's^mXYz'),\n",
       "              ('stressInfoA', \"'_`\"),\n",
       "              ('stressInfoB', 'S3'),\n",
       "              ('Orthography', 'summarize'),\n",
       "              ('Frequency', '3'),\n",
       "              ('PoSs', '(VT)')]),\n",
       " OrderedDict([('Transcription', 'labstX'),\n",
       "              ('stressInfoA', \"'_\"),\n",
       "              ('stressInfoB', 'S2'),\n",
       "              ('Orthography', 'lobster'),\n",
       "              ('Frequency', '2'),\n",
       "              ('PoSs', '(N)')])]"
      ]
     },
     "execution_count": 61,
     "metadata": {},
     "output_type": "execute_result"
    }
   ],
   "source": [
    "exampleMap['X'][:2] # ɚ"
   ]
  },
  {
   "cell_type": "code",
   "execution_count": 62,
   "metadata": {
    "ExecuteTime": {
     "end_time": "2019-05-15T20:20:05.893873Z",
     "start_time": "2019-05-15T20:20:05.890693Z"
    }
   },
   "outputs": [],
   "source": [
    "addMapping('X', 'ɚ')"
   ]
  },
  {
   "cell_type": "code",
   "execution_count": 63,
   "metadata": {
    "ExecuteTime": {
     "end_time": "2019-05-15T20:20:05.902305Z",
     "start_time": "2019-05-15T20:20:05.895647Z"
    }
   },
   "outputs": [
    {
     "data": {
      "text/plain": [
       "[OrderedDict([('Transcription', 'hRbxvor'),\n",
       "              ('stressInfoA', \"'_`\"),\n",
       "              ('stressInfoB', 'S3'),\n",
       "              ('Orthography', 'herbivore'),\n",
       "              ('Frequency', '0'),\n",
       "              ('PoSs', '(N)')]),\n",
       " OrderedDict([('Transcription', 'vRCu|s'),\n",
       "              ('stressInfoA', \"'__\"),\n",
       "              ('stressInfoB', 'S3'),\n",
       "              ('Orthography', 'virtuous'),\n",
       "              ('Frequency', '6'),\n",
       "              ('PoSs', '(AJ)')])]"
      ]
     },
     "execution_count": 63,
     "metadata": {},
     "output_type": "execute_result"
    }
   ],
   "source": [
    "exampleMap['R'][:2] # ɚ"
   ]
  },
  {
   "cell_type": "code",
   "execution_count": 64,
   "metadata": {
    "ExecuteTime": {
     "end_time": "2019-05-15T20:20:05.907023Z",
     "start_time": "2019-05-15T20:20:05.903801Z"
    }
   },
   "outputs": [],
   "source": [
    "addMapping('R', 'ɚ')"
   ]
  },
  {
   "cell_type": "code",
   "execution_count": 65,
   "metadata": {
    "ExecuteTime": {
     "end_time": "2019-05-15T20:20:05.915131Z",
     "start_time": "2019-05-15T20:20:05.908667Z"
    }
   },
   "outputs": [
    {
     "data": {
      "text/plain": [
       "[OrderedDict([('Transcription', 'sxlEkS|n'),\n",
       "              ('stressInfoA', \"_'_\"),\n",
       "              ('stressInfoB', 'S3'),\n",
       "              ('Orthography', 'selection'),\n",
       "              ('Frequency', '41'),\n",
       "              ('PoSs', '(N)')]),\n",
       " OrderedDict([('Transcription', 'xlEkS|nIr'),\n",
       "              ('stressInfoA', \"_`_'\"),\n",
       "              ('stressInfoB', 'S4'),\n",
       "              ('Orthography', 'electioneer'),\n",
       "              ('Frequency', '0'),\n",
       "              ('PoSs', '(VI)')])]"
      ]
     },
     "execution_count": 65,
     "metadata": {},
     "output_type": "execute_result"
    }
   ],
   "source": [
    "exampleMap['E'][:2] # ɛ"
   ]
  },
  {
   "cell_type": "code",
   "execution_count": 66,
   "metadata": {
    "ExecuteTime": {
     "end_time": "2019-05-15T20:20:05.919090Z",
     "start_time": "2019-05-15T20:20:05.916575Z"
    }
   },
   "outputs": [],
   "source": [
    "addMapping('E', 'ɛ')"
   ]
  },
  {
   "cell_type": "markdown",
   "metadata": {},
   "source": [
    "### High vowels"
   ]
  },
  {
   "cell_type": "code",
   "execution_count": 67,
   "metadata": {
    "ExecuteTime": {
     "end_time": "2019-05-15T20:20:05.926272Z",
     "start_time": "2019-05-15T20:20:05.920656Z"
    }
   },
   "outputs": [
    {
     "data": {
      "text/plain": [
       "('i', 'I', '|', 'U', 'u')"
      ]
     },
     "execution_count": 67,
     "metadata": {},
     "output_type": "execute_result"
    }
   ],
   "source": [
    "highVowels"
   ]
  },
  {
   "cell_type": "code",
   "execution_count": 68,
   "metadata": {
    "ExecuteTime": {
     "end_time": "2019-05-15T20:20:05.931979Z",
     "start_time": "2019-05-15T20:20:05.927769Z"
    }
   },
   "outputs": [
    {
     "data": {
      "text/plain": [
       "[OrderedDict([('Transcription', 'evietrIks'),\n",
       "              ('stressInfoA', \"`_'_\"),\n",
       "              ('stressInfoB', 'S4'),\n",
       "              ('Orthography', 'aviatrix'),\n",
       "              ('Frequency', '0'),\n",
       "              ('PoSs', '(N)')]),\n",
       " OrderedDict([('Transcription', 'praksImxti'),\n",
       "              ('stressInfoA', \"_'__\"),\n",
       "              ('stressInfoB', 'S4'),\n",
       "              ('Orthography', 'proximity'),\n",
       "              ('Frequency', '5'),\n",
       "              ('PoSs', '(N)')])]"
      ]
     },
     "execution_count": 68,
     "metadata": {},
     "output_type": "execute_result"
    }
   ],
   "source": [
    "exampleMap['i'][:2] # i"
   ]
  },
  {
   "cell_type": "code",
   "execution_count": 69,
   "metadata": {
    "ExecuteTime": {
     "end_time": "2019-05-15T20:20:05.936115Z",
     "start_time": "2019-05-15T20:20:05.933529Z"
    }
   },
   "outputs": [],
   "source": [
    "addMapping('i', 'i')"
   ]
  },
  {
   "cell_type": "code",
   "execution_count": 70,
   "metadata": {
    "ExecuteTime": {
     "end_time": "2019-05-15T20:20:05.944089Z",
     "start_time": "2019-05-15T20:20:05.937688Z"
    }
   },
   "outputs": [
    {
     "data": {
      "text/plain": [
       "[OrderedDict([('Transcription', 'cdxbIl|ti'),\n",
       "              ('stressInfoA', \"`_'__\"),\n",
       "              ('stressInfoB', 'S5'),\n",
       "              ('Orthography', 'audibility'),\n",
       "              ('Frequency', '0'),\n",
       "              ('PoSs', '(N)')]),\n",
       " OrderedDict([('Transcription', 'lITagrxfX'),\n",
       "              ('stressInfoA', \"_'__\"),\n",
       "              ('stressInfoB', 'S4'),\n",
       "              ('Orthography', 'lithographer'),\n",
       "              ('Frequency', '0'),\n",
       "              ('PoSs', '(N)')])]"
      ]
     },
     "execution_count": 70,
     "metadata": {},
     "output_type": "execute_result"
    }
   ],
   "source": [
    "exampleMap['I'][:2] # ɪ"
   ]
  },
  {
   "cell_type": "code",
   "execution_count": 71,
   "metadata": {
    "ExecuteTime": {
     "end_time": "2019-05-15T20:20:05.948567Z",
     "start_time": "2019-05-15T20:20:05.945584Z"
    }
   },
   "outputs": [],
   "source": [
    "addMapping('I', 'ɪ')"
   ]
  },
  {
   "cell_type": "code",
   "execution_count": 72,
   "metadata": {
    "ExecuteTime": {
     "end_time": "2019-05-15T20:20:05.959434Z",
     "start_time": "2019-05-15T20:20:05.949997Z"
    }
   },
   "outputs": [
    {
     "data": {
      "text/plain": [
       "[OrderedDict([('Transcription', 'aksi|sEtLxn'),\n",
       "              ('stressInfoA', \"`__'__\"),\n",
       "              ('stressInfoB', 'S6'),\n",
       "              ('Orthography', 'oxyacetylene'),\n",
       "              ('Frequency', '0'),\n",
       "              ('PoSs', '(AJ)')]),\n",
       " OrderedDict([('Transcription', 'pEn|sIl|n'),\n",
       "              ('stressInfoA', \"`_'_\"),\n",
       "              ('stressInfoB', 'S4'),\n",
       "              ('Orthography', 'penicillin'),\n",
       "              ('Frequency', '2'),\n",
       "              ('PoSs', '(N)')]),\n",
       " OrderedDict([('Transcription', 'cdxbIl|ti'),\n",
       "              ('stressInfoA', \"`_'__\"),\n",
       "              ('stressInfoB', 'S5'),\n",
       "              ('Orthography', 'audibility'),\n",
       "              ('Frequency', '0'),\n",
       "              ('PoSs', '(N)')]),\n",
       " OrderedDict([('Transcription', 'fIgyX|tIv'),\n",
       "              ('stressInfoA', \"'___\"),\n",
       "              ('stressInfoB', 'S4'),\n",
       "              ('Orthography', 'figurative'),\n",
       "              ('Frequency', '6'),\n",
       "              ('PoSs', '(AJ)')]),\n",
       " OrderedDict([('Transcription', 'k|savx'),\n",
       "              ('stressInfoA', \"_'_\"),\n",
       "              ('stressInfoB', 'S3'),\n",
       "              ('Orthography', 'cassava'),\n",
       "              ('Frequency', '0'),\n",
       "              ('PoSs', '(N)')]),\n",
       " OrderedDict([('Transcription', 'bYpart|z|n'),\n",
       "              ('stressInfoA', \"_'__\"),\n",
       "              ('stressInfoB', 'S4'),\n",
       "              ('Orthography', 'bipartisan'),\n",
       "              ('Frequency', '2'),\n",
       "              ('PoSs', '(AJ)')]),\n",
       " OrderedDict([('Transcription', 'm@J|strL'),\n",
       "              ('stressInfoA', \"'__\"),\n",
       "              ('stressInfoB', 'S3'),\n",
       "              ('Orthography', 'magistral'),\n",
       "              ('Frequency', '0'),\n",
       "              ('PoSs', '(AJ)')]),\n",
       " OrderedDict([('Transcription', 'kalxkeS|n'),\n",
       "              ('stressInfoA', \"`_'_\"),\n",
       "              ('stressInfoB', 'S4'),\n",
       "              ('Orthography', 'collocation'),\n",
       "              ('Frequency', '0'),\n",
       "              ('PoSs', '(N)')]),\n",
       " OrderedDict([('Transcription', 'm@l|t'),\n",
       "              ('stressInfoA', \"'_\"),\n",
       "              ('stressInfoB', 'S2'),\n",
       "              ('Orthography', 'mallet'),\n",
       "              ('Frequency', '0'),\n",
       "              ('PoSs', '(N)')]),\n",
       " OrderedDict([('Transcription', 'lEJ|nd'),\n",
       "              ('stressInfoA', \"'_\"),\n",
       "              ('stressInfoB', 'S2'),\n",
       "              ('Orthography', 'legend'),\n",
       "              ('Frequency', '26'),\n",
       "              ('PoSs', '(N)')])]"
      ]
     },
     "execution_count": 72,
     "metadata": {},
     "output_type": "execute_result"
    }
   ],
   "source": [
    "exampleMap['|'][:10] # ɪ"
   ]
  },
  {
   "cell_type": "code",
   "execution_count": 73,
   "metadata": {
    "ExecuteTime": {
     "end_time": "2019-05-15T20:20:05.963517Z",
     "start_time": "2019-05-15T20:20:05.960990Z"
    }
   },
   "outputs": [],
   "source": [
    "addMapping('|', 'ɪ')"
   ]
  },
  {
   "cell_type": "code",
   "execution_count": 74,
   "metadata": {
    "ExecuteTime": {
     "end_time": "2019-05-15T20:20:05.972677Z",
     "start_time": "2019-05-15T20:20:05.965150Z"
    }
   },
   "outputs": [
    {
     "data": {
      "text/plain": [
       "[OrderedDict([('Transcription', 'kiarxskUro'),\n",
       "              ('stressInfoA', \"_`_'`\"),\n",
       "              ('stressInfoB', 'S5'),\n",
       "              ('Orthography', 'chiaroscuro'),\n",
       "              ('Frequency', '0'),\n",
       "              ('PoSs', '(N)')]),\n",
       " OrderedDict([('Transcription', 'bUgim@n'),\n",
       "              ('stressInfoA', \"'_`\"),\n",
       "              ('stressInfoB', 'S3'),\n",
       "              ('Orthography', 'bogeyman'),\n",
       "              ('Frequency', '0'),\n",
       "              ('PoSs', '(N)')]),\n",
       " OrderedDict([('Transcription', 'byUro'),\n",
       "              ('stressInfoA', \"'`\"),\n",
       "              ('stressInfoB', 'S2'),\n",
       "              ('Orthography', 'bureau'),\n",
       "              ('Frequency', '43'),\n",
       "              ('PoSs', '(N)')]),\n",
       " OrderedDict([('Transcription', 'nUrxsTinix'),\n",
       "              ('stressInfoA', \"`_'__\"),\n",
       "              ('stressInfoB', 'S5'),\n",
       "              ('Orthography', 'neurasthenia'),\n",
       "              ('Frequency', '0'),\n",
       "              ('PoSs', '(N)')]),\n",
       " OrderedDict([('Transcription', 'nensUk'),\n",
       "              ('stressInfoA', \"'`\"),\n",
       "              ('stressInfoB', 'S2'),\n",
       "              ('Orthography', 'nainsook'),\n",
       "              ('Frequency', '0'),\n",
       "              ('PoSs', '(N)')])]"
      ]
     },
     "execution_count": 74,
     "metadata": {},
     "output_type": "execute_result"
    }
   ],
   "source": [
    "exampleMap['U'][:5] # ʊ"
   ]
  },
  {
   "cell_type": "code",
   "execution_count": 75,
   "metadata": {
    "ExecuteTime": {
     "end_time": "2019-05-15T20:20:05.976967Z",
     "start_time": "2019-05-15T20:20:05.974078Z"
    }
   },
   "outputs": [],
   "source": [
    "addMapping('U', 'ʊ')"
   ]
  },
  {
   "cell_type": "code",
   "execution_count": 76,
   "metadata": {
    "ExecuteTime": {
     "end_time": "2019-05-15T20:20:05.986243Z",
     "start_time": "2019-05-15T20:20:05.978515Z"
    }
   },
   "outputs": [
    {
     "data": {
      "text/plain": [
       "[OrderedDict([('Transcription', 'fxtuxti'),\n",
       "              ('stressInfoA', \"_'__\"),\n",
       "              ('stressInfoB', 'S4'),\n",
       "              ('Orthography', 'fatuity'),\n",
       "              ('Frequency', '0'),\n",
       "              ('PoSs', '(N)')]),\n",
       " OrderedDict([('Transcription', 'kastumX'),\n",
       "              ('stressInfoA', \"'`_\"),\n",
       "              ('stressInfoB', 'S3'),\n",
       "              ('Orthography', 'costumer'),\n",
       "              ('Frequency', '0'),\n",
       "              ('PoSs', '(N)')]),\n",
       " OrderedDict([('Transcription', '@lt|tud'),\n",
       "              ('stressInfoA', \"'_`\"),\n",
       "              ('stressInfoB', 'S3'),\n",
       "              ('Orthography', 'altitude'),\n",
       "              ('Frequency', '5'),\n",
       "              ('PoSs', '(N)')]),\n",
       " OrderedDict([('Transcription', 'JudIkxCUr'),\n",
       "              ('stressInfoA', \"'__`\"),\n",
       "              ('stressInfoB', 'S4'),\n",
       "              ('Orthography', 'judicature'),\n",
       "              ('Frequency', '0'),\n",
       "              ('PoSs', '(N)')]),\n",
       " OrderedDict([('Transcription', 'sup'),\n",
       "              ('stressInfoA', \"'\"),\n",
       "              ('stressInfoB', 'S1'),\n",
       "              ('Orthography', 'soup'),\n",
       "              ('Frequency', '16'),\n",
       "              ('PoSs', '(N VT)')])]"
      ]
     },
     "execution_count": 76,
     "metadata": {},
     "output_type": "execute_result"
    }
   ],
   "source": [
    "exampleMap['u'][:5] # u"
   ]
  },
  {
   "cell_type": "code",
   "execution_count": 77,
   "metadata": {
    "ExecuteTime": {
     "end_time": "2019-05-15T20:20:05.990286Z",
     "start_time": "2019-05-15T20:20:05.987813Z"
    }
   },
   "outputs": [],
   "source": [
    "addMapping('u', 'u')"
   ]
  },
  {
   "cell_type": "markdown",
   "metadata": {},
   "source": [
    "### Diphthongs"
   ]
  },
  {
   "cell_type": "code",
   "execution_count": 78,
   "metadata": {
    "ExecuteTime": {
     "end_time": "2019-05-15T20:20:05.997153Z",
     "start_time": "2019-05-15T20:20:05.991773Z"
    }
   },
   "outputs": [
    {
     "data": {
      "text/plain": [
       "('W', 'o', 'e', 'O', 'Y')"
      ]
     },
     "execution_count": 78,
     "metadata": {},
     "output_type": "execute_result"
    }
   ],
   "source": [
    "diphthongs"
   ]
  },
  {
   "cell_type": "code",
   "execution_count": 79,
   "metadata": {
    "ExecuteTime": {
     "end_time": "2019-05-15T20:20:06.004241Z",
     "start_time": "2019-05-15T20:20:05.998551Z"
    }
   },
   "outputs": [
    {
     "data": {
      "text/plain": [
       "[OrderedDict([('Transcription', 'tyW'),\n",
       "              ('stressInfoA', \"'\"),\n",
       "              ('stressInfoB', 'S1'),\n",
       "              ('Orthography', 'chiao'),\n",
       "              ('Frequency', '0'),\n",
       "              ('PoSs', '(null)')]),\n",
       " OrderedDict([('Transcription', 'WtlUk'),\n",
       "              ('stressInfoA', \"'`\"),\n",
       "              ('stressInfoB', 'S2'),\n",
       "              ('Orthography', 'outlook'),\n",
       "              ('Frequency', '36'),\n",
       "              ('PoSs', '(N)')]),\n",
       " OrderedDict([('Transcription', 'bWnd|n'),\n",
       "              ('stressInfoA', \"'_\"),\n",
       "              ('stressInfoB', 'S2'),\n",
       "              ('Orthography', 'bounden'),\n",
       "              ('Frequency', '0'),\n",
       "              ('PoSs', '(AJ)')]),\n",
       " OrderedDict([('Transcription', 'trWt'),\n",
       "              ('stressInfoA', \"'\"),\n",
       "              ('stressInfoB', 'S1'),\n",
       "              ('Orthography', 'trout'),\n",
       "              ('Frequency', '4'),\n",
       "              ('PoSs', '(N)')]),\n",
       " OrderedDict([('Transcription', 'IspWzL'),\n",
       "              ('stressInfoA', \"_'_\"),\n",
       "              ('stressInfoB', 'S3'),\n",
       "              ('Orthography', 'espousal'),\n",
       "              ('Frequency', '1'),\n",
       "              ('PoSs', '(N)')])]"
      ]
     },
     "execution_count": 79,
     "metadata": {},
     "output_type": "execute_result"
    }
   ],
   "source": [
    "exampleMap['W'][:5] # aʊ"
   ]
  },
  {
   "cell_type": "code",
   "execution_count": 80,
   "metadata": {
    "ExecuteTime": {
     "end_time": "2019-05-15T20:20:06.008349Z",
     "start_time": "2019-05-15T20:20:06.005737Z"
    }
   },
   "outputs": [],
   "source": [
    "addMapping('W', 'aʊ')"
   ]
  },
  {
   "cell_type": "code",
   "execution_count": 81,
   "metadata": {
    "ExecuteTime": {
     "end_time": "2019-05-15T20:20:06.018909Z",
     "start_time": "2019-05-15T20:20:06.009799Z"
    }
   },
   "outputs": [
    {
     "data": {
      "text/plain": [
       "[OrderedDict([('Transcription', 'hYdrxfobix'),\n",
       "              ('stressInfoA', \"`_'__\"),\n",
       "              ('stressInfoB', 'S5'),\n",
       "              ('Orthography', 'hydrophobia'),\n",
       "              ('Frequency', '1'),\n",
       "              ('PoSs', '(N)')]),\n",
       " OrderedDict([('Transcription', 'hYdroxlEktrIk'),\n",
       "              ('stressInfoA', \"`__'_\"),\n",
       "              ('stressInfoB', 'S5'),\n",
       "              ('Orthography', 'hydroelectric'),\n",
       "              ('Frequency', '0'),\n",
       "              ('PoSs', '(AJ)')]),\n",
       " OrderedDict([('Transcription', 'gord'),\n",
       "              ('stressInfoA', \"'\"),\n",
       "              ('stressInfoB', 'S1'),\n",
       "              ('Orthography', 'gourd'),\n",
       "              ('Frequency', '3'),\n",
       "              ('PoSs', '(N)')]),\n",
       " OrderedDict([('Transcription', 'Cor'),\n",
       "              ('stressInfoA', \"'\"),\n",
       "              ('stressInfoB', 'S1'),\n",
       "              ('Orthography', 'chore'),\n",
       "              ('Frequency', '7'),\n",
       "              ('PoSs', '(N)')]),\n",
       " OrderedDict([('Transcription', 'bYnomiL'),\n",
       "              ('stressInfoA', \"_'__\"),\n",
       "              ('stressInfoB', 'S4'),\n",
       "              ('Orthography', 'binomial'),\n",
       "              ('Frequency', '36'),\n",
       "              ('PoSs', '(N)')]),\n",
       " OrderedDict([('Transcription', 'sofx'),\n",
       "              ('stressInfoA', \"'_\"),\n",
       "              ('stressInfoB', 'S2'),\n",
       "              ('Orthography', 'sofa'),\n",
       "              ('Frequency', '6'),\n",
       "              ('PoSs', '(N)')]),\n",
       " OrderedDict([('Transcription', 'koxlEsNs'),\n",
       "              ('stressInfoA', \"`_'_\"),\n",
       "              ('stressInfoB', 'S4'),\n",
       "              ('Orthography', 'coalescence'),\n",
       "              ('Frequency', '1'),\n",
       "              ('PoSs', '(N)')]),\n",
       " OrderedDict([('Transcription', 'nobL'),\n",
       "              ('stressInfoA', \"'_\"),\n",
       "              ('stressInfoB', 'S2'),\n",
       "              ('Orthography', 'noble'),\n",
       "              ('Frequency', '23'),\n",
       "              ('PoSs', '(AJ N)')]),\n",
       " OrderedDict([('Transcription', 'loZ'),\n",
       "              ('stressInfoA', \"'\"),\n",
       "              ('stressInfoB', 'S1'),\n",
       "              ('Orthography', 'loge'),\n",
       "              ('Frequency', '0'),\n",
       "              ('PoSs', '(N)')]),\n",
       " OrderedDict([('Transcription', '@krxfobix'),\n",
       "              ('stressInfoA', \"`_'__\"),\n",
       "              ('stressInfoB', 'S5'),\n",
       "              ('Orthography', 'acrophobia'),\n",
       "              ('Frequency', '0'),\n",
       "              ('PoSs', '(N)')])]"
      ]
     },
     "execution_count": 81,
     "metadata": {},
     "output_type": "execute_result"
    }
   ],
   "source": [
    "exampleMap['o'][:10] # oʊ"
   ]
  },
  {
   "cell_type": "code",
   "execution_count": 82,
   "metadata": {
    "ExecuteTime": {
     "end_time": "2019-05-15T20:20:06.023290Z",
     "start_time": "2019-05-15T20:20:06.020505Z"
    }
   },
   "outputs": [],
   "source": [
    "addMapping('o', 'oʊ')"
   ]
  },
  {
   "cell_type": "code",
   "execution_count": 83,
   "metadata": {
    "ExecuteTime": {
     "end_time": "2019-05-15T20:20:06.032293Z",
     "start_time": "2019-05-15T20:20:06.024789Z"
    }
   },
   "outputs": [
    {
     "data": {
      "text/plain": [
       "[OrderedDict([('Transcription', 'dEprxdeS|n'),\n",
       "              ('stressInfoA', \"`_'_\"),\n",
       "              ('stressInfoB', 'S4'),\n",
       "              ('Orthography', 'depredation'),\n",
       "              ('Frequency', '0'),\n",
       "              ('PoSs', '(N)')]),\n",
       " OrderedDict([('Transcription', 'krevIG'),\n",
       "              ('stressInfoA', \"'_\"),\n",
       "              ('stressInfoB', 'S2'),\n",
       "              ('Orthography', 'craving'),\n",
       "              ('Frequency', '2'),\n",
       "              ('PoSs', '(N)')]),\n",
       " OrderedDict([('Transcription', 'fIle'),\n",
       "              ('stressInfoA', \"_'\"),\n",
       "              ('stressInfoB', 'S2'),\n",
       "              ('Orthography', 'filet'),\n",
       "              ('Frequency', '0'),\n",
       "              ('PoSs', '(N)')]),\n",
       " OrderedDict([('Transcription', 'frel'),\n",
       "              ('stressInfoA', \"'\"),\n",
       "              ('stressInfoB', 'S1'),\n",
       "              ('Orthography', 'frail'),\n",
       "              ('Frequency', '8'),\n",
       "              ('PoSs', '(N AJ)')]),\n",
       " OrderedDict([('Transcription', 'EmxgreS|n'),\n",
       "              ('stressInfoA', \"`_'_\"),\n",
       "              ('stressInfoB', 'S4'),\n",
       "              ('Orthography', 'emigration'),\n",
       "              ('Frequency', '1'),\n",
       "              ('PoSs', '(N)')])]"
      ]
     },
     "execution_count": 83,
     "metadata": {},
     "output_type": "execute_result"
    }
   ],
   "source": [
    "exampleMap['e'][:5] # eɪ"
   ]
  },
  {
   "cell_type": "code",
   "execution_count": 84,
   "metadata": {
    "ExecuteTime": {
     "end_time": "2019-05-15T20:20:06.132805Z",
     "start_time": "2019-05-15T20:20:06.033689Z"
    }
   },
   "outputs": [],
   "source": [
    "addMapping('e', 'eɪ')"
   ]
  },
  {
   "cell_type": "code",
   "execution_count": 85,
   "metadata": {
    "ExecuteTime": {
     "end_time": "2019-05-15T20:20:06.218898Z",
     "start_time": "2019-05-15T20:20:06.134563Z"
    }
   },
   "outputs": [
    {
     "data": {
      "text/plain": [
       "[OrderedDict([('Transcription', 'hOdN'),\n",
       "              ('stressInfoA', \"'_\"),\n",
       "              ('stressInfoB', 'S2'),\n",
       "              ('Orthography', 'hoyden'),\n",
       "              ('Frequency', '0'),\n",
       "              ('PoSs', '(N)')]),\n",
       " OrderedDict([('Transcription', '@stXOd'),\n",
       "              ('stressInfoA', \"'_`\"),\n",
       "              ('stressInfoB', 'S3'),\n",
       "              ('Orthography', 'asteroid'),\n",
       "              ('Frequency', '1'),\n",
       "              ('PoSs', '(N AJ)')]),\n",
       " OrderedDict([('Transcription', 'JOst'),\n",
       "              ('stressInfoA', \"'\"),\n",
       "              ('stressInfoB', 'S1'),\n",
       "              ('Orthography', 'joist'),\n",
       "              ('Frequency', '0'),\n",
       "              ('PoSs', '(N)')]),\n",
       " OrderedDict([('Transcription', 'fOst'),\n",
       "              ('stressInfoA', \"'\"),\n",
       "              ('stressInfoB', 'S1'),\n",
       "              ('Orthography', 'foist'),\n",
       "              ('Frequency', '0'),\n",
       "              ('PoSs', '(VT)')]),\n",
       " OrderedDict([('Transcription', 'xpOntIv'),\n",
       "              ('stressInfoA', \"_'_\"),\n",
       "              ('stressInfoB', 'S3'),\n",
       "              ('Orthography', 'appointive'),\n",
       "              ('Frequency', '0'),\n",
       "              ('PoSs', '(AJ)')])]"
      ]
     },
     "execution_count": 85,
     "metadata": {},
     "output_type": "execute_result"
    }
   ],
   "source": [
    "exampleMap['O'][:5] # ɔɪ"
   ]
  },
  {
   "cell_type": "code",
   "execution_count": 86,
   "metadata": {
    "ExecuteTime": {
     "end_time": "2019-05-15T20:20:06.324500Z",
     "start_time": "2019-05-15T20:20:06.220702Z"
    }
   },
   "outputs": [],
   "source": [
    "addMapping('O', 'ɔɪ')"
   ]
  },
  {
   "cell_type": "code",
   "execution_count": 87,
   "metadata": {
    "ExecuteTime": {
     "end_time": "2019-05-15T20:20:06.345295Z",
     "start_time": "2019-05-15T20:20:06.326284Z"
    }
   },
   "outputs": [
    {
     "data": {
      "text/plain": [
       "[OrderedDict([('Transcription', 'vYxlet'),\n",
       "              ('stressInfoA', \"'_`\"),\n",
       "              ('stressInfoB', 'S3'),\n",
       "              ('Orthography', 'violate'),\n",
       "              ('Frequency', '7'),\n",
       "              ('PoSs', '(VT AJ)')]),\n",
       " OrderedDict([('Transcription', 'binYt|d'),\n",
       "              ('stressInfoA', \"_'_\"),\n",
       "              ('stressInfoB', 'S3'),\n",
       "              ('Orthography', 'benighted'),\n",
       "              ('Frequency', '2'),\n",
       "              ('PoSs', '(AJ)')]),\n",
       " OrderedDict([('Transcription', 'Yl|nd'),\n",
       "              ('stressInfoA', \"'_\"),\n",
       "              ('stressInfoB', 'S2'),\n",
       "              ('Orthography', 'island'),\n",
       "              ('Frequency', '167'),\n",
       "              ('PoSs', '(N VT)')]),\n",
       " OrderedDict([('Transcription', 'lYtsxm'),\n",
       "              ('stressInfoA', \"'_\"),\n",
       "              ('stressInfoB', 'S2'),\n",
       "              ('Orthography', 'lightsome'),\n",
       "              ('Frequency', '0'),\n",
       "              ('PoSs', '(AJ)')]),\n",
       " OrderedDict([('Transcription', 'dYnEt'),\n",
       "              ('stressInfoA', \"_'\"),\n",
       "              ('stressInfoB', 'S2'),\n",
       "              ('Orthography', 'dinette'),\n",
       "              ('Frequency', '0'),\n",
       "              ('PoSs', '(N)')])]"
      ]
     },
     "execution_count": 87,
     "metadata": {},
     "output_type": "execute_result"
    }
   ],
   "source": [
    "exampleMap['Y'][:5] # aɪ"
   ]
  },
  {
   "cell_type": "code",
   "execution_count": 88,
   "metadata": {
    "ExecuteTime": {
     "end_time": "2019-05-15T20:20:06.474673Z",
     "start_time": "2019-05-15T20:20:06.347003Z"
    }
   },
   "outputs": [],
   "source": [
    "addMapping('Y', 'aɪ')"
   ]
  },
  {
   "cell_type": "markdown",
   "metadata": {},
   "source": [
    "### Altogether"
   ]
  },
  {
   "cell_type": "code",
   "execution_count": 89,
   "metadata": {
    "ExecuteTime": {
     "end_time": "2019-05-15T20:20:06.520296Z",
     "start_time": "2019-05-15T20:20:06.482699Z"
    }
   },
   "outputs": [
    {
     "data": {
      "text/plain": [
       "{'f': 'f',\n",
       " 'v': 'v',\n",
       " 's': 's',\n",
       " 'z': 'z',\n",
       " 'h': 'h',\n",
       " 'T': 'θ',\n",
       " 'D': 'ð',\n",
       " 'S': 'ʃ',\n",
       " 'Z': 'ʒ',\n",
       " 'C': 'tʃ',\n",
       " 'J': 'dʒ',\n",
       " 'p': 'p',\n",
       " 'b': 'b',\n",
       " 't': 't',\n",
       " 'd': 'd',\n",
       " 'k': 'k',\n",
       " 'g': 'g',\n",
       " 'm': 'm',\n",
       " 'n': 'n',\n",
       " 'G': 'ŋ',\n",
       " 'M': 'm̩',\n",
       " 'N': 'n̩',\n",
       " 'w': 'w',\n",
       " 'y': 'j',\n",
       " 'r': 'ɹ',\n",
       " 'l': 'l',\n",
       " 'L': 'l̩',\n",
       " '@': 'æ',\n",
       " 'c': 'ɔ',\n",
       " 'a': 'ɑ',\n",
       " 'x': 'ə',\n",
       " '^': 'ʌ',\n",
       " 'X': 'ɚ',\n",
       " 'R': 'ɚ',\n",
       " 'E': 'ɛ',\n",
       " 'i': 'i',\n",
       " 'I': 'ɪ',\n",
       " '|': 'ɪ',\n",
       " 'U': 'ʊ',\n",
       " 'u': 'u',\n",
       " 'W': 'aʊ',\n",
       " 'o': 'oʊ',\n",
       " 'e': 'eɪ',\n",
       " 'O': 'ɔɪ',\n",
       " 'Y': 'aɪ'}"
      ]
     },
     "execution_count": 89,
     "metadata": {},
     "output_type": "execute_result"
    }
   ],
   "source": [
    "mapping"
   ]
  },
  {
   "cell_type": "markdown",
   "metadata": {},
   "source": [
    "## Define newdic inventory -> IPA mapping"
   ]
  },
  {
   "cell_type": "code",
   "execution_count": 90,
   "metadata": {
    "ExecuteTime": {
     "end_time": "2019-05-15T20:20:06.749449Z",
     "start_time": "2019-05-15T20:20:06.521562Z"
    }
   },
   "outputs": [
    {
     "name": "stdout",
     "output_type": "stream",
     "text": [
      "θ\n"
     ]
    }
   ],
   "source": [
    "newdic_IPA_relation = [\n",
    " ('h', 'h'),\n",
    " ('S', 'ʃ'),\n",
    " ('p', 'p'),\n",
    " ('x', 'ə'),\n",
    " ('m', 'm'),\n",
    " ('y', 'j'),\n",
    " ('v', 'v'),\n",
    " ('^', 'ʌ'),\n",
    " ('o', 'oʊ'),\n",
    " ('u', 'u'),\n",
    " ('I', 'ɪ'),\n",
    " ('G', 'ŋ'),\n",
    " ('N', 'n̩'),\n",
    " ('|', 'ɪ'), #as near as I can tell, this is unstressed/reduced 'ɪ'\n",
    " ('Z', 'ʒ'),\n",
    " ('L', 'l̩'),\n",
    " ('M', 'm̩'),\n",
    " ('i', 'i'),\n",
    " ('r', 'ɹ'),\n",
    " ('g', 'g'),\n",
    " ('O', 'ɔɪ'),\n",
    " ('T', 'θ'),\n",
    " ('n', 'n'),\n",
    " ('J', 'dʒ'),\n",
    " ('d', 'd'),\n",
    " ('k', 'k'),\n",
    " ('W', 'aʊ'),\n",
    " ('f', 'f'),\n",
    " ('D', 'ð'),\n",
    " ('U', 'ʊ'),\n",
    " ('z', 'z'),\n",
    " ('Y', 'aɪ'),\n",
    " ('b', 'b'),\n",
    " ('X', 'ɚ'), #r-colored schwa - stressed\n",
    " ('a', 'ɑ'),\n",
    " ('s', 's'),\n",
    " ('e', 'eɪ'),\n",
    " ('C', 'tʃ'),\n",
    " ('t', 't'),\n",
    " ('R', 'ɚ'), #r-colored schwa - UNstressed\n",
    " ('E', 'ɛ'),\n",
    " ('w', 'w'),\n",
    " ('l', 'l'),\n",
    " ('@', 'æ'),\n",
    " ('c', 'ɔ')]\n",
    "\n",
    "def newdicToUnicodeIPA(newdic_symbol):\n",
    "    mapping = dict(newdic_IPA_relation)\n",
    "    #print(mapping)\n",
    "    return mapping[newdic_symbol]\n",
    "\n",
    "print(newdicToUnicodeIPA('T'))\n",
    "\n",
    "# def invertMapping(mydict): \n",
    "#     return dict([[val, key] for key,val in mydict.items()])\n",
    "\n",
    "# def unicodeIPAToNewdic(unicodeIPAsymbol):\n",
    "#     return invertMapping( dict(newdic_IPA_relation) )[unicodeIPAsymbol]\n",
    "\n",
    "# print(unicodeIPAToNewdic('θ'))"
   ]
  },
  {
   "cell_type": "code",
   "execution_count": 91,
   "metadata": {
    "ExecuteTime": {
     "end_time": "2019-05-15T20:20:06.760210Z",
     "start_time": "2019-05-15T20:20:06.751352Z"
    }
   },
   "outputs": [],
   "source": [
    "for s in mapping:\n",
    "    assert mapping[s] == newdicToUnicodeIPA(s), \"mapping[{0}] ≠ newdicToUnicode[{0}]: '{1}' vs. '{2}'\".format(s, mapping[s], newdicToUnicodeIPA(s))"
   ]
  },
  {
   "cell_type": "markdown",
   "metadata": {},
   "source": [
    "## Transform transcriptions to IPA..."
   ]
  },
  {
   "cell_type": "code",
   "execution_count": 92,
   "metadata": {
    "ExecuteTime": {
     "end_time": "2019-05-15T20:20:06.772406Z",
     "start_time": "2019-05-15T20:20:06.761531Z"
    }
   },
   "outputs": [
    {
     "data": {
      "text/plain": [
       "'xb@k'"
      ]
     },
     "execution_count": 92,
     "metadata": {},
     "output_type": "execute_result"
    },
    {
     "data": {
      "text/plain": [
       "('x', 'b', '@', 'k')"
      ]
     },
     "execution_count": 92,
     "metadata": {},
     "output_type": "execute_result"
    },
    {
     "data": {
      "text/plain": [
       "('ə', 'b', 'æ', 'k')"
      ]
     },
     "execution_count": 92,
     "metadata": {},
     "output_type": "execute_result"
    },
    {
     "data": {
      "text/plain": [
       "'ə.b.æ.k'"
      ]
     },
     "execution_count": 92,
     "metadata": {},
     "output_type": "execute_result"
    }
   ],
   "source": [
    "t = newdic_raw[2]['Transcription']\n",
    "t\n",
    "tuple(t)\n",
    "tuple(map(newdicToUnicodeIPA, tuple(t)))\n",
    "'.'.join(tuple(map(newdicToUnicodeIPA, tuple(t))))"
   ]
  },
  {
   "cell_type": "code",
   "execution_count": 93,
   "metadata": {
    "ExecuteTime": {
     "end_time": "2019-05-15T20:20:06.776296Z",
     "start_time": "2019-05-15T20:20:06.773843Z"
    }
   },
   "outputs": [],
   "source": [
    "dottedStringToTuple = lambda ds: tuple(ds.split('.'))\n",
    "tupleToDottedString = lambda t: '.'.join(t)"
   ]
  },
  {
   "cell_type": "code",
   "execution_count": 94,
   "metadata": {
    "ExecuteTime": {
     "end_time": "2019-05-15T20:20:06.782408Z",
     "start_time": "2019-05-15T20:20:06.777288Z"
    }
   },
   "outputs": [
    {
     "data": {
      "text/plain": [
       "'ə.b.æ.k'"
      ]
     },
     "execution_count": 94,
     "metadata": {},
     "output_type": "execute_result"
    }
   ],
   "source": [
    "tupleToDottedString( tuple(map(newdicToUnicodeIPA, \n",
    "                               tuple(t))) )"
   ]
  },
  {
   "cell_type": "code",
   "execution_count": 95,
   "metadata": {
    "ExecuteTime": {
     "end_time": "2019-05-15T20:20:06.788447Z",
     "start_time": "2019-05-15T20:20:06.783445Z"
    }
   },
   "outputs": [
    {
     "data": {
      "text/plain": [
       "'ə.b.æ.k'"
      ]
     },
     "execution_count": 95,
     "metadata": {},
     "output_type": "execute_result"
    }
   ],
   "source": [
    "def newdicTranscriptionToIPA(newdic_trn):\n",
    "    nt_tup = tuple(newdic_trn)\n",
    "    ipa_tup = tuple(map(newdicToUnicodeIPA, nt_tup))\n",
    "    return tupleToDottedString(ipa_tup)\n",
    "newdicTranscriptionToIPA(t)"
   ]
  },
  {
   "cell_type": "markdown",
   "metadata": {},
   "source": [
    "## Transform entries to have IPA transcriptions..."
   ]
  },
  {
   "cell_type": "code",
   "execution_count": 96,
   "metadata": {
    "ExecuteTime": {
     "end_time": "2019-05-15T20:20:06.794281Z",
     "start_time": "2019-05-15T20:20:06.789850Z"
    }
   },
   "outputs": [],
   "source": [
    "def edit_dict(the_dict, the_key, the_new_value):\n",
    "    '''\n",
    "    Composable (because it returns a value) but stateful(= in-place) dictionary update.\n",
    "    '''\n",
    "    the_dict.update({the_key: the_new_value})\n",
    "    return the_dict\n",
    "\n",
    "def modify_dict(the_dict, the_key, the_new_value):\n",
    "    '''\n",
    "    Composable and (naively-implemented) non-mutating dictionary update.\n",
    "    '''\n",
    "    new_dict = {k:the_dict[k] for k in the_dict}\n",
    "    new_dict.update({the_key: the_new_value})\n",
    "    return new_dict"
   ]
  },
  {
   "cell_type": "code",
   "execution_count": 97,
   "metadata": {
    "ExecuteTime": {
     "end_time": "2019-05-15T20:20:06.807481Z",
     "start_time": "2019-05-15T20:20:06.795663Z"
    }
   },
   "outputs": [],
   "source": [
    "def IPAify_newdic_entry(entry):\n",
    "    new_entry = modify_dict(entry, 'Transcription', newdicTranscriptionToIPA(entry['Transcription']))\n",
    "    return new_entry"
   ]
  },
  {
   "cell_type": "code",
   "execution_count": 98,
   "metadata": {
    "ExecuteTime": {
     "end_time": "2019-05-15T20:20:06.839541Z",
     "start_time": "2019-05-15T20:20:06.809187Z"
    }
   },
   "outputs": [
    {
     "data": {
      "text/plain": [
       "OrderedDict([('Transcription', 'xb@k'),\n",
       "             ('stressInfoA', \"_'\"),\n",
       "             ('stressInfoB', 'S2'),\n",
       "             ('Orthography', 'aback'),\n",
       "             ('Frequency', '2'),\n",
       "             ('PoSs', '(AV)')])"
      ]
     },
     "execution_count": 98,
     "metadata": {},
     "output_type": "execute_result"
    }
   ],
   "source": [
    "newdic_raw[2]"
   ]
  },
  {
   "cell_type": "code",
   "execution_count": 99,
   "metadata": {
    "ExecuteTime": {
     "end_time": "2019-05-15T20:20:06.925524Z",
     "start_time": "2019-05-15T20:20:06.841322Z"
    }
   },
   "outputs": [
    {
     "data": {
      "text/plain": [
       "{'Transcription': 'ə.b.æ.k',\n",
       " 'stressInfoA': \"_'\",\n",
       " 'stressInfoB': 'S2',\n",
       " 'Orthography': 'aback',\n",
       " 'Frequency': '2',\n",
       " 'PoSs': '(AV)'}"
      ]
     },
     "execution_count": 99,
     "metadata": {},
     "output_type": "execute_result"
    },
    {
     "data": {
      "text/plain": [
       "OrderedDict([('Transcription', 'xb@k'),\n",
       "             ('stressInfoA', \"_'\"),\n",
       "             ('stressInfoB', 'S2'),\n",
       "             ('Orthography', 'aback'),\n",
       "             ('Frequency', '2'),\n",
       "             ('PoSs', '(AV)')])"
      ]
     },
     "execution_count": 99,
     "metadata": {},
     "output_type": "execute_result"
    }
   ],
   "source": [
    "IPAify_newdic_entry(newdic_raw[2])\n",
    "newdic_raw[2]"
   ]
  },
  {
   "cell_type": "code",
   "execution_count": 100,
   "metadata": {
    "ExecuteTime": {
     "end_time": "2019-05-15T20:20:07.271442Z",
     "start_time": "2019-05-15T20:20:06.927247Z"
    }
   },
   "outputs": [
    {
     "data": {
      "text/plain": [
       "{'Transcription': 'ə.b.æ.k',\n",
       " 'stressInfoA': \"_'\",\n",
       " 'stressInfoB': 'S2',\n",
       " 'Orthography': 'aback',\n",
       " 'Frequency': '2',\n",
       " 'PoSs': '(AV)'}"
      ]
     },
     "execution_count": 100,
     "metadata": {},
     "output_type": "execute_result"
    }
   ],
   "source": [
    "newdic_IPA = list(map(IPAify_newdic_entry, newdic_raw))\n",
    "newdic_IPA[2]"
   ]
  },
  {
   "cell_type": "markdown",
   "metadata": {},
   "source": [
    "## Write to file / read back in"
   ]
  },
  {
   "cell_type": "code",
   "execution_count": 101,
   "metadata": {
    "ExecuteTime": {
     "end_time": "2019-05-15T20:20:07.276136Z",
     "start_time": "2019-05-15T20:20:07.272744Z"
    }
   },
   "outputs": [
    {
     "data": {
      "text/plain": [
       "'/mnt/cube/home/AD/emeinhar/newdic-nettalk-ipa'"
      ]
     },
     "execution_count": 101,
     "metadata": {},
     "output_type": "execute_result"
    }
   ],
   "source": [
    "%pwd"
   ]
  },
  {
   "cell_type": "code",
   "execution_count": 102,
   "metadata": {
    "ExecuteTime": {
     "end_time": "2019-05-15T20:20:07.477937Z",
     "start_time": "2019-05-15T20:20:07.277451Z"
    }
   },
   "outputs": [
    {
     "name": "stdout",
     "output_type": "stream",
     "text": [
      "'Converting Hammond'\\''s newdic (NETtalk) to Unicode IPA symbols.ipynb'\r\n",
      " newdic_IPA.tsv\r\n",
      " newdic.txt\r\n"
     ]
    }
   ],
   "source": [
    "%ls *newdic*"
   ]
  },
  {
   "cell_type": "code",
   "execution_count": 103,
   "metadata": {
    "ExecuteTime": {
     "end_time": "2019-05-15T20:20:07.482856Z",
     "start_time": "2019-05-15T20:20:07.480174Z"
    }
   },
   "outputs": [],
   "source": [
    "import csv"
   ]
  },
  {
   "cell_type": "code",
   "execution_count": 104,
   "metadata": {
    "ExecuteTime": {
     "end_time": "2019-05-15T20:20:07.491337Z",
     "start_time": "2019-05-15T20:20:07.484623Z"
    }
   },
   "outputs": [
    {
     "data": {
      "text/plain": [
       "{'Transcription': 'ə',\n",
       " 'stressInfoA': '_',\n",
       " 'stressInfoB': 'S1',\n",
       " 'Orthography': 'a',\n",
       " 'Frequency': '23178',\n",
       " 'PoSs': '(N IA VB PP)'}"
      ]
     },
     "execution_count": 104,
     "metadata": {},
     "output_type": "execute_result"
    }
   ],
   "source": [
    "newdic_IPA[0]"
   ]
  },
  {
   "cell_type": "code",
   "execution_count": 105,
   "metadata": {
    "ExecuteTime": {
     "end_time": "2019-05-15T20:20:07.498873Z",
     "start_time": "2019-05-15T20:20:07.492844Z"
    }
   },
   "outputs": [
    {
     "data": {
      "text/plain": [
       "6"
      ]
     },
     "execution_count": 105,
     "metadata": {},
     "output_type": "execute_result"
    },
    {
     "data": {
      "text/plain": [
       "['Transcription',\n",
       " 'stressInfoA',\n",
       " 'stressInfoB',\n",
       " 'Orthography',\n",
       " 'Frequency',\n",
       " 'PoSs']"
      ]
     },
     "execution_count": 105,
     "metadata": {},
     "output_type": "execute_result"
    }
   ],
   "source": [
    "theFieldnames = ['Transcription', 'stressInfoA', 'stressInfoB', 'Orthography', 'Frequency', 'PoSs']\n",
    "len(theFieldnames)\n",
    "theFieldnames"
   ]
  },
  {
   "cell_type": "code",
   "execution_count": 106,
   "metadata": {
    "ExecuteTime": {
     "end_time": "2019-05-15T20:20:07.502697Z",
     "start_time": "2019-05-15T20:20:07.500364Z"
    }
   },
   "outputs": [],
   "source": [
    "newdic_IPA_stem = 'newdic_IPA'"
   ]
  },
  {
   "cell_type": "code",
   "execution_count": 107,
   "metadata": {
    "ExecuteTime": {
     "end_time": "2019-05-15T20:20:07.591103Z",
     "start_time": "2019-05-15T20:20:07.504056Z"
    }
   },
   "outputs": [],
   "source": [
    "with open(newdic_IPA_stem + '.tsv', 'w', newline='', encoding='utf-8') as csvfile:\n",
    "    writer = csv.DictWriter(csvfile, delimiter='\\t', fieldnames=theFieldnames)\n",
    "    writer.writeheader()\n",
    "    writer.writerows(newdic_IPA)"
   ]
  },
  {
   "cell_type": "code",
   "execution_count": 108,
   "metadata": {
    "ExecuteTime": {
     "end_time": "2019-05-15T20:20:07.597063Z",
     "start_time": "2019-05-15T20:20:07.593122Z"
    }
   },
   "outputs": [
    {
     "data": {
      "text/plain": [
       "'/mnt/cube/home/AD/emeinhar/newdic-nettalk-ipa'"
      ]
     },
     "execution_count": 108,
     "metadata": {},
     "output_type": "execute_result"
    }
   ],
   "source": [
    "%pwd"
   ]
  },
  {
   "cell_type": "code",
   "execution_count": 109,
   "metadata": {
    "ExecuteTime": {
     "end_time": "2019-05-15T20:20:07.711773Z",
     "start_time": "2019-05-15T20:20:07.598599Z"
    }
   },
   "outputs": [
    {
     "name": "stdout",
     "output_type": "stream",
     "text": [
      "newdic_IPA.tsv  newdic.txt\r\n"
     ]
    }
   ],
   "source": [
    "%ls newdic*"
   ]
  },
  {
   "cell_type": "code",
   "execution_count": 110,
   "metadata": {
    "ExecuteTime": {
     "end_time": "2019-05-15T20:20:07.848274Z",
     "start_time": "2019-05-15T20:20:07.714269Z"
    }
   },
   "outputs": [
    {
     "name": "stdout",
     "output_type": "stream",
     "text": [
      "     1\tTranscription\tstressInfoA\tstressInfoB\tOrthography\tFrequency\tPoSs\r",
      "\r\n",
      "     2\tə\t_\tS1\ta\t23178\t(N IA VB PP)\r",
      "\r\n",
      "     3\tɑ.ɹ.d.v.ɑ.ɹ.k\t'`\tS2\taardvark\t0\t(N)\r",
      "\r\n",
      "     4\tə.b.æ.k\t_'\tS2\taback\t2\t(AV)\r",
      "\r\n",
      "     5\tæ.b.ə.k.ə.s\t'__\tS3\tabacus\t0\t(N)\r",
      "\r\n",
      "     6\tə.b.æ.f.t\t_'\tS2\tabaft\t0\t(AV PP)\r",
      "\r\n",
      "     7\tæ.b.ə.l.oʊ.n.i\t`_'_\tS4\tabalone\t0\t(N)\r",
      "\r\n",
      "     8\tə.b.æ.n.d.ɪ.n\t_'_\tS3\tabandon\t17\t(VT N)\r",
      "\r\n",
      "     9\tə.b.eɪ.s\t_'\tS2\tabase\t0\t(VT)\r",
      "\r\n",
      "    10\tə.b.æ.ʃ\t_'\tS2\tabash\t0\t(VT)\r",
      "\r\n",
      "    11\tə.b.eɪ.t\t_'\tS2\tabate\t0\t(VT VI)\r",
      "\r\n",
      "    12\tæ.b.ə.t.i\t'_`\tS3\tabatis\t0\t(N)\r",
      "\r\n",
      "    13\tæ.b.ə.t.w.ɑ.ɹ\t'_`\tS3\tabattoir\t0\t(N)\r",
      "\r\n",
      "    14\tæ.b.ə.s.i\t'__\tS3\tabbacy\t0\t(N)\r",
      "\r\n",
      "    15\tæ.b.eɪ\t_'\tS2\tabbe\t3\t(N)\r",
      "\r\n",
      "    16\tæ.b.ə.s\t'_\tS2\tabbess\t0\t(N)\r",
      "\r\n",
      "    17\tæ.b.i\t'_\tS2\tabbey\t7\t(N)\r",
      "\r\n",
      "    18\tæ.b.ə.t\t'_\tS2\tabbot\t2\t(N)\r",
      "\r\n",
      "    19\tə.b.ɹ.i.v.i.eɪ.t\t_'_`\tS4\tabbreviate\t0\t(VT)\r",
      "\r\n",
      "    20\tə.b.ɹ.i.v.i.eɪ.ʃ.ɪ.n\t_`_'_\tS5\tabbreviation\t1\t(N)\r",
      "\r\n",
      "    21\tæ.b.d.ɪ.k.eɪ.t\t'_`\tS3\tabdicate\t0\t(VT VI)\r",
      "\r\n",
      "    22\tæ.b.d.ɪ.k.eɪ.ʃ.ɪ.n\t`_'_\tS4\tabdication\t0\t(N)\r",
      "\r\n",
      "    23\tæ.b.d.ə.m.ə.n\t'__\tS3\tabdomen\t6\t(N)\r",
      "\r\n",
      "    24\tæ.b.d.ɑ.m.ə.n.l̩\t_'__\tS4\tabdominal\t4\t(AJ)\r",
      "\r\n",
      "    25\tæ.b.d.ʌ.k.t\t_'\tS2\tabduct\t0\t(VT)\r",
      "\r\n",
      "    26\tə.b.i.m\t_'\tS2\tabeam\t0\t(AV)\r",
      "\r\n",
      "    27\teɪ.b.i.s.i.d.ɛ.ɹ.i.ə.n\t`_`'__\tS6\tabecedarian\t0\t(N AJ)\r",
      "\r\n",
      "    28\tə.b.ɛ.d\t_'\tS2\tabed\t1\t(AV)\r",
      "\r\n",
      "    29\tæ.b.ɛ.ɹ.ə.n.t\t_'_\tS3\taberrant\t5\t(AJ N)\r",
      "\r\n",
      "    30\tæ.b.ɚ.eɪ.ʃ.ɪ.n\t`_'_\tS4\taberration\t3\t(N)\r",
      "\r\n",
      "    31\tə.b.ɛ.t\t_'\tS2\tabet\t0\t(VT)\r",
      "\r\n",
      "    32\tə.b.eɪ.ə.n.s\t_'_\tS3\tabeyance\t3\t(N)\r",
      "\r\n",
      "    33\tə.b.h.ɔ.ɹ\t_'\tS2\tabhor\t0\t(VT)\r",
      "\r\n",
      "    34\tə.b.aɪ.d\t_'\tS2\tabide\t7\t(VT VI N)\r",
      "\r\n",
      "    35\tə.b.ɪ.l.ɪ.t.i\t_'__\tS4\tability\t74\t(N)\r",
      "\r\n",
      "    36\tæ.b.dʒ.ɛ.k.t\t'`\tS2\tabject\t3\t(AJ)\r",
      "\r\n",
      "    37\tæ.b.dʒ.ɛ.k.ʃ.ɪ.n\t_'_\tS3\tabjection\t1\t(N)\r",
      "\r\n",
      "    38\tæ.b.dʒ.ɛ.k.t.l.i\t'`_\tS3\tabjectly\t1\t(AV)\r",
      "\r\n",
      "    39\tæ.b.dʒ.ə.ɹ.eɪ.ʃ.ɪ.n\t`_'_\tS4\tabjuration\t0\t(N)\r",
      "\r\n",
      "    40\tæ.b.dʒ.ʊ.ɹ\t_'\tS2\tabjure\t0\t(VT)\r",
      "\r\n",
      "    41\tæ.b.l.eɪ.t\t_'\tS2\tablate\t0\t(VT VI)\r",
      "\r\n",
      "    42\tæ.b.l.ə.t.ɪ.v\t'__\tS3\tablative\t0\t(AJ)\r",
      "\r\n",
      "    43\tə.b.l.eɪ.z\t_'\tS2\tablaze\t3\t(AJ)\r",
      "\r\n",
      "    44\teɪ.b.l̩\t'_\tS2\table\t216\t(AJ)\r",
      "\r\n",
      "    45\tə.b.l.u.m\t_'\tS2\tabloom\t0\t(AJ)\r",
      "\r\n",
      "    46\tə.b.l.u.ʃ.ɪ.n\t_'_\tS3\tablution\t0\t(N)\r",
      "\r\n",
      "    47\tæ.b.n.ɪ.g.eɪ.t\t'_`\tS3\tabnegate\t0\t(VT)\r",
      "\r\n",
      "    48\tæ.b.n.ɪ.g.eɪ.ʃ.ɪ.n\t`_'_\tS4\tabnegation\t0\t(N)\r",
      "\r\n",
      "    49\tæ.b.n.ɔ.ɹ.m.l̩\t`'_\tS3\tabnormal\t3\t(AJ)\r",
      "\r\n",
      "    50\tæ.b.n.ɔ.ɹ.m.æ.l.ɪ.t.i\t``'__\tS5\tabnormality\t0\t(N)\r",
      "\r\n",
      "    51\tæ.b.n.ɔ.ɹ.m.l̩.i\t_'__\tS4\tabnormally\t1\t(AV)\r",
      "\r\n",
      "    52\tə.b.oʊ.ɹ.d\t_'\tS2\taboard\t25\t(AV PP)\r",
      "\r\n",
      "    53\tə.b.oʊ.d\t_'\tS2\tabode\t4\t(N)\r",
      "\r\n",
      "    54\tə.b.ɑ.l.ɪ.ʃ\t_'_\tS3\tabolish\t8\t(VT)\r",
      "\r\n",
      "    55\tæ.b.ə.l.ɪ.ʃ.ɪ.n\t`_'_\tS4\tabolition\t10\t(N)\r",
      "\r\n",
      "    56\tæ.b.ə.l.ɪ.ʃ.ɪ.n.ɪ.s.t\t`_'__\tS5\tabolitionist\t1\t(N AJ)\r",
      "\r\n",
      "    57\tə.b.ɑ.m.ə.n.ə.b.l̩\t_'___\tS5\tabominable\t0\t(AJ)\r",
      "\r\n",
      "    58\tə.b.ɑ.m.ə.n.eɪ.t\t_'_`\tS4\tabominate\t0\t(VT)\r",
      "\r\n",
      "    59\tæ.b.ɚ.ɪ.dʒ.ɪ.n.l̩\t__'__\tS5\taboriginal\t1\t(AJ)\r",
      "\r\n",
      "    60\tæ.b.ɚ.ɪ.dʒ.ɪ.n.i\t`_'_`\tS5\taborigine\t7\t(N)\r",
      "\r\n",
      "cat: write error: Broken pipe\r\n"
     ]
    }
   ],
   "source": [
    "%cat -n newdic_IPA.tsv | head -60"
   ]
  }
 ],
 "metadata": {
  "anaconda-cloud": {},
  "kernelspec": {
   "display_name": "Python 3",
   "language": "python",
   "name": "python3"
  },
  "language_info": {
   "codemirror_mode": {
    "name": "ipython",
    "version": 3
   },
   "file_extension": ".py",
   "mimetype": "text/x-python",
   "name": "python",
   "nbconvert_exporter": "python",
   "pygments_lexer": "ipython3",
   "version": "3.6.8"
  },
  "latex_envs": {
   "LaTeX_envs_menu_present": true,
   "autocomplete": true,
   "bibliofile": "biblio.bib",
   "cite_by": "apalike",
   "current_citInitial": 1,
   "eqLabelWithNumbers": true,
   "eqNumInitial": 1,
   "hotkeys": {
    "equation": "Ctrl-E",
    "itemize": "Ctrl-I"
   },
   "labels_anchors": false,
   "latex_user_defs": false,
   "report_style_numbering": false,
   "user_envs_cfg": false
  },
  "toc": {
   "base_numbering": 1,
   "nav_menu": {
    "height": "348px",
    "width": "252px"
   },
   "number_sections": true,
   "sideBar": false,
   "skip_h1_title": false,
   "title_cell": "Table of Contents",
   "title_sidebar": "Contents",
   "toc_cell": true,
   "toc_position": {},
   "toc_section_display": "block",
   "toc_window_display": false
  },
  "varInspector": {
   "cols": {
    "lenName": 16,
    "lenType": 16,
    "lenVar": 40
   },
   "kernels_config": {
    "python": {
     "delete_cmd_postfix": "",
     "delete_cmd_prefix": "del ",
     "library": "var_list.py",
     "varRefreshCmd": "print(var_dic_list())"
    },
    "r": {
     "delete_cmd_postfix": ") ",
     "delete_cmd_prefix": "rm(",
     "library": "var_list.r",
     "varRefreshCmd": "cat(var_dic_list()) "
    }
   },
   "types_to_exclude": [
    "module",
    "function",
    "builtin_function_or_method",
    "instance",
    "_Feature"
   ],
   "window_display": false
  }
 },
 "nbformat": 4,
 "nbformat_minor": 2
}
